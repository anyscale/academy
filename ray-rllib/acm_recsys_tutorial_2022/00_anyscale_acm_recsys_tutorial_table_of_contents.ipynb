{
 "cells": [
  {
   "cell_type": "markdown",
   "id": "81c74fa0-cd5b-46f5-b25e-fafbdc530e1e",
   "metadata": {},
   "source": [
    "# Anyscale Tutorial for ACM RecSys 2022\n",
    "\n",
    "© 2019-2022, Anyscale. All Rights Reserved\n",
    "\n",
    "![Anyscale Academy](../../images/AnyscaleAcademyLogo.png)\n",
    "\n",
    "\n",
    "## About This Tutorial\n",
    "\n",
    "\n",
    "See the instructions in the [README](README.md) tutorial overview and setting up your environment to use this tutorial if you want to run this on your laptop.\n",
    "\n",
    "If you are using Anyscale hosted enviroment for this class, then you do not have to do anything!\n"
   ]
  },
  {
   "cell_type": "markdown",
   "id": "2e96914c-d140-465d-b062-2fb8c7f79698",
   "metadata": {},
   "source": [
    "|     | Lesson | Description |\n",
    "| :-- | :----- | :---------- |\n",
    "|     | **Homework** | Suggested if you are a beginner to RL |\n",
    "| 01  | [Intro to RL, RLlib and Gym Environment APIs](01_intro_gym_and_rllib_optional.ipynb) | Introduction to Reinforcement Learning, RLlib, and the OpenAI Gym Env APIs |\n",
    "|     | **Main Notebook** |\n",
    "| 02  | [Create your RL RecSys Environment and Online RL Algorithm](02_anyscale_acm_recsys_tutorial_dryrun_2.ipynb) | Online RL bandits, DQN |\n",
    "|     | **BREAK -5min** |\n",
    "| 03  | [Train using possibly data from traditional ML fed into Offline RL Algorithm](02_anyscale_acm_recsys_tutorial_dryrun_2.ipynb#offline-rl) | Offline RL |\n",
    "\n",
    "<br>\n"
   ]
  },
  {
   "cell_type": "markdown",
   "id": "a6d6e404-842a-4939-b8b4-5987831afccc",
   "metadata": {},
   "source": [
    "## Getting Help\n",
    "\n",
    "* The [#tutorial channel](https://ray-distributed.slack.com/archives/C011ML23W5B) on the [Ray Slack](https://ray-distributed.slack.com). [Click here](https://forms.gle/9TSdDYUgxYs8SA9e8) to join.\n",
    "* [Email](mailto:academy@anyscale.com)\n",
    "\n",
    "Find an issue? Please report it!\n",
    "\n",
    "* [GitHub issues](https://github.com/anyscale/academy/issues)\n"
   ]
  },
  {
   "cell_type": "markdown",
   "id": "0cef5ec0-2dc0-4bb7-90eb-35878b0124fa",
   "metadata": {},
   "source": [
    "## Give Us Feedback!\n",
    "\n",
    "Let us know what you like (and don't like) about this RLlib RecSys tutorial.\n",
    "\n",
    "* [Survey](https://docs.google.com/forms/d/1pxsMIPMxTTd2HH6710UOApx_smPDPPO0fpVWYKzvOgI/edit)"
   ]
  },
  {
   "cell_type": "code",
   "execution_count": null,
   "id": "340779a2-901f-4e31-8909-5fbc09834427",
   "metadata": {},
   "outputs": [],
   "source": []
  }
 ],
 "metadata": {
  "kernelspec": {
   "display_name": "Python 3 (ipykernel)",
   "language": "python",
   "name": "python3"
  },
  "language_info": {
   "codemirror_mode": {
    "name": "ipython",
    "version": 3
   },
   "file_extension": ".py",
   "mimetype": "text/x-python",
   "name": "python",
   "nbconvert_exporter": "python",
   "pygments_lexer": "ipython3",
   "version": "3.8.13"
  }
 },
 "nbformat": 4,
 "nbformat_minor": 5
}

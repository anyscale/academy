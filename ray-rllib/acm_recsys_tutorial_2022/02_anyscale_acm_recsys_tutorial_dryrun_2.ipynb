{
 "cells": [
  {
   "cell_type": "markdown",
   "metadata": {},
   "source": [
    "© 2019-2022, Anyscale. All Rights Reserved\n",
    "\n",
    "![Anyscale Academy](../../images/AnyscaleAcademyLogo.png)"
   ]
  },
  {
   "cell_type": "markdown",
   "metadata": {},
   "source": [
    "# Main Tutorial Notebook for RLlib ACM RecSys 2022\n",
    "\n",
    "### Learning objectives\n",
    "In this this tutorial, you will learn about:\n",
    " * [Defining a MDP for recommendation system using gym API](#recsys) -15 min\n",
    " * [Online RL - Bandits](#bandits) -15 min\n",
    " * [Online RL - DQN](#dqn) -15 min\n",
    " * [Break](#break) -5 min\n",
    " * [Offline RL](#offline-rl) -15 min\n",
    "\n",
    "[Link to slides](https://github.com/anyscale/academy/blob/main/ray-rllib/acm_recsys_tutorial_2022/slides/rllib_acm_recsys_2022_slides.pdf)"
   ]
  },
  {
   "cell_type": "markdown",
   "metadata": {},
   "source": [
    "<img src=\"./images/tutorial_overview.png\" width=\"70%\" />"
   ]
  },
  {
   "cell_type": "code",
   "execution_count": 1,
   "metadata": {},
   "outputs": [],
   "source": [
    "# uncomment for running on anyscale\n",
    "# import os; os.environ[\"PATH\"] = \"/home/ray/anaconda3/bin:\" + os.environ[\"PATH\"]\n",
    "# !pip uninstall -y torch\n",
    "# !python -m pip install torch==1.12.1\n",
    "# !python -m pip install seaborn\n",
    "# import torch\n",
    "# print(f\"torch: {torch.__version__}\")\n",
    "\n",
    "# !pip uninstall -y -r matplotlib\n",
    "# !python3 -m pip install matplotlib==3.5.3\n",
    "# import matplotlib\n",
    "# print(f\"matplotlib: {matplotlib.__version__}\")"
   ]
  },
  {
   "cell_type": "code",
   "execution_count": 2,
   "metadata": {},
   "outputs": [
    {
     "name": "stderr",
     "output_type": "stream",
     "text": [
      "/home/ray/anaconda3/lib/python3.8/site-packages/scipy/__init__.py:138: UserWarning: A NumPy version >=1.16.5 and <1.23.0 is required for this version of SciPy (detected version 1.23.3)\n",
      "  warnings.warn(f\"A NumPy version >={np_minversion} and <{np_maxversion} is required for this version of \"\n",
      "2022-09-15 17:54:59.443585: W tensorflow/stream_executor/platform/default/dso_loader.cc:64] Could not load dynamic library 'libcudart.so.11.0'; dlerror: libcudart.so.11.0: cannot open shared object file: No such file or directory; LD_LIBRARY_PATH: /home/ray/anaconda3/lib/python3.8/site-packages/cv2/../../lib64:\n",
      "2022-09-15 17:54:59.443611: I tensorflow/stream_executor/cuda/cudart_stub.cc:29] Ignore above cudart dlerror if you do not have a GPU set up on your machine.\n"
     ]
    }
   ],
   "source": [
    "import time\n",
    "import random\n",
    "import numpy as np\n",
    "\n",
    "import pickle\n",
    "import seaborn as sns\n",
    "import matplotlib.pyplot as plt\n",
    "\n",
    "from pprint import pprint\n",
    "from rllib_recsim.utils import pretty_print_configs"
   ]
  },
  {
   "cell_type": "code",
   "execution_count": 3,
   "metadata": {},
   "outputs": [],
   "source": [
    "from ray import tune, rllib, data, air\n",
    "from ray.tune import register_env"
   ]
  },
  {
   "cell_type": "code",
   "execution_count": 4,
   "metadata": {},
   "outputs": [],
   "source": [
    "import recsim \n",
    "# import custom long-term satisfaction recommendation system gym env\n",
    "from rllib_recsim.rllib_recsim import ModifiedLongTermSatisfactionRecSimEnv"
   ]
  },
  {
   "cell_type": "markdown",
   "metadata": {},
   "source": [
    "## RecSim <a class=\"anchor\" id=\"recsys\"></a>\n",
    "\n",
    "In this notebook, we will use <b><a href=\"https://github.com/google-research/recsim\">Google's RecSim environment</a></b>, which was developed for the YouTube recommendation problem.  It is a configurable environment, where ideally you would plug in your own users, products, and embedding features.\n",
    "\n",
    "**Some further readings**\n",
    "\n",
    "- <a href=\"https://github.com/google-research/recsim\">RecSim github</a>\n",
    "- <a href=\"https://arxiv.org/pdf/1909.04847.pdf\">RecSim paper</a>\n",
    "\n",
    "The following image depicts all the components of the recsim packages:\n",
    "\n",
    "<img src=\"./images/recsim_environment.png\" width=\"70%\" />\n",
    "\n",
    "The environment is <i>Timelimit-based</i>, meaning the termination condition for an episode will be after a fixed number (10) of videos are watched. \n",
    "\n",
    "### Document Model\n",
    "\n",
    "<img src=\"./images/document_model.png\" width=\"70%\" />\n",
    "\n",
    "Documents represent the candidate pool of items that need to be recommended with features sampled in the range [0, 1].  In this tutorial, we use <b>1 single feature \"sweetness\"</b> drawn from a uniform distribution between [0.8, 1.0] to represent \"chocolaty\" items and [0, 0.2] for the \"kaley\" options. \n",
    "- The documents can be different at each step (produced by some \"candidate generation\" process), or fixed throughout the simulation.\n",
    "- The recommendation algorithm observes the D candidate documents.  It then makes a selection (possibly ordered) of k documents and presents them in a \"slate\" to the user. We will focus on **slate size of 1** in this tutorial. "
   ]
  },
  {
   "cell_type": "code",
   "execution_count": 5,
   "metadata": {},
   "outputs": [
    {
     "name": "stdout",
     "output_type": "stream",
     "text": [
      "<ModifiedLongTermSatisfactionRecSimEnv<RecSimRewardScalingWrapper<MultiDiscreteToDiscreteActionWrapper<RecSimObservationSpaceWrapper<RecSimResetWrapper<RecSimGymEnv instance>>>>>>\n"
     ]
    }
   ],
   "source": [
    "env = ModifiedLongTermSatisfactionRecSimEnv()\n",
    "print(env)"
   ]
  },
  {
   "cell_type": "markdown",
   "metadata": {},
   "source": [
    "The printed environment shows the main RecSim environment which follows [gym API](https://www.gymlibrary.dev/api/core/). For more info on how the environment is actually implemented we refer you to the source code acompanied with this tutorial [link](https://github.com/anyscale/academy/blob/main/ray-rllib/acm_recsys_tutorial_2022/rllib_recsim/rllib_recsim.py).\n",
    "\n",
    "Let's use `env.reset()` to begin the interaction with the environment:\n",
    "\n",
    "```\n",
    "gym.Env.reset(self, *, seed: Optional[int] = None, options: Optional[dict] = None) → Tuple[ObsType, dict]\n",
    "Resets the environment to an initial state and returns the initial observation.\n",
    "```"
   ]
  },
  {
   "cell_type": "code",
   "execution_count": 6,
   "metadata": {},
   "outputs": [
    {
     "name": "stdout",
     "output_type": "stream",
     "text": [
      "OrderedDict([('user', array([], dtype=float32)),\n",
      "             ('doc',\n",
      "              {'0': array([0.99572366], dtype=float32),\n",
      "               '1': array([0.15983172], dtype=float32),\n",
      "               '10': array([0.8529111], dtype=float32),\n",
      "               '11': array([0.15484674], dtype=float32),\n",
      "               '12': array([0.89123005], dtype=float32),\n",
      "               '13': array([0.11368679], dtype=float32),\n",
      "               '14': array([0.80375797], dtype=float32),\n",
      "               '15': array([0.1235271], dtype=float32),\n",
      "               '16': array([0.92241913], dtype=float32),\n",
      "               '17': array([0.1233868], dtype=float32),\n",
      "               '18': array([0.9887496], dtype=float32),\n",
      "               '19': array([0.13636406], dtype=float32),\n",
      "               '2': array([0.8922959], dtype=float32),\n",
      "               '3': array([0.15610583], dtype=float32),\n",
      "               '4': array([0.8236549], dtype=float32),\n",
      "               '5': array([0.12798421], dtype=float32),\n",
      "               '6': array([0.8286707], dtype=float32),\n",
      "               '7': array([0.18893379], dtype=float32),\n",
      "               '8': array([0.90436965], dtype=float32),\n",
      "               '9': array([0.08293239], dtype=float32)}),\n",
      "             ('response',\n",
      "              (OrderedDict([('click', 1),\n",
      "                            ('engagement', array(-1., dtype=float32))]),)),\n",
      "             ('time', array([-0.5], dtype=float32))])\n"
     ]
    }
   ],
   "source": [
    "obs = env.reset()\n",
    "pprint(obs)"
   ]
  },
  {
   "cell_type": "markdown",
   "metadata": {},
   "source": [
    "### User Model\n",
    "\n",
    "<img src=\"./images/user_model.png\" width=\"70%\" />\n",
    "\n",
    "In RecSim users are representation by a set of features some of which could be latent hidden variables not observed by our recommendation system during live interaction. In this tutorial we assume that a sampled user from the world does not own any observable features like age, gender, etc. and our AI should infer the latent state of the user from its history of interactions in the current session. \n",
    "- The user examines a \"slate\" of recommended items and makes a choice of one item. After making their choice, the user emits an engagement score which indicates how much that user was engaged with that particular item they chose. The agent has to learn to estimate the latent states of the user that shape their choice model in the future. "
   ]
  },
  {
   "cell_type": "code",
   "execution_count": 7,
   "metadata": {},
   "outputs": [
    {
     "data": {
      "text/plain": [
       "array([], dtype=float32)"
      ]
     },
     "execution_count": 7,
     "metadata": {},
     "output_type": "execute_result"
    }
   ],
   "source": [
    "# observable user features\n",
    "obs['user']"
   ]
  },
  {
   "cell_type": "code",
   "execution_count": 8,
   "metadata": {},
   "outputs": [
    {
     "name": "stdout",
     "output_type": "stream",
     "text": [
      "{'choc_mean': 5.0,\n",
      " 'choc_stddev': 0.0,\n",
      " 'innovation_stddev': 1e-05,\n",
      " 'kale_mean': 0.0,\n",
      " 'kale_stddev': 0.0,\n",
      " 'memory_discount': 0.7,\n",
      " 'net_positive_exposure': 1.0,\n",
      " 'satisfaction': 0.7109495026250039,\n",
      " 'sensitivity': 0.9,\n",
      " 'time_budget': 10}\n"
     ]
    }
   ],
   "source": [
    "# latent user features (HACK: we can cheat and access the user state within the env)\n",
    "pprint(env.get_user_state())"
   ]
  },
  {
   "cell_type": "markdown",
   "metadata": {},
   "source": [
    "### User Choice\n",
    "\n",
    "<img src=\"./images/user_choice_model.png\" width=\"70%\" />\n",
    "\n",
    "This module controls how a particular user would **respond** to a set of recommendations and how its **latent state would evolve** as a function of this interaction. \n",
    "In the environment in this tutorial, engagement is assumed to be a function of two competing phenomenas:\n",
    "-   The love of the user for sweet items ($sweetness(item_t)$)\n",
    "-   The long term satisfaction which cares about healthier options. It is inversely correlated with the sweetness of items suggested so far ($satisfaction_{t-1}$)\n",
    "\n",
    "$$satisfaction_t := satisfaction_{t-1} * \\sigma(-sweetness(item_{t}))$$\n",
    "$$r(item_t) \\propto sweetness(item_t) * satisfaction_{t-1}$$\n",
    "\n",
    "i.e. If a user who loves chocolates have not had chocolate for a while, a chocolate item would be more engaging than a kaley item. On the other hand if we keep recommending chocolate to the same person, they may lose interest and not use our recommendations. "
   ]
  },
  {
   "cell_type": "code",
   "execution_count": 9,
   "metadata": {},
   "outputs": [
    {
     "name": "stdout",
     "output_type": "stream",
     "text": [
      "OrderedDict([('user', array([], dtype=float32)),\n",
      "             ('doc',\n",
      "              {'0': array([0.8719016], dtype=float32),\n",
      "               '1': array([0.08740639], dtype=float32),\n",
      "               '10': array([0.9140394], dtype=float32),\n",
      "               '11': array([0.0877203], dtype=float32),\n",
      "               '12': array([0.99767476], dtype=float32),\n",
      "               '13': array([0.02040896], dtype=float32),\n",
      "               '14': array([0.84177536], dtype=float32),\n",
      "               '15': array([0.0322619], dtype=float32),\n",
      "               '16': array([0.9306217], dtype=float32),\n",
      "               '17': array([0.05065832], dtype=float32),\n",
      "               '18': array([0.89326215], dtype=float32),\n",
      "               '19': array([0.04888512], dtype=float32),\n",
      "               '2': array([0.93952626], dtype=float32),\n",
      "               '3': array([0.01204509], dtype=float32),\n",
      "               '4': array([0.93335336], dtype=float32),\n",
      "               '5': array([0.13412757], dtype=float32),\n",
      "               '6': array([0.84207654], dtype=float32),\n",
      "               '7': array([0.02578526], dtype=float32),\n",
      "               '8': array([0.8630857], dtype=float32),\n",
      "               '9': array([0.07274216], dtype=float32)}),\n",
      "             ('response',\n",
      "              (OrderedDict([('click', 0),\n",
      "                            ('engagement', array(-1., dtype=float32))]),)),\n",
      "             ('time', array([-0.5], dtype=float32))])\n"
     ]
    }
   ],
   "source": [
    "obs = env.reset()\n",
    "pprint(obs)"
   ]
  },
  {
   "cell_type": "markdown",
   "metadata": {},
   "source": [
    "The observation space is a dictionary of four keys. \n",
    "- The `user` key is empty, because there is no observable user features. \n",
    "- The `doc` key contains a set of documents presented with numerical keys. Each doc item has a scalar score representing its sweetness. \n",
    "- The `response` key includes a single record of `click` and `engagement` from the immediate previous interaction. \n",
    "- The `time` shows a normalized timestep within the session for this user. -0.5 corresponds to the beginnig of the interaction and +0.5 corresponds to the end of the interaction."
   ]
  },
  {
   "cell_type": "markdown",
   "metadata": {},
   "source": [
    "Let's now checkout environment's reward behavior. Let's see what happens if we always pick the sweetest item and plot the reward over time."
   ]
  },
  {
   "cell_type": "code",
   "execution_count": 10,
   "metadata": {},
   "outputs": [],
   "source": [
    "# Let's checkout the reward space\n",
    "# TODO: code here\n",
    "rewards = []"
   ]
  },
  {
   "cell_type": "code",
   "execution_count": 11,
   "metadata": {},
   "outputs": [
    {
     "data": {
      "text/plain": [
       "Text(0.5, 0, 'step')"
      ]
     },
     "execution_count": 11,
     "metadata": {},
     "output_type": "execute_result"
    },
    {
     "data": {
      "image/png": "[encoded data removed]",
      "text/plain": [
       "<Figure size 640x480 with 1 Axes>"
      ]
     },
     "metadata": {},
     "output_type": "display_data"
    }
   ],
   "source": [
    "plt.plot(rewards)\n",
    "plt.ylabel('engagement per step for maximum greedy policy')\n",
    "plt.xlabel('step')"
   ]
  },
  {
   "cell_type": "markdown",
   "metadata": {},
   "source": [
    "We can note a couple of things here already:\n",
    "\n",
    "1. The immediate engagement would be high initially when the sweetest item is suggested for the first time.\n",
    "2. As we keep recommending the sweetest items, the user satisfaction significantly tampers off and as a result engagement quickly drops.\n",
    "3. Episodes seem to last for 10 timesteps."
   ]
  },
  {
   "cell_type": "markdown",
   "metadata": {},
   "source": [
    "#### Exercise (2 min):\n",
    "Instead of picking the item with the highest feature, pick the item with the lowest feature and see what happens?\n",
    "\n",
    "- What do your observations imply about this environment?\n",
    "- What policy maximizes engagement with the user?"
   ]
  },
  {
   "cell_type": "code",
   "execution_count": 12,
   "metadata": {},
   "outputs": [],
   "source": [
    "obs = env.reset()\n",
    "rewards = []\n",
    "done = False\n",
    "while not done:\n",
    "    # TODO (exercise): code here\n",
    "    action = ...\n",
    "    obs, reward, done, info = env.step(action)\n",
    "    rewards.append(reward)"
   ]
  },
  {
   "cell_type": "code",
   "execution_count": 13,
   "metadata": {},
   "outputs": [
    {
     "data": {
      "text/plain": [
       "Text(0.5, 0, 'step')"
      ]
     },
     "execution_count": 13,
     "metadata": {},
     "output_type": "execute_result"
    },
    {
     "data": {
      "image/png": "[encoded data removed]",
      "text/plain": [
       "<Figure size 640x480 with 1 Axes>"
      ]
     },
     "metadata": {},
     "output_type": "display_data"
    }
   ],
   "source": [
    "plt.plot(rewards)\n",
    "plt.ylabel('engagement per step for minimum greedy policy')\n",
    "plt.xlabel('step')"
   ]
  },
  {
   "cell_type": "markdown",
   "metadata": {},
   "source": [
    "## Getting some baselines on trying to maximize engagement\n",
    "Next we will run some simple baselines to get a feeling of the reward we can accumulate in these environments using simple policies.\n",
    "\n",
    "- Greedy minimum feature value (recommending the kaliest option)\n",
    "- Greedy maximum feature value (recommending the chocoletiest option)\n",
    "- random policy (recommending random items from the pool)\n",
    "- even argmin (recommmending alternations between argmax and argmin to keep the engagement high)\n"
   ]
  },
  {
   "cell_type": "code",
   "execution_count": 14,
   "metadata": {},
   "outputs": [],
   "source": [
    "# Function that measures and outputs the random baseline reward.\n",
    "# This computes  the expected accumulated reward per episode, if we act randomly (recommend random items) at each time step.\n",
    "def calc_baseline(baseline_type=\"random\",\n",
    "                  episodes=100):\n",
    "\n",
    "    env = ModifiedLongTermSatisfactionRecSimEnv()\n",
    "    # Reset the env.\n",
    "    obs = env.reset()\n",
    "\n",
    "    # Number of episodes already done.\n",
    "    num_episodes = 0\n",
    "    # Current episode's accumulated reward.\n",
    "    episode_reward = 0.0\n",
    "    epsiode_satisfaction = []\n",
    "    # Collect all episode rewards here to be able to calculate a random baseline reward.\n",
    "    episode_rewards = []\n",
    "    episode_satisfactions = []\n",
    "    \n",
    "    # Enter while loop (to step through the episode).\n",
    "    time_step = 0\n",
    "    while num_episodes < episodes:\n",
    "        # Produce an action\n",
    "        # TODO: code here\n",
    "        random_action = ...\n",
    "        argmax_action = ...\n",
    "        argmin_action = ...\n",
    "\n",
    "        action_dict = {\n",
    "            'argmax': argmax_action, # greedy choc\n",
    "            'argmin': argmin_action, # greedy kale\n",
    "            'random': random_action,\n",
    "        }\n",
    "\n",
    "        action = action_dict[baseline_type]\n",
    "        \n",
    "        # Send the action to the env's `step()` method to receive: obs, reward, done, and info.\n",
    "        obs, reward, done, _ = env.step(action)\n",
    "        \n",
    "        # Accumulate the rewards\n",
    "        episode_reward += reward\n",
    "        \n",
    "        # Append satisfaction to episode_satiscation\n",
    "        epsiode_satisfaction.append(\n",
    "            env.environment._user_model._user_state.satisfaction\n",
    "        )\n",
    "\n",
    "        time_step += 1\n",
    "        # Check, whether the episde is done, if yes, reset and increase episode counter.\n",
    "        if done:\n",
    "            if num_episodes % 99 == 0:\n",
    "                print(f\" {num_episodes} \", end=\"\")\n",
    "            elif num_episodes % 9 == 0:\n",
    "                print(\".\", end=\"\")\n",
    "                \n",
    "            # increment on end of episode\n",
    "            num_episodes += 1\n",
    "            time_step = 0\n",
    "            obs = env.reset()\n",
    "            episode_rewards.append(episode_reward)\n",
    "            episode_reward = 0.0\n",
    "            episode_satisfactions.append(np.mean(epsiode_satisfaction))\n",
    "\n",
    "    # Print out and return mean episode reward (and standard error of the mean).\n",
    "    env_mean_reward = np.mean(episode_rewards)\n",
    "    env_sd_reward = np.std(episode_rewards)\n",
    "\n",
    "    # Print out the satisfaction over the episodes\n",
    "    env_mean_satisfaction = np.mean(episode_satisfactions)\n",
    "    env_sd_satisfaction = np.std(episode_satisfactions)\n",
    "    \n",
    "    print(f\"\\nMean {baseline_type} baseline reward: {env_mean_reward:.2f}+/-{env_sd_reward:.2f}, satisfaction: {env_mean_satisfaction:.2f}+/-{env_sd_satisfaction:.2f}\")\n",
    "\n",
    "    return env_mean_reward, episode_rewards"
   ]
  },
  {
   "cell_type": "code",
   "execution_count": 15,
   "metadata": {},
   "outputs": [
    {
     "name": "stdout",
     "output_type": "stream",
     "text": [
      " 0 .......... 99 .......... 198 .......... 297 .......... 396 .......... 495 .......... 594 .......... 693 .......... 792 .......... 891 .......... 990 .\n",
      "Mean argmin baseline reward: 10.88+/-0.27, satisfaction: 0.91+/-0.00\n",
      " 0 .......... 99 .......... 198 .......... 297 .......... 396 .......... 495 .......... 594 .......... 693 .......... 792 .......... 891 .......... 990 .\n",
      "Mean argmax baseline reward: 56.51+/-1.43, satisfaction: 0.14+/-0.00\n",
      " 0 .......... 99 .......... 198 .......... 297 .......... 396 .......... 495 .......... 594 .......... 693 .......... 792 .......... 891 .......... 990 .\n",
      "Mean random baseline reward: 97.73+/-23.96, satisfaction: 0.52+/-0.01\n"
     ]
    }
   ],
   "source": [
    "num_episodes = 1000\n",
    "kaliest_baseline, _ = calc_baseline(baseline_type=\"argmin\", episodes=num_episodes)\n",
    "sweetest_baseline,  _ = calc_baseline(baseline_type=\"argmax\", episodes=num_episodes)\n",
    "random_baseline, _ = calc_baseline(baseline_type=\"random\", episodes=num_episodes)"
   ]
  },
  {
   "cell_type": "markdown",
   "metadata": {},
   "source": [
    "### Discussion about the baselines\n",
    "\n",
    "For every baseline we have printed out not only the engagement score of the entire user session but also the average of the satisfaction term over the entire session as well.\n",
    "\n",
    "The question is whether we automatically learn an optimal policy in this recommendation enviornement that is better than random?\n"
   ]
  },
  {
   "cell_type": "markdown",
   "metadata": {},
   "source": [
    "## Questions (2 min)\n",
    "\n",
    "- Any questions so far?"
   ]
  },
  {
   "cell_type": "markdown",
   "metadata": {},
   "source": [
    "# Bandit <a class=\"anchor\" id=\"bandits\"></a>\n",
    "\n",
    "Bandit is a classical algorithm used in RecSys that is known to optimize single-step objectives. **They maximize immediate engagement not accumulated engagement over the user session.**\n",
    "\n",
    "Any RL algorithm can be turned into a contextual bandit algorithm if the discount factor of the Markov Decision Process is set to 0.0. This will result in maximizing the immediate reward and hence a bandit solution. \n",
    "\n",
    "<img src=\"./images/gamma_0_vs_1.png\" width=\"70%\" />"
   ]
  },
  {
   "cell_type": "markdown",
   "metadata": {},
   "source": [
    "In this section, we will use Deep Q-Networks([DQN](https://docs.ray.io/en/latest/rllib/rllib-algorithms.html#dqn)) implementation in [RLlib](https://docs.ray.io/en/latest/rllib/index.html) to train an agent both with $\\gamma = 0$ and $\\gamma = 0.99$ to see the difference between a bandit solution and an RL solution.\n"
   ]
  },
  {
   "cell_type": "code",
   "execution_count": 16,
   "metadata": {},
   "outputs": [],
   "source": [
    "# register the environment\n",
    "register_env(\"modified-lts\", \n",
    "    lambda config: ModifiedLongTermSatisfactionRecSimEnv(config)\n",
    ")"
   ]
  },
  {
   "cell_type": "code",
   "execution_count": 17,
   "metadata": {},
   "outputs": [],
   "source": [
    "from ray.rllib.algorithms.dqn import DQNConfig, DQN"
   ]
  },
  {
   "cell_type": "code",
   "execution_count": 18,
   "metadata": {},
   "outputs": [],
   "source": [
    "# set up the environment config\n",
    "bandit_config = DQNConfig()\n",
    "# setup the env\n",
    "bandit_config = bandit_config.environment(env=\"modified-lts\")\n",
    "# setup framework to be torch\n",
    "bandit_config = bandit_config.framework(\"torch\")\n",
    "# setup the gamma\n",
    "bandit_config = bandit_config.training(gamma=0.0)"
   ]
  },
  {
   "cell_type": "code",
   "execution_count": 19,
   "metadata": {},
   "outputs": [
    {
     "data": {
      "text/plain": [
       "{'env': 'modified-lts', 'framework': 'torch', 'gamma': 0.0}"
      ]
     },
     "execution_count": 19,
     "metadata": {},
     "output_type": "execute_result"
    }
   ],
   "source": [
    "pretty_print_configs(bandit_config)"
   ]
  },
  {
   "cell_type": "markdown",
   "metadata": {},
   "source": [
    "In RLlib we can run training loops Using `tune.Tuner()` with stopping condition (recommended)\n"
   ]
  },
  {
   "cell_type": "code",
   "execution_count": 20,
   "metadata": {},
   "outputs": [
    {
     "name": "stderr",
     "output_type": "stream",
     "text": [
      "2022-09-15 17:55:17,381\tINFO worker.py:1221 -- Using address localhost:9031 set in the environment variable RAY_ADDRESS\n",
      "2022-09-15 17:55:17,382\tINFO worker.py:1331 -- Connecting to existing Ray cluster at address: 10.0.98.129:9031...\n",
      "2022-09-15 17:55:17,387\tINFO worker.py:1508 -- Connected to Ray cluster. View the dashboard at \u001b[1m\u001b[32mhttps://console.anyscale.com/api/v2/sessions/ses_JFJ72HTFCHvuWpeKjj65rB4u/services?redirect_to=dashboard \u001b[39m\u001b[22m\n"
     ]
    },
    {
     "data": {
      "text/html": [
       "<div class=\"tuneStatus\">\n",
       "  <div style=\"display: flex;flex-direction: row\">\n",
       "    <div style=\"display: flex;flex-direction: column;\">\n",
       "      <h3>Tune Status</h3>\n",
       "      <table>\n",
       "<tbody>\n",
       "<tr><td>Current time:</td><td>2022-09-15 17:55:27</td></tr>\n",
       "<tr><td>Running for: </td><td>00:00:09.55        </td></tr>\n",
       "<tr><td>Memory:      </td><td>4.0/62.0 GiB       </td></tr>\n",
       "</tbody>\n",
       "</table>\n",
       "    </div>\n",
       "    <div class=\"vDivider\"></div>\n",
       "    <div class=\"systemInfo\">\n",
       "      <h3>System Info</h3>\n",
       "      Using FIFO scheduling algorithm.<br>Resources requested: 0/16 CPUs, 0/0 GPUs, 0.0/34.23 GiB heap, 0.0/17.12 GiB objects\n",
       "    </div>\n",
       "    \n",
       "  </div>\n",
       "  <div class=\"hDivider\"></div>\n",
       "  <div class=\"trialStatus\">\n",
       "    <h3>Trial Status</h3>\n",
       "    <table>\n",
       "<thead>\n",
       "<tr><th>Trial name                  </th><th>status    </th><th>loc               </th><th style=\"text-align: right;\">  iter</th><th style=\"text-align: right;\">  total time (s)</th><th style=\"text-align: right;\">  ts</th><th style=\"text-align: right;\">  reward</th><th style=\"text-align: right;\">  num_recreated_wor...</th><th style=\"text-align: right;\">  episode_reward_max</th><th style=\"text-align: right;\">  episode_reward_min</th></tr>\n",
       "</thead>\n",
       "<tbody>\n",
       "<tr><td>DQN_modified-lts_3b2a3_00000</td><td>TERMINATED</td><td>10.0.98.129:274196</td><td style=\"text-align: right;\">     1</td><td style=\"text-align: right;\">         3.58801</td><td style=\"text-align: right;\">1000</td><td style=\"text-align: right;\"> 97.5369</td><td style=\"text-align: right;\">                     0</td><td style=\"text-align: right;\">             170.021</td><td style=\"text-align: right;\">             46.4573</td></tr>\n",
       "</tbody>\n",
       "</table>\n",
       "  </div>\n",
       "</div>\n",
       "<style>\n",
       ".tuneStatus {\n",
       "  color: var(--jp-ui-font-color1);\n",
       "}\n",
       ".tuneStatus .systemInfo {\n",
       "  display: flex;\n",
       "  flex-direction: column;\n",
       "}\n",
       ".tuneStatus td {\n",
       "  white-space: nowrap;\n",
       "}\n",
       ".tuneStatus .trialStatus {\n",
       "  display: flex;\n",
       "  flex-direction: column;\n",
       "}\n",
       ".tuneStatus h3 {\n",
       "  font-weight: bold;\n",
       "}\n",
       ".tuneStatus .hDivider {\n",
       "  border-bottom-width: var(--jp-border-width);\n",
       "  border-bottom-color: var(--jp-border-color0);\n",
       "  border-bottom-style: solid;\n",
       "}\n",
       ".tuneStatus .vDivider {\n",
       "  border-left-width: var(--jp-border-width);\n",
       "  border-left-color: var(--jp-border-color0);\n",
       "  border-left-style: solid;\n",
       "  margin: 0.5em 1em 0.5em 1em;\n",
       "}\n",
       "</style>\n"
      ],
      "text/plain": [
       "<IPython.core.display.HTML object>"
      ]
     },
     "metadata": {},
     "output_type": "display_data"
    },
    {
     "name": "stderr",
     "output_type": "stream",
     "text": [
      "\u001b[2m\u001b[36m(DQN pid=274196)\u001b[0m 2022-09-15 17:55:23,238\tWARNING deprecation.py:47 -- DeprecationWarning: `ray.rllib.algorithms.dqn.dqn.DEFAULT_CONFIG` has been deprecated. Use `ray.rllib.algorithms.dqn.dqn.DQNConfig(...)` instead. This will raise an error in the future!\n",
      "\u001b[2m\u001b[36m(DQN pid=274196)\u001b[0m 2022-09-15 17:55:23,239\tWARNING deprecation.py:47 -- DeprecationWarning: `config['multiagent']['replay_mode']` has been deprecated. config['replay_buffer_config']['replay_mode'] This will raise an error in the future!\n",
      "\u001b[2m\u001b[36m(DQN pid=274196)\u001b[0m 2022-09-15 17:55:23,239\tINFO simple_q.py:303 -- In multi-agent mode, policies will be optimized sequentially by the multi-GPU optimizer. Consider setting `simple_optimizer=True` if this doesn't work for you.\n",
      "\u001b[2m\u001b[36m(DQN pid=274196)\u001b[0m 2022-09-15 17:55:23,240\tINFO algorithm.py:357 -- Current log_level is WARN. For more information, set 'log_level': 'INFO' / 'DEBUG' or use the -v and -vv flags.\n",
      "\u001b[2m\u001b[36m(DQN pid=274196)\u001b[0m 2022-09-15 17:55:23,259\tWARNING env.py:142 -- Your env doesn't have a .spec.max_episode_steps attribute. This is fine if you have set 'horizon' in your config dictionary, or `soft_horizon`. However, if you haven't, 'horizon' will default to infinity, and your environment will not be reset.\n",
      "\u001b[2m\u001b[36m(DQN pid=274196)\u001b[0m 2022-09-15 17:55:23,328\tWARNING util.py:66 -- Install gputil for GPU system monitoring.\n",
      "\u001b[2m\u001b[36m(DQN pid=274196)\u001b[0m 2022-09-15 17:55:23,362\tWARNING deprecation.py:47 -- DeprecationWarning: `ReplayBuffer.add_batch()` has been deprecated. Use `ReplayBuffer.add()` instead. This will raise an error in the future!\n",
      "\u001b[2m\u001b[36m(DQN pid=274196)\u001b[0m 2022-09-15 17:55:23,377\tWARNING multi_agent_prioritized_replay_buffer.py:215 -- Adding batches with column `weights` to this buffer while providing weights as a call argument to the add method results in the column being overwritten.\n"
     ]
    },
    {
     "data": {
      "text/html": [
       "<div class=\"trialProgress\">\n",
       "  <h3>Trial Progress</h3>\n",
       "  <table>\n",
       "<thead>\n",
       "<tr><th>Trial name                  </th><th style=\"text-align: right;\">  agent_timesteps_total</th><th>counters                                                                                                                  </th><th>custom_metrics  </th><th>date               </th><th>done  </th><th style=\"text-align: right;\">  episode_len_mean</th><th>episode_media  </th><th style=\"text-align: right;\">  episode_reward_max</th><th style=\"text-align: right;\">  episode_reward_mean</th><th style=\"text-align: right;\">  episode_reward_min</th><th style=\"text-align: right;\">  episodes_this_iter</th><th style=\"text-align: right;\">  episodes_total</th><th>experiment_id                   </th><th>hostname      </th><th>info                                                                                                                                     </th><th style=\"text-align: right;\">  iterations_since_restore</th><th>node_ip    </th><th style=\"text-align: right;\">  num_agent_steps_sampled</th><th style=\"text-align: right;\">  num_agent_steps_trained</th><th style=\"text-align: right;\">  num_env_steps_sampled</th><th style=\"text-align: right;\">  num_env_steps_sampled_this_iter</th><th style=\"text-align: right;\">  num_env_steps_trained</th><th style=\"text-align: right;\">  num_env_steps_trained_this_iter</th><th style=\"text-align: right;\">  num_faulty_episodes</th><th style=\"text-align: right;\">  num_healthy_workers</th><th style=\"text-align: right;\">  num_recreated_workers</th><th style=\"text-align: right;\">  num_steps_trained_this_iter</th><th>perf                                                            </th><th style=\"text-align: right;\">   pid</th><th>policy_reward_max  </th><th>policy_reward_mean  </th><th>policy_reward_min  </th><th>sampler_perf                                                                                                                                                                                                     </th><th>sampler_results                                                                                                                                                                                                                                                                                                                                                                                                                                                                                                                                                                                                                                                                                                                                                                                                                                                                                                                                                                                                                                                                                                                                                                                                                                                                                                                                                                                                                                                                                                                                                                                                                                                                                                                                                                                                                                                                                                                                                                                                                                                                                                                                                                                                                                                                                                                                                                                                                                                                                                                                                                                                                                                                                                                                                                                                                                                                                                                                                                                                                                           </th><th style=\"text-align: right;\">  time_since_restore</th><th style=\"text-align: right;\">  time_this_iter_s</th><th style=\"text-align: right;\">  time_total_s</th><th>timers                                </th><th style=\"text-align: right;\">  timestamp</th><th style=\"text-align: right;\">  timesteps_since_restore</th><th style=\"text-align: right;\">  timesteps_total</th><th style=\"text-align: right;\">  training_iteration</th><th>trial_id   </th><th style=\"text-align: right;\">  warmup_time</th></tr>\n",
       "</thead>\n",
       "<tbody>\n",
       "<tr><td>DQN_modified-lts_3b2a3_00000</td><td style=\"text-align: right;\">                   1000</td><td>{&#x27;num_env_steps_sampled&#x27;: 1000, &#x27;num_env_steps_trained&#x27;: 0, &#x27;num_agent_steps_sampled&#x27;: 1000, &#x27;num_agent_steps_trained&#x27;: 0}</td><td>{}              </td><td>2022-09-15_17-55-26</td><td>True  </td><td style=\"text-align: right;\">                10</td><td>{}             </td><td style=\"text-align: right;\">             170.021</td><td style=\"text-align: right;\">              97.5369</td><td style=\"text-align: right;\">             46.4573</td><td style=\"text-align: right;\">                 100</td><td style=\"text-align: right;\">             100</td><td>04ac87bbb5c14a21b02862146f5275b2</td><td>ip-10-0-98-129</td><td>{&#x27;learner&#x27;: {}, &#x27;num_env_steps_sampled&#x27;: 1000, &#x27;num_env_steps_trained&#x27;: 0, &#x27;num_agent_steps_sampled&#x27;: 1000, &#x27;num_agent_steps_trained&#x27;: 0}</td><td style=\"text-align: right;\">                         1</td><td>10.0.98.129</td><td style=\"text-align: right;\">                     1000</td><td style=\"text-align: right;\">                        0</td><td style=\"text-align: right;\">                   1000</td><td style=\"text-align: right;\">                             1000</td><td style=\"text-align: right;\">                      0</td><td style=\"text-align: right;\">                                0</td><td style=\"text-align: right;\">                    0</td><td style=\"text-align: right;\">                    0</td><td style=\"text-align: right;\">                      0</td><td style=\"text-align: right;\">                            0</td><td>{&#x27;cpu_util_percent&#x27;: 9.080000000000002, &#x27;ram_util_percent&#x27;: 6.4}</td><td style=\"text-align: right;\">274196</td><td>{}                 </td><td>{}                  </td><td>{}                 </td><td>{&#x27;mean_raw_obs_processing_ms&#x27;: 1.4671359981571166, &#x27;mean_inference_ms&#x27;: 1.5030583658894812, &#x27;mean_action_processing_ms&#x27;: 0.05936193894911242, &#x27;mean_env_wait_ms&#x27;: 0.36370766150963313, &#x27;mean_env_render_ms&#x27;: 0.0}</td><td>{&#x27;episode_reward_max&#x27;: 170.02131554666474, &#x27;episode_reward_min&#x27;: 46.457344005561744, &#x27;episode_reward_mean&#x27;: 97.536879499204, &#x27;episode_len_mean&#x27;: 10.0, &#x27;episode_media&#x27;: {}, &#x27;episodes_this_iter&#x27;: 100, &#x27;policy_reward_min&#x27;: {}, &#x27;policy_reward_max&#x27;: {}, &#x27;policy_reward_mean&#x27;: {}, &#x27;custom_metrics&#x27;: {}, &#x27;hist_stats&#x27;: {&#x27;episode_reward&#x27;: [103.24282225643476, 158.7728417554398, 76.89006008018436, 115.54110631668075, 129.64045915227757, 80.51236640165318, 83.46675050351253, 70.65542291639292, 128.63604607326778, 94.2574777891532, 122.78559976476974, 94.27113878572693, 92.66063899472569, 128.36779422358174, 85.11488801210767, 94.3487833801869, 114.26715799163668, 110.25117457987105, 120.9318146311947, 115.00398302410386, 107.91542949439588, 132.49006878278269, 112.13133628689627, 93.79200406967892, 105.64173372535112, 84.56460798822971, 124.00590907843248, 98.10272080815898, 71.94298624442472, 71.59246528466643, 95.98905777439134, 117.46731600491009, 91.84242509744917, 104.35460621128475, 80.41715635702734, 123.90721418899832, 84.61981900415343, 110.07503640513796, 116.64700688283494, 147.5327087095365, 48.474811161486166, 46.457344005561744, 77.05641269488746, 112.93022335566326, 97.51443732399497, 96.1772495975514, 94.12076460724883, 109.96834744074155, 111.79643744966116, 121.27741379848918, 126.32543904943685, 93.92498038926806, 101.5106982253578, 95.0806341526981, 74.8838348671157, 115.02202624342681, 133.4527629789503, 101.20709725876524, 56.12940189571713, 98.37160804582172, 136.89648718375236, 170.02131554666474, 131.15273794825964, 57.844521065463425, 99.88431952867012, 64.05814681194614, 53.34939979321219, 104.97256481531824, 108.80219738181532, 92.00055186101424, 67.22080305873918, 103.38339572732748, 146.26703088355734, 100.2389414895622, 65.79544348436093, 104.63476491536382, 99.96167571131873, 81.80821215905516, 65.32892120885039, 68.65237932713019, 88.30986529294977, 106.56533144642015, 57.26940587985146, 73.77699097970552, 61.0583770502905, 89.02408321043413, 90.40467253718455, 144.52311944750275, 98.53682523718209, 111.43769059790296, 64.63844566250086, 68.60578623223726, 90.09128511673985, 93.177807819491, 67.75112288097843, 85.48851630109918, 89.1891357442502, 64.46282804865709, 75.98444948241537, 104.78654147773726], &#x27;episode_lengths&#x27;: [10, 10, 10, 10, 10, 10, 10, 10, 10, 10, 10, 10, 10, 10, 10, 10, 10, 10, 10, 10, 10, 10, 10, 10, 10, 10, 10, 10, 10, 10, 10, 10, 10, 10, 10, 10, 10, 10, 10, 10, 10, 10, 10, 10, 10, 10, 10, 10, 10, 10, 10, 10, 10, 10, 10, 10, 10, 10, 10, 10, 10, 10, 10, 10, 10, 10, 10, 10, 10, 10, 10, 10, 10, 10, 10, 10, 10, 10, 10, 10, 10, 10, 10, 10, 10, 10, 10, 10, 10, 10, 10, 10, 10, 10, 10, 10, 10, 10, 10, 10]}, &#x27;sampler_perf&#x27;: {&#x27;mean_raw_obs_processing_ms&#x27;: 1.4671359981571166, &#x27;mean_inference_ms&#x27;: 1.5030583658894812, &#x27;mean_action_processing_ms&#x27;: 0.05936193894911242, &#x27;mean_env_wait_ms&#x27;: 0.36370766150963313, &#x27;mean_env_render_ms&#x27;: 0.0}, &#x27;num_faulty_episodes&#x27;: 0}</td><td style=\"text-align: right;\">             3.58801</td><td style=\"text-align: right;\">           3.58801</td><td style=\"text-align: right;\">       3.58801</td><td>{&#x27;training_iteration_time_ms&#x27;: 13.621}</td><td style=\"text-align: right;\"> 1663289726</td><td style=\"text-align: right;\">                        0</td><td style=\"text-align: right;\">             1000</td><td style=\"text-align: right;\">                   1</td><td>3b2a3_00000</td><td style=\"text-align: right;\">      0.10414</td></tr>\n",
       "</tbody>\n",
       "</table>\n",
       "</div>\n",
       "<style>\n",
       ".trialProgress {\n",
       "  display: flex;\n",
       "  flex-direction: column;\n",
       "  color: var(--jp-ui-font-color1);\n",
       "}\n",
       ".trialProgress h3 {\n",
       "  font-weight: bold;\n",
       "}\n",
       ".trialProgress td {\n",
       "  white-space: nowrap;\n",
       "}\n",
       "</style>\n"
      ],
      "text/plain": [
       "<IPython.core.display.HTML object>"
      ]
     },
     "metadata": {},
     "output_type": "display_data"
    },
    {
     "name": "stderr",
     "output_type": "stream",
     "text": [
      "2022-09-15 17:55:27,746\tINFO tune.py:762 -- Total run time: 10.34 seconds (9.49 seconds for the tuning loop).\n"
     ]
    }
   ],
   "source": [
    "\"\"\"\n",
    "Use tune.Tuner(\n",
    "    algo\n",
    "    param_space=..., \n",
    "    run_config=air.RunConfig(\n",
    "        local_dir=...,\n",
    "        stop={...}\n",
    "    ))\n",
    "    tuner.fit()\n",
    "\"\"\"\n",
    "# TODO: Code here"
   ]
  },
  {
   "cell_type": "code",
   "execution_count": 21,
   "metadata": {},
   "outputs": [
    {
     "data": {
      "text/plain": [
       "<ray.tune.result_grid.ResultGrid at 0x7fc5e7499d00>"
      ]
     },
     "execution_count": 21,
     "metadata": {},
     "output_type": "execute_result"
    }
   ],
   "source": [
    "results_bandit"
   ]
  },
  {
   "cell_type": "code",
   "execution_count": 22,
   "metadata": {},
   "outputs": [
    {
     "name": "stdout",
     "output_type": "stream",
     "text": [
      "Mean reward from training\n"
     ]
    },
    {
     "data": {
      "text/plain": [
       "97.536879499204"
      ]
     },
     "execution_count": 22,
     "metadata": {},
     "output_type": "execute_result"
    }
   ],
   "source": [
    "print(\"Mean reward from training\")\n",
    "results_bandit[0].metrics['episode_reward_mean']"
   ]
  },
  {
   "cell_type": "markdown",
   "metadata": {},
   "source": [
    "Tune collects these results from every iteration and puts them in the output directory where the other logging artifcats are stored. \n",
    "\n",
    "To run this experiment longer until it's trained you can run the following command to launch the bandit experiment:\n",
    "\n",
    "\n",
    "```bash\n",
    "python tutorial_scripts/run_online_rl.py --seed 0 --gamma 0.0 --exp_name bandits --timesteps 10_000\n",
    "```\n",
    "\n",
    "This script take 5 minutes to run. It will create experiment artifacts under `./results_scripts/` which includes the checkpoints as well as tensorboard and tabular logs. You can later inspect this folder to monitor your experiments.\n",
    "\n",
    "The suggested way is to use tensorboard to monitor the metrics of your run and look for `episode_reward_mean`.\n",
    "\n",
    "```bash\n",
    "tensorboard --logdir \"./results_scripts\"\n",
    "```\n",
    "\n"
   ]
  },
  {
   "cell_type": "code",
   "execution_count": 23,
   "metadata": {},
   "outputs": [
    {
     "data": {
      "text/html": [
       "<div>\n",
       "<style scoped>\n",
       "    .dataframe tbody tr th:only-of-type {\n",
       "        vertical-align: middle;\n",
       "    }\n",
       "\n",
       "    .dataframe tbody tr th {\n",
       "        vertical-align: top;\n",
       "    }\n",
       "\n",
       "    .dataframe thead th {\n",
       "        text-align: right;\n",
       "    }\n",
       "</style>\n",
       "<table border=\"1\" class=\"dataframe\">\n",
       "  <thead>\n",
       "    <tr style=\"text-align: right;\">\n",
       "      <th></th>\n",
       "      <th>num_recreated_workers</th>\n",
       "      <th>episode_reward_max</th>\n",
       "      <th>episode_reward_min</th>\n",
       "      <th>episode_reward_mean</th>\n",
       "      <th>episode_len_mean</th>\n",
       "      <th>episodes_this_iter</th>\n",
       "      <th>num_faulty_episodes</th>\n",
       "      <th>num_healthy_workers</th>\n",
       "      <th>num_agent_steps_sampled</th>\n",
       "      <th>num_agent_steps_trained</th>\n",
       "      <th>...</th>\n",
       "      <th>evaluation/sampler_perf/mean_action_processing_ms</th>\n",
       "      <th>evaluation/sampler_perf/mean_env_wait_ms</th>\n",
       "      <th>evaluation/sampler_perf/mean_env_render_ms</th>\n",
       "      <th>sampler_results/hist_stats/episode_reward</th>\n",
       "      <th>sampler_results/hist_stats/episode_lengths</th>\n",
       "      <th>sampler_results/sampler_perf/mean_raw_obs_processing_ms</th>\n",
       "      <th>sampler_results/sampler_perf/mean_inference_ms</th>\n",
       "      <th>sampler_results/sampler_perf/mean_action_processing_ms</th>\n",
       "      <th>sampler_results/sampler_perf/mean_env_wait_ms</th>\n",
       "      <th>sampler_results/sampler_perf/mean_env_render_ms</th>\n",
       "    </tr>\n",
       "  </thead>\n",
       "  <tbody>\n",
       "    <tr>\n",
       "      <th>0</th>\n",
       "      <td>0</td>\n",
       "      <td>148.857003</td>\n",
       "      <td>49.961654</td>\n",
       "      <td>98.497645</td>\n",
       "      <td>10.0</td>\n",
       "      <td>100</td>\n",
       "      <td>0</td>\n",
       "      <td>1</td>\n",
       "      <td>1000</td>\n",
       "      <td>0</td>\n",
       "      <td>...</td>\n",
       "      <td>0.066004</td>\n",
       "      <td>0.421863</td>\n",
       "      <td>0.0</td>\n",
       "      <td>[80.06783496345842, 94.55144237747402, 115.734...</td>\n",
       "      <td>[10, 10, 10, 10, 10, 10, 10, 10, 10, 10, 10, 1...</td>\n",
       "      <td>1.615976</td>\n",
       "      <td>1.926621</td>\n",
       "      <td>0.067211</td>\n",
       "      <td>0.413892</td>\n",
       "      <td>0.0</td>\n",
       "    </tr>\n",
       "    <tr>\n",
       "      <th>1</th>\n",
       "      <td>0</td>\n",
       "      <td>162.518395</td>\n",
       "      <td>49.026263</td>\n",
       "      <td>90.052531</td>\n",
       "      <td>10.0</td>\n",
       "      <td>100</td>\n",
       "      <td>0</td>\n",
       "      <td>1</td>\n",
       "      <td>2000</td>\n",
       "      <td>102400</td>\n",
       "      <td>...</td>\n",
       "      <td>0.063795</td>\n",
       "      <td>0.414642</td>\n",
       "      <td>0.0</td>\n",
       "      <td>[104.50434231044349, 90.13660176239118, 77.679...</td>\n",
       "      <td>[10, 10, 10, 10, 10, 10, 10, 10, 10, 10, 10, 1...</td>\n",
       "      <td>1.612668</td>\n",
       "      <td>1.907204</td>\n",
       "      <td>0.065739</td>\n",
       "      <td>0.413190</td>\n",
       "      <td>0.0</td>\n",
       "    </tr>\n",
       "    <tr>\n",
       "      <th>2</th>\n",
       "      <td>0</td>\n",
       "      <td>138.941288</td>\n",
       "      <td>47.053765</td>\n",
       "      <td>91.065332</td>\n",
       "      <td>10.0</td>\n",
       "      <td>100</td>\n",
       "      <td>0</td>\n",
       "      <td>1</td>\n",
       "      <td>3000</td>\n",
       "      <td>204800</td>\n",
       "      <td>...</td>\n",
       "      <td>0.064125</td>\n",
       "      <td>0.418105</td>\n",
       "      <td>0.0</td>\n",
       "      <td>[80.37757864952177, 83.4086883528945, 82.16280...</td>\n",
       "      <td>[10, 10, 10, 10, 10, 10, 10, 10, 10, 10, 10, 1...</td>\n",
       "      <td>1.622994</td>\n",
       "      <td>1.902245</td>\n",
       "      <td>0.065344</td>\n",
       "      <td>0.414438</td>\n",
       "      <td>0.0</td>\n",
       "    </tr>\n",
       "    <tr>\n",
       "      <th>3</th>\n",
       "      <td>0</td>\n",
       "      <td>140.064561</td>\n",
       "      <td>48.773252</td>\n",
       "      <td>84.834952</td>\n",
       "      <td>10.0</td>\n",
       "      <td>100</td>\n",
       "      <td>0</td>\n",
       "      <td>1</td>\n",
       "      <td>4000</td>\n",
       "      <td>307200</td>\n",
       "      <td>...</td>\n",
       "      <td>0.064455</td>\n",
       "      <td>0.420479</td>\n",
       "      <td>0.0</td>\n",
       "      <td>[74.22016887537853, 76.9675069259837, 62.41210...</td>\n",
       "      <td>[10, 10, 10, 10, 10, 10, 10, 10, 10, 10, 10, 1...</td>\n",
       "      <td>1.631680</td>\n",
       "      <td>1.913093</td>\n",
       "      <td>0.065588</td>\n",
       "      <td>0.417682</td>\n",
       "      <td>0.0</td>\n",
       "    </tr>\n",
       "    <tr>\n",
       "      <th>4</th>\n",
       "      <td>0</td>\n",
       "      <td>137.836997</td>\n",
       "      <td>45.018080</td>\n",
       "      <td>80.444693</td>\n",
       "      <td>10.0</td>\n",
       "      <td>100</td>\n",
       "      <td>0</td>\n",
       "      <td>1</td>\n",
       "      <td>5000</td>\n",
       "      <td>409600</td>\n",
       "      <td>...</td>\n",
       "      <td>0.064498</td>\n",
       "      <td>0.420735</td>\n",
       "      <td>0.0</td>\n",
       "      <td>[73.06394030113951, 115.4952494291228, 93.7637...</td>\n",
       "      <td>[10, 10, 10, 10, 10, 10, 10, 10, 10, 10, 10, 1...</td>\n",
       "      <td>1.638053</td>\n",
       "      <td>1.916961</td>\n",
       "      <td>0.065503</td>\n",
       "      <td>0.419723</td>\n",
       "      <td>0.0</td>\n",
       "    </tr>\n",
       "    <tr>\n",
       "      <th>...</th>\n",
       "      <td>...</td>\n",
       "      <td>...</td>\n",
       "      <td>...</td>\n",
       "      <td>...</td>\n",
       "      <td>...</td>\n",
       "      <td>...</td>\n",
       "      <td>...</td>\n",
       "      <td>...</td>\n",
       "      <td>...</td>\n",
       "      <td>...</td>\n",
       "      <td>...</td>\n",
       "      <td>...</td>\n",
       "      <td>...</td>\n",
       "      <td>...</td>\n",
       "      <td>...</td>\n",
       "      <td>...</td>\n",
       "      <td>...</td>\n",
       "      <td>...</td>\n",
       "      <td>...</td>\n",
       "      <td>...</td>\n",
       "      <td>...</td>\n",
       "    </tr>\n",
       "    <tr>\n",
       "      <th>661</th>\n",
       "      <td>0</td>\n",
       "      <td>77.308824</td>\n",
       "      <td>51.473253</td>\n",
       "      <td>57.409480</td>\n",
       "      <td>10.0</td>\n",
       "      <td>100</td>\n",
       "      <td>0</td>\n",
       "      <td>1</td>\n",
       "      <td>662000</td>\n",
       "      <td>67686400</td>\n",
       "      <td>...</td>\n",
       "      <td>0.069512</td>\n",
       "      <td>0.468326</td>\n",
       "      <td>0.0</td>\n",
       "      <td>[56.363397408474796, 56.472586083925, 55.73214...</td>\n",
       "      <td>[10, 10, 10, 10, 10, 10, 10, 10, 10, 10, 10, 1...</td>\n",
       "      <td>1.829190</td>\n",
       "      <td>2.020992</td>\n",
       "      <td>0.067000</td>\n",
       "      <td>0.455474</td>\n",
       "      <td>0.0</td>\n",
       "    </tr>\n",
       "    <tr>\n",
       "      <th>662</th>\n",
       "      <td>0</td>\n",
       "      <td>81.922776</td>\n",
       "      <td>51.625754</td>\n",
       "      <td>57.390007</td>\n",
       "      <td>10.0</td>\n",
       "      <td>100</td>\n",
       "      <td>0</td>\n",
       "      <td>1</td>\n",
       "      <td>663000</td>\n",
       "      <td>67788800</td>\n",
       "      <td>...</td>\n",
       "      <td>0.069526</td>\n",
       "      <td>0.468445</td>\n",
       "      <td>0.0</td>\n",
       "      <td>[58.08399044030793, 51.62575353461019, 55.3362...</td>\n",
       "      <td>[10, 10, 10, 10, 10, 10, 10, 10, 10, 10, 10, 1...</td>\n",
       "      <td>1.829310</td>\n",
       "      <td>2.021095</td>\n",
       "      <td>0.067001</td>\n",
       "      <td>0.455496</td>\n",
       "      <td>0.0</td>\n",
       "    </tr>\n",
       "    <tr>\n",
       "      <th>663</th>\n",
       "      <td>0</td>\n",
       "      <td>80.536429</td>\n",
       "      <td>52.074962</td>\n",
       "      <td>57.349532</td>\n",
       "      <td>10.0</td>\n",
       "      <td>100</td>\n",
       "      <td>0</td>\n",
       "      <td>1</td>\n",
       "      <td>664000</td>\n",
       "      <td>67891200</td>\n",
       "      <td>...</td>\n",
       "      <td>0.069528</td>\n",
       "      <td>0.468463</td>\n",
       "      <td>0.0</td>\n",
       "      <td>[57.05626052342183, 57.895075154772854, 55.034...</td>\n",
       "      <td>[10, 10, 10, 10, 10, 10, 10, 10, 10, 10, 10, 1...</td>\n",
       "      <td>1.829335</td>\n",
       "      <td>2.021136</td>\n",
       "      <td>0.067002</td>\n",
       "      <td>0.455504</td>\n",
       "      <td>0.0</td>\n",
       "    </tr>\n",
       "    <tr>\n",
       "      <th>664</th>\n",
       "      <td>0</td>\n",
       "      <td>80.235838</td>\n",
       "      <td>51.864473</td>\n",
       "      <td>57.193991</td>\n",
       "      <td>10.0</td>\n",
       "      <td>100</td>\n",
       "      <td>0</td>\n",
       "      <td>1</td>\n",
       "      <td>665000</td>\n",
       "      <td>67993600</td>\n",
       "      <td>...</td>\n",
       "      <td>0.069530</td>\n",
       "      <td>0.468486</td>\n",
       "      <td>0.0</td>\n",
       "      <td>[56.17971936322728, 57.32259647211729, 63.9087...</td>\n",
       "      <td>[10, 10, 10, 10, 10, 10, 10, 10, 10, 10, 10, 1...</td>\n",
       "      <td>1.829405</td>\n",
       "      <td>2.021226</td>\n",
       "      <td>0.067003</td>\n",
       "      <td>0.455530</td>\n",
       "      <td>0.0</td>\n",
       "    </tr>\n",
       "    <tr>\n",
       "      <th>665</th>\n",
       "      <td>0</td>\n",
       "      <td>80.427360</td>\n",
       "      <td>49.259737</td>\n",
       "      <td>56.954195</td>\n",
       "      <td>10.0</td>\n",
       "      <td>100</td>\n",
       "      <td>0</td>\n",
       "      <td>1</td>\n",
       "      <td>666000</td>\n",
       "      <td>68096000</td>\n",
       "      <td>...</td>\n",
       "      <td>0.069537</td>\n",
       "      <td>0.468537</td>\n",
       "      <td>0.0</td>\n",
       "      <td>[58.24048331821, 56.8272174196875, 57.13431301...</td>\n",
       "      <td>[10, 10, 10, 10, 10, 10, 10, 10, 10, 10, 10, 1...</td>\n",
       "      <td>1.829395</td>\n",
       "      <td>2.021243</td>\n",
       "      <td>0.067003</td>\n",
       "      <td>0.455528</td>\n",
       "      <td>0.0</td>\n",
       "    </tr>\n",
       "  </tbody>\n",
       "</table>\n",
       "<p>666 rows × 82 columns</p>\n",
       "</div>"
      ],
      "text/plain": [
       "     num_recreated_workers  episode_reward_max  episode_reward_min  \\\n",
       "0                        0          148.857003           49.961654   \n",
       "1                        0          162.518395           49.026263   \n",
       "2                        0          138.941288           47.053765   \n",
       "3                        0          140.064561           48.773252   \n",
       "4                        0          137.836997           45.018080   \n",
       "..                     ...                 ...                 ...   \n",
       "661                      0           77.308824           51.473253   \n",
       "662                      0           81.922776           51.625754   \n",
       "663                      0           80.536429           52.074962   \n",
       "664                      0           80.235838           51.864473   \n",
       "665                      0           80.427360           49.259737   \n",
       "\n",
       "     episode_reward_mean  episode_len_mean  episodes_this_iter  \\\n",
       "0              98.497645              10.0                 100   \n",
       "1              90.052531              10.0                 100   \n",
       "2              91.065332              10.0                 100   \n",
       "3              84.834952              10.0                 100   \n",
       "4              80.444693              10.0                 100   \n",
       "..                   ...               ...                 ...   \n",
       "661            57.409480              10.0                 100   \n",
       "662            57.390007              10.0                 100   \n",
       "663            57.349532              10.0                 100   \n",
       "664            57.193991              10.0                 100   \n",
       "665            56.954195              10.0                 100   \n",
       "\n",
       "     num_faulty_episodes  num_healthy_workers  num_agent_steps_sampled  \\\n",
       "0                      0                    1                     1000   \n",
       "1                      0                    1                     2000   \n",
       "2                      0                    1                     3000   \n",
       "3                      0                    1                     4000   \n",
       "4                      0                    1                     5000   \n",
       "..                   ...                  ...                      ...   \n",
       "661                    0                    1                   662000   \n",
       "662                    0                    1                   663000   \n",
       "663                    0                    1                   664000   \n",
       "664                    0                    1                   665000   \n",
       "665                    0                    1                   666000   \n",
       "\n",
       "     num_agent_steps_trained  ...  \\\n",
       "0                          0  ...   \n",
       "1                     102400  ...   \n",
       "2                     204800  ...   \n",
       "3                     307200  ...   \n",
       "4                     409600  ...   \n",
       "..                       ...  ...   \n",
       "661                 67686400  ...   \n",
       "662                 67788800  ...   \n",
       "663                 67891200  ...   \n",
       "664                 67993600  ...   \n",
       "665                 68096000  ...   \n",
       "\n",
       "     evaluation/sampler_perf/mean_action_processing_ms  \\\n",
       "0                                             0.066004   \n",
       "1                                             0.063795   \n",
       "2                                             0.064125   \n",
       "3                                             0.064455   \n",
       "4                                             0.064498   \n",
       "..                                                 ...   \n",
       "661                                           0.069512   \n",
       "662                                           0.069526   \n",
       "663                                           0.069528   \n",
       "664                                           0.069530   \n",
       "665                                           0.069537   \n",
       "\n",
       "     evaluation/sampler_perf/mean_env_wait_ms  \\\n",
       "0                                    0.421863   \n",
       "1                                    0.414642   \n",
       "2                                    0.418105   \n",
       "3                                    0.420479   \n",
       "4                                    0.420735   \n",
       "..                                        ...   \n",
       "661                                  0.468326   \n",
       "662                                  0.468445   \n",
       "663                                  0.468463   \n",
       "664                                  0.468486   \n",
       "665                                  0.468537   \n",
       "\n",
       "     evaluation/sampler_perf/mean_env_render_ms  \\\n",
       "0                                           0.0   \n",
       "1                                           0.0   \n",
       "2                                           0.0   \n",
       "3                                           0.0   \n",
       "4                                           0.0   \n",
       "..                                          ...   \n",
       "661                                         0.0   \n",
       "662                                         0.0   \n",
       "663                                         0.0   \n",
       "664                                         0.0   \n",
       "665                                         0.0   \n",
       "\n",
       "             sampler_results/hist_stats/episode_reward  \\\n",
       "0    [80.06783496345842, 94.55144237747402, 115.734...   \n",
       "1    [104.50434231044349, 90.13660176239118, 77.679...   \n",
       "2    [80.37757864952177, 83.4086883528945, 82.16280...   \n",
       "3    [74.22016887537853, 76.9675069259837, 62.41210...   \n",
       "4    [73.06394030113951, 115.4952494291228, 93.7637...   \n",
       "..                                                 ...   \n",
       "661  [56.363397408474796, 56.472586083925, 55.73214...   \n",
       "662  [58.08399044030793, 51.62575353461019, 55.3362...   \n",
       "663  [57.05626052342183, 57.895075154772854, 55.034...   \n",
       "664  [56.17971936322728, 57.32259647211729, 63.9087...   \n",
       "665  [58.24048331821, 56.8272174196875, 57.13431301...   \n",
       "\n",
       "            sampler_results/hist_stats/episode_lengths  \\\n",
       "0    [10, 10, 10, 10, 10, 10, 10, 10, 10, 10, 10, 1...   \n",
       "1    [10, 10, 10, 10, 10, 10, 10, 10, 10, 10, 10, 1...   \n",
       "2    [10, 10, 10, 10, 10, 10, 10, 10, 10, 10, 10, 1...   \n",
       "3    [10, 10, 10, 10, 10, 10, 10, 10, 10, 10, 10, 1...   \n",
       "4    [10, 10, 10, 10, 10, 10, 10, 10, 10, 10, 10, 1...   \n",
       "..                                                 ...   \n",
       "661  [10, 10, 10, 10, 10, 10, 10, 10, 10, 10, 10, 1...   \n",
       "662  [10, 10, 10, 10, 10, 10, 10, 10, 10, 10, 10, 1...   \n",
       "663  [10, 10, 10, 10, 10, 10, 10, 10, 10, 10, 10, 1...   \n",
       "664  [10, 10, 10, 10, 10, 10, 10, 10, 10, 10, 10, 1...   \n",
       "665  [10, 10, 10, 10, 10, 10, 10, 10, 10, 10, 10, 1...   \n",
       "\n",
       "     sampler_results/sampler_perf/mean_raw_obs_processing_ms  \\\n",
       "0                                             1.615976         \n",
       "1                                             1.612668         \n",
       "2                                             1.622994         \n",
       "3                                             1.631680         \n",
       "4                                             1.638053         \n",
       "..                                                 ...         \n",
       "661                                           1.829190         \n",
       "662                                           1.829310         \n",
       "663                                           1.829335         \n",
       "664                                           1.829405         \n",
       "665                                           1.829395         \n",
       "\n",
       "     sampler_results/sampler_perf/mean_inference_ms  \\\n",
       "0                                          1.926621   \n",
       "1                                          1.907204   \n",
       "2                                          1.902245   \n",
       "3                                          1.913093   \n",
       "4                                          1.916961   \n",
       "..                                              ...   \n",
       "661                                        2.020992   \n",
       "662                                        2.021095   \n",
       "663                                        2.021136   \n",
       "664                                        2.021226   \n",
       "665                                        2.021243   \n",
       "\n",
       "     sampler_results/sampler_perf/mean_action_processing_ms  \\\n",
       "0                                             0.067211        \n",
       "1                                             0.065739        \n",
       "2                                             0.065344        \n",
       "3                                             0.065588        \n",
       "4                                             0.065503        \n",
       "..                                                 ...        \n",
       "661                                           0.067000        \n",
       "662                                           0.067001        \n",
       "663                                           0.067002        \n",
       "664                                           0.067003        \n",
       "665                                           0.067003        \n",
       "\n",
       "     sampler_results/sampler_perf/mean_env_wait_ms  \\\n",
       "0                                         0.413892   \n",
       "1                                         0.413190   \n",
       "2                                         0.414438   \n",
       "3                                         0.417682   \n",
       "4                                         0.419723   \n",
       "..                                             ...   \n",
       "661                                       0.455474   \n",
       "662                                       0.455496   \n",
       "663                                       0.455504   \n",
       "664                                       0.455530   \n",
       "665                                       0.455528   \n",
       "\n",
       "     sampler_results/sampler_perf/mean_env_render_ms  \n",
       "0                                                0.0  \n",
       "1                                                0.0  \n",
       "2                                                0.0  \n",
       "3                                                0.0  \n",
       "4                                                0.0  \n",
       "..                                               ...  \n",
       "661                                              0.0  \n",
       "662                                              0.0  \n",
       "663                                              0.0  \n",
       "664                                              0.0  \n",
       "665                                              0.0  \n",
       "\n",
       "[666 rows x 82 columns]"
      ]
     },
     "execution_count": 23,
     "metadata": {},
     "output_type": "execute_result"
    }
   ],
   "source": [
    "# load the trained results and plot the metrics in notebook\n",
    "import pandas as pd\n",
    "\n",
    "# Load the results from the progress.csv in the result folder of your running script\n",
    "df = pd.read_csv(\"saved_runs/bandits/progress.csv\")\n",
    "df"
   ]
  },
  {
   "cell_type": "code",
   "execution_count": 24,
   "metadata": {},
   "outputs": [
    {
     "data": {
      "text/plain": [
       "Text(0.5, 1.0, 'Bandits training performance')"
      ]
     },
     "execution_count": 24,
     "metadata": {},
     "output_type": "execute_result"
    },
    {
     "data": {
      "image/png": "[encoded data removed]",
      "text/plain": [
       "<Figure size 640x480 with 1 Axes>"
      ]
     },
     "metadata": {},
     "output_type": "display_data"
    }
   ],
   "source": [
    "sns.lineplot(data=df, x=\"training_iteration\", y=\"episode_reward_mean\", label=\"bandits\")\n",
    "plt.axhline(sweetest_baseline, color=\"red\", linestyle='--', label=\"sweetest baseline\")\n",
    "plt.axhline(random_baseline, color=\"k\", linestyle='--', label=\"random baseline\")\n",
    "\n",
    "plt.legend()\n",
    "plt.title('Bandits training performance')"
   ]
  },
  {
   "cell_type": "markdown",
   "metadata": {},
   "source": [
    "## Compare the Bandit Training results to Baseline\n",
    "- Bandit Mean Reward=~56 \n",
    "- Kaleist (Argmin) Baseline Mean Reward = ~10.87+/-0.26\n",
    "- Random Baseline Mean Reward = ~99.90+/-23.75\n",
    "- Sweetest (Argmax) Baseline Mean Reward = ~56.56+/-1.37\n",
    "\n",
    "<div class=\"alert alert-block alert-success\">\n",
    "    🤔  <b>Bandit mean reward is approx the same as the sweetest baseline!</b> \n",
    "</div>  \n",
    "\n",
    "Try the code block below to compare what the bandit recommends with what is the sweetest item... you will see that the bandit always recommends the sweetest item!"
   ]
  },
  {
   "cell_type": "code",
   "execution_count": 25,
   "metadata": {},
   "outputs": [],
   "source": [
    "# build the algorithm and load from checkpoint\n",
    "with open(\"saved_runs/bandits/params.pkl\", 'rb') as f:\n",
    "    params = pickle.load(f)"
   ]
  },
  {
   "cell_type": "code",
   "execution_count": 26,
   "metadata": {},
   "outputs": [
    {
     "name": "stderr",
     "output_type": "stream",
     "text": [
      "2022-09-15 17:55:28,460\tWARNING deprecation.py:47 -- DeprecationWarning: `ray.rllib.algorithms.dqn.dqn.DEFAULT_CONFIG` has been deprecated. Use `ray.rllib.algorithms.dqn.dqn.DQNConfig(...)` instead. This will raise an error in the future!\n",
      "2022-09-15 17:55:28,463\tWARNING algorithm.py:2325 -- `evaluation_parallel_to_training` can only be done if `evaluation_num_workers` > 0! Setting `evaluation_parallel_to_training` to False.\n",
      "2022-09-15 17:55:28,463\tWARNING deprecation.py:47 -- DeprecationWarning: `config['multiagent']['replay_mode']` has been deprecated. config['replay_buffer_config']['replay_mode'] This will raise an error in the future!\n",
      "2022-09-15 17:55:28,464\tINFO simple_q.py:303 -- In multi-agent mode, policies will be optimized sequentially by the multi-GPU optimizer. Consider setting `simple_optimizer=True` if this doesn't work for you.\n",
      "2022-09-15 17:55:28,466\tINFO algorithm.py:357 -- Current log_level is ERROR. For more information, set 'log_level': 'INFO' / 'DEBUG' or use the -v and -vv flags.\n",
      "2022-09-15 17:55:33,101\tWARNING util.py:66 -- Install gputil for GPU system monitoring.\n"
     ]
    },
    {
     "data": {
      "text/plain": [
       "DQN"
      ]
     },
     "execution_count": 26,
     "metadata": {},
     "output_type": "execute_result"
    }
   ],
   "source": [
    "bandit_algo = DQN(params)\n",
    "bandit_algo"
   ]
  },
  {
   "cell_type": "code",
   "execution_count": 27,
   "metadata": {},
   "outputs": [
    {
     "name": "stderr",
     "output_type": "stream",
     "text": [
      "2022-09-15 17:55:33,190\tINFO trainable.py:691 -- Restored on 10.0.98.129 from checkpoint: saved_runs/bandits/checkpoint_000666\n",
      "2022-09-15 17:55:33,191\tINFO trainable.py:700 -- Current state after restoring: {'_iteration': 666, '_timesteps_total': None, '_time_total': 53552.765288591385, '_episodes_total': 66600}\n"
     ]
    }
   ],
   "source": [
    "# Load the checkpoint from the result folder of your running script\n",
    "checkpoint = \"saved_runs/bandits/checkpoint_000666\"\n",
    "bandit_algo.restore(checkpoint)"
   ]
  },
  {
   "cell_type": "code",
   "execution_count": 28,
   "metadata": {},
   "outputs": [
    {
     "name": "stdout",
     "output_type": "stream",
     "text": [
      "--------------------------------------------------\n",
      "observation_features:  [0.99572366 0.15983172 0.8922959  0.15610583 0.8236549  0.12798421\n",
      " 0.8286707  0.18893379 0.90436965 0.08293239 0.8529111  0.15484674\n",
      " 0.89123005 0.11368679 0.80375797 0.1235271  0.92241913 0.1233868\n",
      " 0.9887496  0.13636406]\n",
      "bandit's feature value=[0.99572366]; argmax feature=[0.99572366];\n",
      "--------------------------------------------------\n",
      "observation_features:  [0.8719016  0.08740639 0.93952626 0.01204509 0.93335336 0.13412757\n",
      " 0.84207654 0.02578526 0.8630857  0.07274216 0.9140394  0.0877203\n",
      " 0.99767476 0.02040896 0.84177536 0.0322619  0.9306217  0.05065832\n",
      " 0.89326215 0.04888512]\n",
      "bandit's feature value=[0.99767476]; argmax feature=[0.99767476];\n",
      "--------------------------------------------------\n",
      "observation_features:  [0.8317939  0.02207503 0.9312659  0.02763659 0.8393165  0.07374503\n",
      " 0.96419865 0.01942025 0.96758896 0.01921968 0.9952919  0.09373024\n",
      " 0.9953522  0.1209691  0.94785273 0.00783756 0.85656136 0.02403931\n",
      " 0.859228   0.02374554]\n",
      "bandit's feature value=[0.9953522]; argmax feature=[0.9953522];\n",
      "--------------------------------------------------\n",
      "observation_features:  [8.6359662e-01 8.2852602e-02 8.1282949e-01 1.3849442e-01 9.1332030e-01\n",
      " 5.3077899e-02 9.0464962e-01 1.8788103e-02 9.1518933e-01 1.8585923e-01\n",
      " 8.6371380e-01 1.3348207e-01 8.2635957e-01 1.4326544e-01 8.5788125e-01\n",
      " 3.6638271e-02 9.1730261e-01 4.0215091e-03 9.6578801e-01 9.3909522e-04]\n",
      "bandit's feature value=[0.9046496]; argmax feature=[0.965788];\n",
      "--------------------------------------------------\n",
      "observation_features:  [0.9355633  0.0540016  0.9470388  0.19243771 0.84975064 0.11523147\n",
      " 0.9184084  0.11445038 0.84461635 0.1905498  0.8894251  0.16928174\n",
      " 0.93989587 0.05948739 0.96275955 0.07930115 0.97622067 0.11625458\n",
      " 0.9763471  0.13850632]\n",
      "bandit's feature value=[0.9763471]; argmax feature=[0.9763471];\n",
      "--------------------------------------------------\n",
      "observation_features:  [0.94505084 0.10026488 0.9912167  0.12879804 0.884771   0.12127864\n",
      " 0.8038386  0.06031496 0.93203473 0.05801552 0.92360306 0.08575374\n",
      " 0.8270948  0.05965646 0.913993   0.11817455 0.9148651  0.13064016\n",
      " 0.93042064 0.08628368]\n",
      "bandit's feature value=[0.9912167]; argmax feature=[0.9912167];\n",
      "--------------------------------------------------\n",
      "observation_features:  [0.9793093  0.07351238 0.887173   0.17838468 0.9612388  0.14077772\n",
      " 0.82004535 0.18389653 0.94284827 0.19976941 0.82988966 0.17362522\n",
      " 0.8324986  0.12311191 0.824764   0.16960165 0.9614638  0.11382015\n",
      " 0.88143665 0.0138334 ]\n",
      "bandit's feature value=[0.9793093]; argmax feature=[0.9793093];\n",
      "--------------------------------------------------\n",
      "observation_features:  [0.9394857  0.09070854 0.9444111  0.17327647 0.9951043  0.17116067\n",
      " 0.80234283 0.07199562 0.94599813 0.03432593 0.90420735 0.0108676\n",
      " 0.8399993  0.00370436 0.9587395  0.04478494 0.86907035 0.18561625\n",
      " 0.94088286 0.00636779]\n",
      "bandit's feature value=[0.9951043]; argmax feature=[0.9951043];\n",
      "--------------------------------------------------\n",
      "observation_features:  [0.83293885 0.12429568 0.91544574 0.04757857 0.9868428  0.12279319\n",
      " 0.90712655 0.11798199 0.9460244  0.062389   0.8796442  0.04196875\n",
      " 0.8372386  0.18887448 0.94791013 0.09809176 0.84548295 0.0508713\n",
      " 0.8116058  0.08688332]\n",
      "bandit's feature value=[0.9868428]; argmax feature=[0.9868428];\n",
      "--------------------------------------------------\n",
      "observation_features:  [0.86235917 0.1392687  0.8755504  0.03592074 0.80493575 0.01344993\n",
      " 0.9358786  0.09073937 0.90731585 0.17933425 0.9980678  0.0433794\n",
      " 0.93261564 0.05266447 0.8041302  0.15167573 0.8640034  0.07669278\n",
      " 0.9176634  0.1662097 ]\n",
      "bandit's feature value=[0.9980678]; argmax feature=[0.9980678];\n"
     ]
    }
   ],
   "source": [
    "env = ModifiedLongTermSatisfactionRecSimEnv()\n",
    "obs = env.reset()\n",
    "\n",
    "# Run a single episode.\n",
    "done = False\n",
    "while not done:\n",
    "    # use `compute_single_action` method of our Trainer.\n",
    "    # This is one way to perform inference on a learned policy.\n",
    "    # TODO: Code here\n",
    "    bandit_action = ...\n",
    "    argmax_action = int(max(obs['doc'], key=lambda x: obs['doc'][x]))\n",
    "\n",
    "    feature_value_of_bandit = obs[\"doc\"][str(bandit_action)]\n",
    "    feature_value_of_greedy = obs[\"doc\"][str(argmax_action)]\n",
    "\n",
    "\n",
    "    # Print out the picked document's feature value and compare that to the highest possible feature value.\n",
    "    print(\"-\"*50)\n",
    "    print(\"observation_features: \", np.concatenate(list(obs[\"doc\"].values())))\n",
    "    print(f\"bandit's feature value={feature_value_of_bandit}; argmax feature={feature_value_of_greedy};\")\n",
    "\n",
    "    # Apply the computed action in the environment and continue.\n",
    "    obs, r, done, _ = env.step(bandit_action)"
   ]
  },
  {
   "cell_type": "markdown",
   "metadata": {},
   "source": [
    "In this dummy Recsim environment, we did not have any user features.  This makes the contextual bandit without any user context, i.e. without any state.  A stateless bandit cannot remember things between timesteps, so it will sort of converge to the most greedy policy that recommends chocolotes."
   ]
  },
  {
   "cell_type": "markdown",
   "metadata": {},
   "source": [
    "# Solving the problem with RL <a class=\"anchor\" id=\"dqn\"></a>\n",
    "\n",
    "So far the bandit solution has just converged to the perforamnce of greedy argmax policy. **How can we improve over the random policy baseline** Now let's run the DQN algorithm with $\\gamma = 0.99$. We run this script for 1M environment timesteps till convergence. It will take ~ 1hour to run this training job.\n",
    "\n",
    "**Exercise (1 min)** How would you modify the previous config object (`bandit_config`) to train an RL agent to optimize long-term engagement (hint: use `.training()` API)?\n"
   ]
  },
  {
   "cell_type": "code",
   "execution_count": 29,
   "metadata": {},
   "outputs": [
    {
     "data": {
      "text/html": [
       "<div class=\"tuneStatus\">\n",
       "  <div style=\"display: flex;flex-direction: row\">\n",
       "    <div style=\"display: flex;flex-direction: column;\">\n",
       "      <h3>Tune Status</h3>\n",
       "      <table>\n",
       "<tbody>\n",
       "<tr><td>Current time:</td><td>2022-09-15 17:55:41</td></tr>\n",
       "<tr><td>Running for: </td><td>00:00:08.73        </td></tr>\n",
       "<tr><td>Memory:      </td><td>4.5/62.0 GiB       </td></tr>\n",
       "</tbody>\n",
       "</table>\n",
       "    </div>\n",
       "    <div class=\"vDivider\"></div>\n",
       "    <div class=\"systemInfo\">\n",
       "      <h3>System Info</h3>\n",
       "      Using FIFO scheduling algorithm.<br>Resources requested: 0/16 CPUs, 0/0 GPUs, 0.0/34.23 GiB heap, 0.0/17.12 GiB objects\n",
       "    </div>\n",
       "    \n",
       "  </div>\n",
       "  <div class=\"hDivider\"></div>\n",
       "  <div class=\"trialStatus\">\n",
       "    <h3>Trial Status</h3>\n",
       "    <table>\n",
       "<thead>\n",
       "<tr><th>Trial name                  </th><th>status    </th><th>loc               </th><th style=\"text-align: right;\">  iter</th><th style=\"text-align: right;\">  total time (s)</th><th style=\"text-align: right;\">  ts</th><th style=\"text-align: right;\">  reward</th><th style=\"text-align: right;\">  num_recreated_wor...</th><th style=\"text-align: right;\">  episode_reward_max</th><th style=\"text-align: right;\">  episode_reward_min</th></tr>\n",
       "</thead>\n",
       "<tbody>\n",
       "<tr><td>DQN_modified-lts_44996_00000</td><td>TERMINATED</td><td>10.0.98.129:274346</td><td style=\"text-align: right;\">     1</td><td style=\"text-align: right;\">          3.5886</td><td style=\"text-align: right;\">1000</td><td style=\"text-align: right;\"> 100.047</td><td style=\"text-align: right;\">                     0</td><td style=\"text-align: right;\">             159.243</td><td style=\"text-align: right;\">             53.3649</td></tr>\n",
       "</tbody>\n",
       "</table>\n",
       "  </div>\n",
       "</div>\n",
       "<style>\n",
       ".tuneStatus {\n",
       "  color: var(--jp-ui-font-color1);\n",
       "}\n",
       ".tuneStatus .systemInfo {\n",
       "  display: flex;\n",
       "  flex-direction: column;\n",
       "}\n",
       ".tuneStatus td {\n",
       "  white-space: nowrap;\n",
       "}\n",
       ".tuneStatus .trialStatus {\n",
       "  display: flex;\n",
       "  flex-direction: column;\n",
       "}\n",
       ".tuneStatus h3 {\n",
       "  font-weight: bold;\n",
       "}\n",
       ".tuneStatus .hDivider {\n",
       "  border-bottom-width: var(--jp-border-width);\n",
       "  border-bottom-color: var(--jp-border-color0);\n",
       "  border-bottom-style: solid;\n",
       "}\n",
       ".tuneStatus .vDivider {\n",
       "  border-left-width: var(--jp-border-width);\n",
       "  border-left-color: var(--jp-border-color0);\n",
       "  border-left-style: solid;\n",
       "  margin: 0.5em 1em 0.5em 1em;\n",
       "}\n",
       "</style>\n"
      ],
      "text/plain": [
       "<IPython.core.display.HTML object>"
      ]
     },
     "metadata": {},
     "output_type": "display_data"
    },
    {
     "name": "stderr",
     "output_type": "stream",
     "text": [
      "\u001b[2m\u001b[36m(DQN pid=274346)\u001b[0m 2022-09-15 17:55:38,185\tWARNING deprecation.py:47 -- DeprecationWarning: `ray.rllib.algorithms.dqn.dqn.DEFAULT_CONFIG` has been deprecated. Use `ray.rllib.algorithms.dqn.dqn.DQNConfig(...)` instead. This will raise an error in the future!\n",
      "\u001b[2m\u001b[36m(DQN pid=274346)\u001b[0m 2022-09-15 17:55:38,185\tWARNING deprecation.py:47 -- DeprecationWarning: `config['multiagent']['replay_mode']` has been deprecated. config['replay_buffer_config']['replay_mode'] This will raise an error in the future!\n",
      "\u001b[2m\u001b[36m(DQN pid=274346)\u001b[0m 2022-09-15 17:55:38,186\tINFO simple_q.py:303 -- In multi-agent mode, policies will be optimized sequentially by the multi-GPU optimizer. Consider setting `simple_optimizer=True` if this doesn't work for you.\n",
      "\u001b[2m\u001b[36m(DQN pid=274346)\u001b[0m 2022-09-15 17:55:38,187\tINFO algorithm.py:357 -- Current log_level is WARN. For more information, set 'log_level': 'INFO' / 'DEBUG' or use the -v and -vv flags.\n",
      "\u001b[2m\u001b[36m(DQN pid=274346)\u001b[0m 2022-09-15 17:55:38,206\tWARNING env.py:142 -- Your env doesn't have a .spec.max_episode_steps attribute. This is fine if you have set 'horizon' in your config dictionary, or `soft_horizon`. However, if you haven't, 'horizon' will default to infinity, and your environment will not be reset.\n",
      "\u001b[2m\u001b[36m(DQN pid=274346)\u001b[0m 2022-09-15 17:55:38,276\tWARNING util.py:66 -- Install gputil for GPU system monitoring.\n",
      "\u001b[2m\u001b[36m(DQN pid=274346)\u001b[0m 2022-09-15 17:55:38,310\tWARNING deprecation.py:47 -- DeprecationWarning: `ReplayBuffer.add_batch()` has been deprecated. Use `ReplayBuffer.add()` instead. This will raise an error in the future!\n",
      "\u001b[2m\u001b[36m(DQN pid=274346)\u001b[0m 2022-09-15 17:55:38,324\tWARNING multi_agent_prioritized_replay_buffer.py:215 -- Adding batches with column `weights` to this buffer while providing weights as a call argument to the add method results in the column being overwritten.\n"
     ]
    },
    {
     "data": {
      "text/html": [
       "<div class=\"trialProgress\">\n",
       "  <h3>Trial Progress</h3>\n",
       "  <table>\n",
       "<thead>\n",
       "<tr><th>Trial name                  </th><th style=\"text-align: right;\">  agent_timesteps_total</th><th>counters                                                                                                                  </th><th>custom_metrics  </th><th>date               </th><th>done  </th><th style=\"text-align: right;\">  episode_len_mean</th><th>episode_media  </th><th style=\"text-align: right;\">  episode_reward_max</th><th style=\"text-align: right;\">  episode_reward_mean</th><th style=\"text-align: right;\">  episode_reward_min</th><th style=\"text-align: right;\">  episodes_this_iter</th><th style=\"text-align: right;\">  episodes_total</th><th>experiment_id                   </th><th>hostname      </th><th>info                                                                                                                                     </th><th style=\"text-align: right;\">  iterations_since_restore</th><th>node_ip    </th><th style=\"text-align: right;\">  num_agent_steps_sampled</th><th style=\"text-align: right;\">  num_agent_steps_trained</th><th style=\"text-align: right;\">  num_env_steps_sampled</th><th style=\"text-align: right;\">  num_env_steps_sampled_this_iter</th><th style=\"text-align: right;\">  num_env_steps_trained</th><th style=\"text-align: right;\">  num_env_steps_trained_this_iter</th><th style=\"text-align: right;\">  num_faulty_episodes</th><th style=\"text-align: right;\">  num_healthy_workers</th><th style=\"text-align: right;\">  num_recreated_workers</th><th style=\"text-align: right;\">  num_steps_trained_this_iter</th><th>perf                                               </th><th style=\"text-align: right;\">   pid</th><th>policy_reward_max  </th><th>policy_reward_mean  </th><th>policy_reward_min  </th><th>sampler_perf                                                                                                                                                                                                      </th><th>sampler_results                                                                                                                                                                                                                                                                                                                                                                                                                                                                                                                                                                                                                                                                                                                                                                                                                                                                                                                                                                                                                                                                                                                                                                                                                                                                                                                                                                                                                                                                                                                                                                                                                                                                                                                                                                                                                                                                                                                                                                                                                                                                                                                                                                                                                                                                                                                                                                                                                                                                                                                                                                                                                                                                                                                                                                                                                                                                                                                                                                                                                                                  </th><th style=\"text-align: right;\">  time_since_restore</th><th style=\"text-align: right;\">  time_this_iter_s</th><th style=\"text-align: right;\">  time_total_s</th><th>timers                                </th><th style=\"text-align: right;\">  timestamp</th><th style=\"text-align: right;\">  timesteps_since_restore</th><th style=\"text-align: right;\">  timesteps_total</th><th style=\"text-align: right;\">  training_iteration</th><th style=\"text-align: right;\">   trial_id</th><th style=\"text-align: right;\">  warmup_time</th></tr>\n",
       "</thead>\n",
       "<tbody>\n",
       "<tr><td>DQN_modified-lts_44996_00000</td><td style=\"text-align: right;\">                   1000</td><td>{&#x27;num_env_steps_sampled&#x27;: 1000, &#x27;num_env_steps_trained&#x27;: 0, &#x27;num_agent_steps_sampled&#x27;: 1000, &#x27;num_agent_steps_trained&#x27;: 0}</td><td>{}              </td><td>2022-09-15_17-55-41</td><td>True  </td><td style=\"text-align: right;\">                10</td><td>{}             </td><td style=\"text-align: right;\">             159.243</td><td style=\"text-align: right;\">              100.047</td><td style=\"text-align: right;\">             53.3649</td><td style=\"text-align: right;\">                 100</td><td style=\"text-align: right;\">             100</td><td>dbcf8a3755f84187b58312ae23f0fb84</td><td>ip-10-0-98-129</td><td>{&#x27;learner&#x27;: {}, &#x27;num_env_steps_sampled&#x27;: 1000, &#x27;num_env_steps_trained&#x27;: 0, &#x27;num_agent_steps_sampled&#x27;: 1000, &#x27;num_agent_steps_trained&#x27;: 0}</td><td style=\"text-align: right;\">                         1</td><td>10.0.98.129</td><td style=\"text-align: right;\">                     1000</td><td style=\"text-align: right;\">                        0</td><td style=\"text-align: right;\">                   1000</td><td style=\"text-align: right;\">                             1000</td><td style=\"text-align: right;\">                      0</td><td style=\"text-align: right;\">                                0</td><td style=\"text-align: right;\">                    0</td><td style=\"text-align: right;\">                    0</td><td style=\"text-align: right;\">                      0</td><td style=\"text-align: right;\">                            0</td><td>{&#x27;cpu_util_percent&#x27;: 9.18, &#x27;ram_util_percent&#x27;: 7.2}</td><td style=\"text-align: right;\">274346</td><td>{}                 </td><td>{}                  </td><td>{}                 </td><td>{&#x27;mean_raw_obs_processing_ms&#x27;: 1.4828135083605367, &#x27;mean_inference_ms&#x27;: 1.4900244199312656, &#x27;mean_action_processing_ms&#x27;: 0.059668000761445586, &#x27;mean_env_wait_ms&#x27;: 0.36171051886650935, &#x27;mean_env_render_ms&#x27;: 0.0}</td><td>{&#x27;episode_reward_max&#x27;: 159.24297552539852, &#x27;episode_reward_min&#x27;: 53.364865627546784, &#x27;episode_reward_mean&#x27;: 100.04682287505771, &#x27;episode_len_mean&#x27;: 10.0, &#x27;episode_media&#x27;: {}, &#x27;episodes_this_iter&#x27;: 100, &#x27;policy_reward_min&#x27;: {}, &#x27;policy_reward_max&#x27;: {}, &#x27;policy_reward_mean&#x27;: {}, &#x27;custom_metrics&#x27;: {}, &#x27;hist_stats&#x27;: {&#x27;episode_reward&#x27;: [113.61482749753935, 113.32257190283738, 96.39410890617886, 128.9456546930538, 103.68676702076061, 117.98860561754262, 134.54942002552013, 90.16582763236124, 103.43342438512506, 97.97468788983497, 97.27920081838603, 98.32364090628954, 79.80240452649066, 85.27514550407977, 98.03977319779975, 92.59930455775569, 69.0871629041306, 56.2016488082881, 64.94903578831631, 68.02744936779011, 129.77039350545942, 120.2344702684197, 98.34312381266955, 64.23262690590396, 90.2568302218766, 87.074320400444, 152.37672284609866, 159.24297552539852, 85.3711882875691, 88.44483504980138, 117.7050298043179, 134.06174169716937, 58.98707338734169, 101.7688865908238, 92.4031257049914, 92.95487643014212, 88.44919540761838, 97.44721421634725, 110.37599436697136, 118.10070436973109, 60.84540656458665, 89.24054638622854, 100.13857044953723, 101.86898927953128, 114.06076091466615, 69.96657060838979, 104.6697635512121, 88.08837424181228, 58.16266555413214, 120.86055972868098, 77.45840861317505, 76.02228630746525, 110.81990236410516, 73.38431266434367, 101.52741889847127, 110.97682184590762, 97.00391381595351, 110.58517525630889, 106.05320870082905, 140.70417862785908, 103.83978501410797, 79.99331668858936, 144.3355656418036, 130.33700730901487, 122.02114905140662, 97.03858954664047, 104.82574501869051, 53.364865627546784, 92.85967812602124, 108.88265186360795, 79.60747521930004, 136.84807326554164, 69.28539408765407, 70.6814844038919, 109.89875750743704, 121.61031650648432, 101.47670549163428, 115.89979749620686, 67.44774029749789, 105.91670500905639, 105.46161539632743, 87.16497321613866, 73.43115731329263, 79.4377398768632, 111.9079739002027, 105.04354322946122, 104.60118033365367, 128.77850447947006, 120.29507535051434, 129.31022449823965, 135.79147305439145, 95.26131351155227, 90.88292076271739, 121.04321236597738, 104.2234918756996, 107.58473391415308, 110.11198005433981, 80.47091747539557, 130.5843140984107, 57.42531450446518], &#x27;episode_lengths&#x27;: [10, 10, 10, 10, 10, 10, 10, 10, 10, 10, 10, 10, 10, 10, 10, 10, 10, 10, 10, 10, 10, 10, 10, 10, 10, 10, 10, 10, 10, 10, 10, 10, 10, 10, 10, 10, 10, 10, 10, 10, 10, 10, 10, 10, 10, 10, 10, 10, 10, 10, 10, 10, 10, 10, 10, 10, 10, 10, 10, 10, 10, 10, 10, 10, 10, 10, 10, 10, 10, 10, 10, 10, 10, 10, 10, 10, 10, 10, 10, 10, 10, 10, 10, 10, 10, 10, 10, 10, 10, 10, 10, 10, 10, 10, 10, 10, 10, 10, 10, 10]}, &#x27;sampler_perf&#x27;: {&#x27;mean_raw_obs_processing_ms&#x27;: 1.4828135083605367, &#x27;mean_inference_ms&#x27;: 1.4900244199312656, &#x27;mean_action_processing_ms&#x27;: 0.059668000761445586, &#x27;mean_env_wait_ms&#x27;: 0.36171051886650935, &#x27;mean_env_render_ms&#x27;: 0.0}, &#x27;num_faulty_episodes&#x27;: 0}</td><td style=\"text-align: right;\">              3.5886</td><td style=\"text-align: right;\">            3.5886</td><td style=\"text-align: right;\">        3.5886</td><td>{&#x27;training_iteration_time_ms&#x27;: 13.715}</td><td style=\"text-align: right;\"> 1663289741</td><td style=\"text-align: right;\">                        0</td><td style=\"text-align: right;\">             1000</td><td style=\"text-align: right;\">                   1</td><td style=\"text-align: right;\">44996_00000</td><td style=\"text-align: right;\">     0.105404</td></tr>\n",
       "</tbody>\n",
       "</table>\n",
       "</div>\n",
       "<style>\n",
       ".trialProgress {\n",
       "  display: flex;\n",
       "  flex-direction: column;\n",
       "  color: var(--jp-ui-font-color1);\n",
       "}\n",
       ".trialProgress h3 {\n",
       "  font-weight: bold;\n",
       "}\n",
       ".trialProgress td {\n",
       "  white-space: nowrap;\n",
       "}\n",
       "</style>\n"
      ],
      "text/plain": [
       "<IPython.core.display.HTML object>"
      ]
     },
     "metadata": {},
     "output_type": "display_data"
    },
    {
     "name": "stderr",
     "output_type": "stream",
     "text": [
      "2022-09-15 17:55:42,692\tINFO tune.py:762 -- Total run time: 9.44 seconds (8.68 seconds for the tuning loop).\n"
     ]
    }
   ],
   "source": [
    "# TODO: Code here\n",
    "dqn_config = ...\n",
    "\n",
    "tuner = tune.Tuner(\n",
    "    DQN,\n",
    "    param_space=dqn_config.to_dict(),\n",
    "    run_config=air.RunConfig(\n",
    "        local_dir='./results_notebook/online_rl/dqn',\n",
    "        stop={\"training_iteration\": 1},  # this is enough for it to converge\n",
    "    )\n",
    ")\n",
    "dqn_results = tuner.fit()"
   ]
  },
  {
   "cell_type": "markdown",
   "metadata": {},
   "source": [
    "You can run the same script as before, with `gamma=0.99` passed in as a parameter. We should also run the script longer (1M steps) as it will take longer for DQN to converge. \n",
    "```bash\n",
    "python tutorial_scripts/run_online_rl.py --seed 0 --gamma 0.99 --exp_name dqn --timesteps 1_000_000\n",
    "```"
   ]
  },
  {
   "cell_type": "markdown",
   "metadata": {},
   "source": [
    "**Exercise** Take a look at the results and compare them to bandits via tensorboard."
   ]
  },
  {
   "cell_type": "code",
   "execution_count": 30,
   "metadata": {},
   "outputs": [],
   "source": [
    "# take a look at the results\n",
    "bandit_df = pd.read_csv(\"saved_runs/bandits/progress.csv\")\n",
    "dqn_df = pd.read_csv(\"saved_runs/dqn/progress.csv\")"
   ]
  },
  {
   "cell_type": "code",
   "execution_count": 31,
   "metadata": {},
   "outputs": [
    {
     "data": {
      "text/plain": [
       "Text(0.5, 1.0, 'RL vs. Bandits training performance')"
      ]
     },
     "execution_count": 31,
     "metadata": {},
     "output_type": "execute_result"
    },
    {
     "data": {
      "image/png": "[encoded data removed]",
      "text/plain": [
       "<Figure size 640x480 with 1 Axes>"
      ]
     },
     "metadata": {},
     "output_type": "display_data"
    }
   ],
   "source": [
    "# plot the results and compare to baselines\n",
    "sns.lineplot(data=bandit_df, x=\"training_iteration\", y=\"episode_reward_mean\", label=\"Bandits\")\n",
    "sns.lineplot(data=dqn_df, x=\"training_iteration\", y=\"episode_reward_mean\", label=\"DQN\")\n",
    "plt.axhline(random_baseline, color=\"red\", linestyle='--', label=\"random baseline\")\n",
    "plt.axhline(sweetest_baseline, color=\"blue\", linestyle='--', label=\"sweetest baseline\")\n",
    "plt.legend()\n",
    "plt.title('RL vs. Bandits training performance')\n"
   ]
  },
  {
   "cell_type": "markdown",
   "metadata": {},
   "source": [
    "- **Sweetest** straight line, is the mean reward achieved by the greedy policy, selecting always the item with most immediate reward value.\n",
    "- **Bandit** short term reward hovers around the \"sweetest baseline\".\n",
    "- **Random** straight line, items are randomly chosen to be recommended at each timestep. Since this baseline mixes the sweetest and kaliest options the engagement is kept higher than either of the greedy methods, obtaining larger rewards.\n",
    "- **DQN (RL)**, such as DQN that optimize for long-term engagement significantly improves upon random baselines."
   ]
  },
  {
   "cell_type": "markdown",
   "metadata": {},
   "source": [
    "# Questions and Break (5 min) <a class=\"anchor\" id=\"break\"></a>"
   ]
  },
  {
   "cell_type": "markdown",
   "metadata": {},
   "source": [
    "# Offline RL with RecSys <a class=\"anchor\" id=\"offline-rl\"></a>\n",
    "\n",
    "<img src=\"images/offline_rl.png\">"
   ]
  },
  {
   "cell_type": "markdown",
   "metadata": {},
   "source": [
    "\n",
    "### If we don't have a live environment, how do we know, how well our trained policy will perform?\n",
    "\n",
    "One of the challenges in offline RL is the evaluation of the trained policy. In online RL (when a simulator\n",
    "is available), one can either use the data collected for training to compute episode total rewards. Remember\n",
    "that observations, actions, rewards, and done flags are all part of this training data. Alternatively,\n",
    "one could run a separate worker (with the same trained policy) and run it on a fresh evaluation-only environment.\n",
    "In this latter case, we would also have the chance to switch off any exploratory behavior (e.g. stochasticity used\n",
    "for better action entropy).\n",
    "\n",
    "In offline RL, no such data from a live environment is available to us. There are two common ways of addressing this dilemma:\n",
    "\n",
    "1) We deploy the learned policies into production, or maybe just a portion of our production system (similar to A/B testing), and see what happens.\n",
    "\n",
    "2) We use a method called \"off policy evaluation\" (OPE) to compute an estimate on how the new policy would perform if we were to deploy it into a real environment. There are different OPE methods available in RLlib off-the-shelf.\n",
    "\n",
    "3) The third option - which we will use here - is kind of cheating and only possible if you actually do have a simulator available (but you only want to use it for evaluation, not for training, because you want to see how cool offline RL is :) )\n",
    "\n",
    "In this tutorial, we will use the third option to show the effectiveness of offline RL in improving over existing policies running in production. We will also see how much benefit we can get by improving our dataset quality, starting from a totally random policy all the way to 20% expert demonstrations adn 80% random. "
   ]
  },
  {
   "cell_type": "markdown",
   "metadata": {},
   "source": [
    "We can use the currently running policies in production to collect some \"historical data\" that we can use to train RL agents with. Offline RL can be used to improve upon the existing policies deployed in production. We have prepared some datasets in advance for the purpose of this tutorial. They were all generated using `<path to the script>`. In this script we can mix the percentage of the \"expert\" data vs. random data to investigate the effect of dataset quality on the final performance of our models.   "
   ]
  },
  {
   "cell_type": "markdown",
   "metadata": {},
   "source": [
    "Let's look at an exemplar dataset we have prepared before:\n",
    "\n"
   ]
  },
  {
   "cell_type": "code",
   "execution_count": 32,
   "metadata": {},
   "outputs": [
    {
     "name": "stderr",
     "output_type": "stream",
     "text": [
      "2022-09-15 17:55:44,065\tWARNING read_api.py:291 -- ⚠️  The number of blocks in this dataset (1) limits its parallelism to 1 concurrent tasks. This is much less than the number of available CPU slots in the cluster. Use `.repartition(n)` to increase the number of dataset blocks.\n"
     ]
    },
    {
     "name": "stdout",
     "output_type": "stream",
     "text": [
      "Colimns:  Index(['type', 'obs', 'new_obs', 'actions', 'rewards', 'dones', 'eps_id', 't',\n",
      "       'action_prob'],\n",
      "      dtype='object')\n",
      "Number of rows:  100\n",
      "Value of the first row\n",
      "--------------------\n",
      "type                                                 SampleBatch\n",
      "obs            BCJNGGhAMAQAAAAAAACKIgIAAGGABZUlBAABAPEcjBVudW...\n",
      "new_obs        BCJNGGhALQQAAAAAAABmHgIAAGGABZUiBAABAPEcjBVudW...\n",
      "actions                                                      [0]\n",
      "rewards                                      [22.45008736559994]\n",
      "dones                                                    [False]\n",
      "eps_id                                                       [0]\n",
      "t                                                            [0]\n",
      "action_prob                                               [0.05]\n",
      "Name: 0, dtype: object\n",
      "Value of the second row:\n",
      "--------------------\n",
      "type                                                 SampleBatch\n",
      "obs            BCJNGGhALQQAAAAAAABmHgIAAGGABZUiBAABAPEcjBVudW...\n",
      "new_obs        BCJNGGhALQQAAAAAAABmHAIAAGGABZUiBAABAPEcjBVudW...\n",
      "actions                                                      [7]\n",
      "rewards                                     [1.4457165728302563]\n",
      "dones                                                    [False]\n",
      "eps_id                                                       [0]\n",
      "t                                                            [1]\n",
      "action_prob                                               [0.05]\n",
      "Name: 1, dtype: object\n"
     ]
    }
   ],
   "source": [
    "prefix = \"s3://air-example-data/rllib/acm_recsys22_tutorial_data/\"\n",
    "train_data_path = prefix + \"sampled_data_train_random_transitions_small\"\n",
    "\n",
    "dset = data.read_json(train_data_path)\n",
    "df = dset.to_pandas()\n",
    "print('Colimns: ', df.columns)\n",
    "print('Number of rows: ', len(df))\n",
    "print('Value of the first row')\n",
    "print('-'*20)\n",
    "print(df.iloc[0])\n",
    "print('Value of the second row:')\n",
    "print('-'*20)\n",
    "print(df.iloc[1])\n"
   ]
  },
  {
   "cell_type": "markdown",
   "metadata": {},
   "source": [
    "From the dataset schema, we can see that RLlib always expects a `type` column that is `SampleBatch`. It will have the normal transition entities per each row (i.e. observation, next_observation, action, reward, done values). It will also contain an episode_id, a timestep indicator, and an action_prob that show the probablity of the action that we chosen at the time of data collection. For random policy the action prob will always be 1/20 (0.05). "
   ]
  },
  {
   "cell_type": "markdown",
   "metadata": {},
   "source": [
    "Now that we have an understaning of the dataset example format, we can use RLlib to train an offline RL algorithm. RLlib provides several out of the box offline RL algorithms that you can use. Beside those offline-RL-specific algorithms, we can also use any off-policy algorithm (e.g. DQN) to do offline-RL. The only difference between online and offline version is that instead of using an enviornement sampler, we use a dataset sampler to get the data from. In the next section, we will use DQN, with the difference that we pass a dataset path to the input config."
   ]
  },
  {
   "cell_type": "markdown",
   "metadata": {},
   "source": [
    "Here is the summary of the differences:\n",
    "\n",
    "- Change the input config from a sample to offline dataset is configured by `.offline_data()` API:\n",
    "\n",
    "```python\n",
    "    .offline_data(\n",
    "        input_='dataset',\n",
    "        input_config={\n",
    "            'format': 'json',\n",
    "            'paths': train_data_path\n",
    "        }\n",
    "    )\n",
    "```\n",
    "\n",
    "- The environment is not passed to the enviornement anymore. Instead we need to pass in the expected action and observation space to construct the policies. We can create them manually based on our knowledge of our system. In this case we actually cheat and use the environment attributes to get the correct action and observatin spaces.\n",
    "\n",
    "```python \n",
    "    .environment(\n",
    "        action_space=action_space,\n",
    "        observation_space=observation_space,\n",
    "    )\n",
    "```\n",
    "\n",
    "- evaluation config: Since during the evaluation we still need to use the enviroenement simulations, we need to specify it explicitly here. RLlib by default will use the training settings during evaluation and to avoid that default behavior we need to explicitly specify the simulation environment configs. \n",
    "\n",
    "```python\n",
    "    .evaluation(\n",
    "        evaluation_interval=1,\n",
    "        evaluation_config={\n",
    "            \"input\": \"sampler\",\n",
    "            \"explore\": False,\n",
    "            \"env\": \"modified-lts\",\n",
    "            \"env_config\": env_config,\n",
    "        },\n",
    "    )\n",
    "```"
   ]
  },
  {
   "cell_type": "markdown",
   "metadata": {},
   "source": [
    "Running the script below takes about 1 hour. "
   ]
  },
  {
   "cell_type": "code",
   "execution_count": 59,
   "metadata": {},
   "outputs": [],
   "source": [
    "env = ModifiedLongTermSatisfactionRecSimEnv()\n",
    "action_space = env.action_space\n",
    "observation_space = env.observation_space\n",
    "\n",
    "dqn_config_offline = (\n",
    "    DQNConfig()\n",
    "    .offline_data(\n",
    "        input_='dataset',\n",
    "        input_config={\n",
    "            'format': 'json',\n",
    "            'paths': train_data_path,\n",
    "        }\n",
    "    )\n",
    "    .environment(\n",
    "        action_space=action_space,\n",
    "        observation_space=observation_space,\n",
    "    )\n",
    "    .evaluation(\n",
    "        evaluation_interval=1,\n",
    "        evaluation_config={\n",
    "            \"input\": \"sampler\",\n",
    "            \"explore\": False,\n",
    "            \"env\": \"modified-lts\",\n",
    "        },\n",
    "    )\n",
    "    .training(gamma=0.99)\n",
    ")"
   ]
  },
  {
   "cell_type": "markdown",
   "metadata": {},
   "source": [
    "To run the long-running learning script run:\n",
    "\n",
    "```bash\n",
    "python tutorial_scripts/run_offline_rl.py --dataset_suffix sampled_data_train_random_transitions\n",
    "```"
   ]
  },
  {
   "cell_type": "code",
   "execution_count": 60,
   "metadata": {},
   "outputs": [
    {
     "data": {
      "text/html": [
       "<div class=\"tuneStatus\">\n",
       "  <div style=\"display: flex;flex-direction: row\">\n",
       "    <div style=\"display: flex;flex-direction: column;\">\n",
       "      <h3>Tune Status</h3>\n",
       "      <table>\n",
       "<tbody>\n",
       "<tr><td>Current time:</td><td>2022-09-15 18:01:54</td></tr>\n",
       "<tr><td>Running for: </td><td>00:00:10.23        </td></tr>\n",
       "<tr><td>Memory:      </td><td>4.8/62.0 GiB       </td></tr>\n",
       "</tbody>\n",
       "</table>\n",
       "    </div>\n",
       "    <div class=\"vDivider\"></div>\n",
       "    <div class=\"systemInfo\">\n",
       "      <h3>System Info</h3>\n",
       "      Using FIFO scheduling algorithm.<br>Resources requested: 0/16 CPUs, 0/0 GPUs, 0.0/34.23 GiB heap, 0.0/17.12 GiB objects\n",
       "    </div>\n",
       "    \n",
       "  </div>\n",
       "  <div class=\"hDivider\"></div>\n",
       "  <div class=\"trialStatus\">\n",
       "    <h3>Trial Status</h3>\n",
       "    <table>\n",
       "<thead>\n",
       "<tr><th>Trial name          </th><th>status    </th><th>loc               </th><th style=\"text-align: right;\">  iter</th><th style=\"text-align: right;\">  total time (s)</th><th style=\"text-align: right;\">  ts</th><th style=\"text-align: right;\">  reward</th><th style=\"text-align: right;\">  num_recreated_wor...</th><th style=\"text-align: right;\">  episode_reward_max</th><th style=\"text-align: right;\">  episode_reward_min</th></tr>\n",
       "</thead>\n",
       "<tbody>\n",
       "<tr><td>DQN_None_217ed_00000</td><td>TERMINATED</td><td>10.0.98.129:276059</td><td style=\"text-align: right;\">     1</td><td style=\"text-align: right;\">         1.67624</td><td style=\"text-align: right;\">1024</td><td style=\"text-align: right;\">     nan</td><td style=\"text-align: right;\">                     0</td><td style=\"text-align: right;\">                 nan</td><td style=\"text-align: right;\">                 nan</td></tr>\n",
       "</tbody>\n",
       "</table>\n",
       "  </div>\n",
       "</div>\n",
       "<style>\n",
       ".tuneStatus {\n",
       "  color: var(--jp-ui-font-color1);\n",
       "}\n",
       ".tuneStatus .systemInfo {\n",
       "  display: flex;\n",
       "  flex-direction: column;\n",
       "}\n",
       ".tuneStatus td {\n",
       "  white-space: nowrap;\n",
       "}\n",
       ".tuneStatus .trialStatus {\n",
       "  display: flex;\n",
       "  flex-direction: column;\n",
       "}\n",
       ".tuneStatus h3 {\n",
       "  font-weight: bold;\n",
       "}\n",
       ".tuneStatus .hDivider {\n",
       "  border-bottom-width: var(--jp-border-width);\n",
       "  border-bottom-color: var(--jp-border-color0);\n",
       "  border-bottom-style: solid;\n",
       "}\n",
       ".tuneStatus .vDivider {\n",
       "  border-left-width: var(--jp-border-width);\n",
       "  border-left-color: var(--jp-border-color0);\n",
       "  border-left-style: solid;\n",
       "  margin: 0.5em 1em 0.5em 1em;\n",
       "}\n",
       "</style>\n"
      ],
      "text/plain": [
       "<IPython.core.display.HTML object>"
      ]
     },
     "metadata": {},
     "output_type": "display_data"
    },
    {
     "name": "stderr",
     "output_type": "stream",
     "text": [
      "\u001b[2m\u001b[36m(DQN pid=276059)\u001b[0m 2022-09-15 18:01:48,748\tWARNING deprecation.py:47 -- DeprecationWarning: `ray.rllib.algorithms.dqn.dqn.DEFAULT_CONFIG` has been deprecated. Use `ray.rllib.algorithms.dqn.dqn.DQNConfig(...)` instead. This will raise an error in the future!\n",
      "\u001b[2m\u001b[36m(DQN pid=276059)\u001b[0m 2022-09-15 18:01:48,748\tINFO algorithm.py:2082 -- Your framework setting is 'tf', meaning you are using static-graph mode. Set framework='tf2' to enable eager execution with tf2.x. You may also then want to set eager_tracing=True in order to reach similar execution speed as with static-graph mode.\n",
      "\u001b[2m\u001b[36m(DQN pid=276059)\u001b[0m 2022-09-15 18:01:48,748\tWARNING deprecation.py:47 -- DeprecationWarning: `config['multiagent']['replay_mode']` has been deprecated. config['replay_buffer_config']['replay_mode'] This will raise an error in the future!\n",
      "\u001b[2m\u001b[36m(DQN pid=276059)\u001b[0m 2022-09-15 18:01:48,749\tINFO simple_q.py:303 -- In multi-agent mode, policies will be optimized sequentially by the multi-GPU optimizer. Consider setting `simple_optimizer=True` if this doesn't work for you.\n",
      "\u001b[2m\u001b[36m(DQN pid=276059)\u001b[0m 2022-09-15 18:01:48,750\tINFO algorithm.py:357 -- Current log_level is WARN. For more information, set 'log_level': 'INFO' / 'DEBUG' or use the -v and -vv flags.\n"
     ]
    },
    {
     "name": "stdout",
     "output_type": "stream",
     "text": [
      "\u001b[2m\u001b[36m(DQN pid=276059)\u001b[0m DatasetReader 0 has 100, samples.\n"
     ]
    },
    {
     "name": "stderr",
     "output_type": "stream",
     "text": [
      "\u001b[2m\u001b[36m(DQN pid=276059)\u001b[0m 2022-09-15 18:01:50,670\tWARNING deprecation.py:47 -- DeprecationWarning: `simple_optimizer` has been deprecated. This will raise an error in the future!\n",
      "\u001b[2m\u001b[36m(DQN pid=276059)\u001b[0m 2022-09-15 18:01:50,670\tWARNING deprecation.py:47 -- DeprecationWarning: `config['multiagent']['replay_mode']` has been deprecated. config['replay_buffer_config']['replay_mode'] This will raise an error in the future!\n",
      "\u001b[2m\u001b[36m(DQN pid=276059)\u001b[0m 2022-09-15 18:01:50,748\tWARNING env.py:142 -- Your env doesn't have a .spec.max_episode_steps attribute. This is fine if you have set 'horizon' in your config dictionary, or `soft_horizon`. However, if you haven't, 'horizon' will default to infinity, and your environment will not be reset.\n",
      "\u001b[2m\u001b[36m(DQN pid=276059)\u001b[0m 2022-09-15 18:01:52,142\tWARNING util.py:66 -- Install gputil for GPU system monitoring.\n",
      "\u001b[2m\u001b[36m(DQN pid=276059)\u001b[0m 2022-09-15 18:01:52,370\tWARNING deprecation.py:47 -- DeprecationWarning: `ReplayBuffer.add_batch()` has been deprecated. Use `ReplayBuffer.add()` instead. This will raise an error in the future!\n",
      "\u001b[2m\u001b[36m(DQN pid=276059)\u001b[0m 2022-09-15 18:01:53,169\tWARNING deprecation.py:47 -- DeprecationWarning: `concat_samples` has been deprecated. Use `concat_samples() from rllib.policy.sample_batch` instead. This will raise an error in the future!\n"
     ]
    },
    {
     "data": {
      "text/html": [
       "<div class=\"trialProgress\">\n",
       "  <h3>Trial Progress</h3>\n",
       "  <table>\n",
       "<thead>\n",
       "<tr><th>Trial name          </th><th style=\"text-align: right;\">  agent_timesteps_total</th><th>counters                                                                                                                                                                            </th><th>custom_metrics  </th><th>date               </th><th>done  </th><th style=\"text-align: right;\">  episode_len_mean</th><th>episode_media  </th><th style=\"text-align: right;\">  episode_reward_max</th><th style=\"text-align: right;\">  episode_reward_mean</th><th style=\"text-align: right;\">  episode_reward_min</th><th style=\"text-align: right;\">  episodes_this_iter</th><th style=\"text-align: right;\">  episodes_total</th><th>evaluation                                                                                                                                                                                                                                                                                                                                                                                                                                                                                                                                                                                                                                                                                                                                                                                                                                                                                                                                                                                                                                   </th><th>experiment_id                   </th><th>hostname      </th><th>info  </th><th style=\"text-align: right;\">  iterations_since_restore</th><th>node_ip    </th><th style=\"text-align: right;\">  num_agent_steps_sampled</th><th style=\"text-align: right;\">  num_agent_steps_trained</th><th style=\"text-align: right;\">  num_env_steps_sampled</th><th style=\"text-align: right;\">  num_env_steps_sampled_this_iter</th><th style=\"text-align: right;\">  num_env_steps_trained</th><th style=\"text-align: right;\">  num_env_steps_trained_this_iter</th><th style=\"text-align: right;\">  num_faulty_episodes</th><th style=\"text-align: right;\">  num_healthy_workers</th><th style=\"text-align: right;\">  num_recreated_workers</th><th style=\"text-align: right;\">  num_steps_trained_this_iter</th><th>perf                                                            </th><th style=\"text-align: right;\">   pid</th><th>policy_reward_max  </th><th>policy_reward_mean  </th><th>policy_reward_min  </th><th>sampler_perf  </th><th>sampler_results                                                                                                                                                                                                                                                                                                                                                       </th><th style=\"text-align: right;\">  time_since_restore</th><th style=\"text-align: right;\">  time_this_iter_s</th><th style=\"text-align: right;\">  time_total_s</th><th>timers                                                                                                                                                                             </th><th style=\"text-align: right;\">  timestamp</th><th style=\"text-align: right;\">  timesteps_since_restore</th><th style=\"text-align: right;\">  timesteps_total</th><th style=\"text-align: right;\">  training_iteration</th><th>trial_id   </th><th style=\"text-align: right;\">  warmup_time</th></tr>\n",
       "</thead>\n",
       "<tbody>\n",
       "<tr><td>DQN_None_217ed_00000</td><td style=\"text-align: right;\">                   1024</td><td>{&#x27;num_env_steps_sampled&#x27;: 1024, &#x27;num_env_steps_trained&#x27;: 32, &#x27;num_agent_steps_sampled&#x27;: 1024, &#x27;num_agent_steps_trained&#x27;: 32, &#x27;last_target_update_ts&#x27;: 1024, &#x27;num_target_updates&#x27;: 1}</td><td>{}              </td><td>2022-09-15_18-01-53</td><td>True  </td><td style=\"text-align: right;\">               nan</td><td>{}             </td><td style=\"text-align: right;\">                 nan</td><td style=\"text-align: right;\">                  nan</td><td style=\"text-align: right;\">                 nan</td><td style=\"text-align: right;\">                   0</td><td style=\"text-align: right;\">               0</td><td>{&#x27;episode_reward_max&#x27;: 18.0614891213585, &#x27;episode_reward_min&#x27;: 14.657671226412779, &#x27;episode_reward_mean&#x27;: 16.72109649220311, &#x27;episode_len_mean&#x27;: 10.0, &#x27;episode_media&#x27;: {}, &#x27;episodes_this_iter&#x27;: 10, &#x27;policy_reward_min&#x27;: {}, &#x27;policy_reward_max&#x27;: {}, &#x27;policy_reward_mean&#x27;: {}, &#x27;custom_metrics&#x27;: {}, &#x27;hist_stats&#x27;: {&#x27;episode_reward&#x27;: [15.579755678153392, 17.308162282238918, 16.996485792727984, 15.85817442576293, 16.895157255057722, 16.903848567752085, 17.141858390528377, 17.808362182038387, 18.0614891213585, 14.657671226412779], &#x27;episode_lengths&#x27;: [10, 10, 10, 10, 10, 10, 10, 10, 10, 10]}, &#x27;sampler_perf&#x27;: {&#x27;mean_raw_obs_processing_ms&#x27;: 1.4158168641647493, &#x27;mean_inference_ms&#x27;: 1.2088600951846282, &#x27;mean_action_processing_ms&#x27;: 0.06677136562838412, &#x27;mean_env_wait_ms&#x27;: 0.3891793808134475, &#x27;mean_env_render_ms&#x27;: 0.0}, &#x27;num_faulty_episodes&#x27;: 0, &#x27;num_agent_steps_sampled_this_iter&#x27;: 100, &#x27;num_env_steps_sampled_this_iter&#x27;: 100, &#x27;timesteps_this_iter&#x27;: 100, &#x27;num_healthy_workers&#x27;: 0, &#x27;num_recreated_workers&#x27;: 0}</td><td>669ea13c50ca4268ac887d95b8377583</td><td>ip-10-0-98-129</td><td>{&#x27;learner&#x27;: {&#x27;default_policy&#x27;: {&#x27;learner_stats&#x27;: {&#x27;cur_lr&#x27;: 0.0005000000237487257, &#x27;mean_q&#x27;: 0.09487686, &#x27;min_q&#x27;: -0.8467767, &#x27;max_q&#x27;: 1.7656571, &#x27;mean_td_error&#x27;: -10.467754, &#x27;model&#x27;: {}}, &#x27;td_error&#x27;: array([ -0.169146  ,  -0.23788491, -81.69621   ,  -1.8496472 ,\n",
       "       -18.633066  ,  -1.6583928 ,  -4.5036645 , -56.1275    ,\n",
       "        -0.169146  ,  -1.6972287 ,  -0.7982603 ,  -1.0295107 ,\n",
       "        -1.6948309 ,  -0.36480984,  -7.0842566 ,  -1.3392144 ,\n",
       "       -29.859858  ,  -0.6529025 ,   0.8190062 ,  -0.52268493,\n",
       "        -0.32427877, -45.91718   , -23.07747   ,  -0.52268493,\n",
       "        -0.35115403,  -2.9757793 ,  -0.51949644,  -0.82181597,\n",
       "        -0.82181597, -40.446808  ,  -0.46755052,  -9.452917  ],\n",
       "      dtype=float32), &#x27;custom_metrics&#x27;: {}, &#x27;num_agent_steps_trained&#x27;: 32.0}}, &#x27;num_env_steps_sampled&#x27;: 1024, &#x27;num_env_steps_trained&#x27;: 32, &#x27;num_agent_steps_sampled&#x27;: 1024, &#x27;num_agent_steps_trained&#x27;: 32, &#x27;last_target_update_ts&#x27;: 1024, &#x27;num_target_updates&#x27;: 1}       </td><td style=\"text-align: right;\">                         1</td><td>10.0.98.129</td><td style=\"text-align: right;\">                     1024</td><td style=\"text-align: right;\">                       32</td><td style=\"text-align: right;\">                   1024</td><td style=\"text-align: right;\">                             1024</td><td style=\"text-align: right;\">                     32</td><td style=\"text-align: right;\">                               32</td><td style=\"text-align: right;\">                    0</td><td style=\"text-align: right;\">                    0</td><td style=\"text-align: right;\">                      0</td><td style=\"text-align: right;\">                           32</td><td>{&#x27;cpu_util_percent&#x27;: 9.499999999999998, &#x27;ram_util_percent&#x27;: 7.8}</td><td style=\"text-align: right;\">276059</td><td>{}                 </td><td>{}                  </td><td>{}                 </td><td>{}            </td><td>{&#x27;episode_reward_max&#x27;: nan, &#x27;episode_reward_min&#x27;: nan, &#x27;episode_reward_mean&#x27;: nan, &#x27;episode_len_mean&#x27;: nan, &#x27;episode_media&#x27;: {}, &#x27;episodes_this_iter&#x27;: 0, &#x27;policy_reward_min&#x27;: {}, &#x27;policy_reward_max&#x27;: {}, &#x27;policy_reward_mean&#x27;: {}, &#x27;custom_metrics&#x27;: {}, &#x27;hist_stats&#x27;: {&#x27;episode_reward&#x27;: [], &#x27;episode_lengths&#x27;: []}, &#x27;sampler_perf&#x27;: {}, &#x27;num_faulty_episodes&#x27;: 0}</td><td style=\"text-align: right;\">             1.67624</td><td style=\"text-align: right;\">           1.67624</td><td style=\"text-align: right;\">       1.67624</td><td>{&#x27;training_iteration_time_ms&#x27;: 52.551, &#x27;load_time_ms&#x27;: 0.116, &#x27;load_throughput&#x27;: 275601.084, &#x27;learn_time_ms&#x27;: 223.202, &#x27;learn_throughput&#x27;: 143.368, &#x27;synch_weights_time_ms&#x27;: 0.043}</td><td style=\"text-align: right;\"> 1663290113</td><td style=\"text-align: right;\">                        0</td><td style=\"text-align: right;\">             1024</td><td style=\"text-align: right;\">                   1</td><td>217ed_00000</td><td style=\"text-align: right;\">       3.4187</td></tr>\n",
       "</tbody>\n",
       "</table>\n",
       "</div>\n",
       "<style>\n",
       ".trialProgress {\n",
       "  display: flex;\n",
       "  flex-direction: column;\n",
       "  color: var(--jp-ui-font-color1);\n",
       "}\n",
       ".trialProgress h3 {\n",
       "  font-weight: bold;\n",
       "}\n",
       ".trialProgress td {\n",
       "  white-space: nowrap;\n",
       "}\n",
       "</style>\n"
      ],
      "text/plain": [
       "<IPython.core.display.HTML object>"
      ]
     },
     "metadata": {},
     "output_type": "display_data"
    },
    {
     "name": "stderr",
     "output_type": "stream",
     "text": [
      "2022-09-15 18:01:54,378\tINFO tune.py:762 -- Total run time: 10.52 seconds (10.12 seconds for the tuning loop).\n"
     ]
    }
   ],
   "source": [
    "tuner = tune.Tuner(\n",
    "    DQN,\n",
    "    param_space=dqn_config_offline.to_dict(),\n",
    "    run_config=air.RunConfig(\n",
    "        local_dir=\"./results_notebook/offline_rl/\",\n",
    "        stop={\"training_iteration\": 1},\n",
    "    )\n",
    ")\n",
    "dqn_offline_results = tuner.fit()"
   ]
  },
  {
   "cell_type": "markdown",
   "metadata": {},
   "source": [
    "Let's now look at the offline training results. From the plot below we can see that by running offline RL on randomly collected transitions we can improve over the random policy. This is extremely useful in practical scenarios where our goal is to improve over existing production policies."
   ]
  },
  {
   "cell_type": "code",
   "execution_count": 61,
   "metadata": {},
   "outputs": [
    {
     "data": {
      "text/plain": [
       "<ray.tune.result_grid.ResultGrid at 0x7fc1600c0dc0>"
      ]
     },
     "execution_count": 61,
     "metadata": {},
     "output_type": "execute_result"
    }
   ],
   "source": [
    "dqn_offline_results"
   ]
  },
  {
   "cell_type": "code",
   "execution_count": 62,
   "metadata": {},
   "outputs": [
    {
     "name": "stdout",
     "output_type": "stream",
     "text": [
      "Mean Episode reward:\n"
     ]
    },
    {
     "data": {
      "text/plain": [
       "16.72109649220311"
      ]
     },
     "execution_count": 62,
     "metadata": {},
     "output_type": "execute_result"
    }
   ],
   "source": [
    "print('Mean Episode reward:')\n",
    "dqn_offline_results[0].metrics['evaluation']['episode_reward_mean']"
   ]
  },
  {
   "cell_type": "code",
   "execution_count": 52,
   "metadata": {},
   "outputs": [
    {
     "name": "stdout",
     "output_type": "stream",
     "text": [
      "Index(['num_recreated_workers', 'episode_reward_max', 'episode_reward_min',\n",
      "       'episode_reward_mean', 'episode_len_mean', 'episodes_this_iter',\n",
      "       'num_faulty_episodes', 'num_healthy_workers', 'num_agent_steps_sampled',\n",
      "       'num_agent_steps_trained', 'num_env_steps_sampled',\n",
      "       'num_env_steps_trained', 'num_env_steps_sampled_this_iter',\n",
      "       'num_env_steps_trained_this_iter', 'timesteps_total',\n",
      "       'num_steps_trained_this_iter', 'agent_timesteps_total', 'done',\n",
      "       'episodes_total', 'training_iteration', 'trial_id', 'experiment_id',\n",
      "       'date', 'timestamp', 'time_this_iter_s', 'time_total_s', 'pid',\n",
      "       'hostname', 'node_ip', 'time_since_restore', 'timesteps_since_restore',\n",
      "       'iterations_since_restore', 'warmup_time',\n",
      "       'evaluation/episode_reward_max', 'evaluation/episode_reward_min',\n",
      "       'evaluation/episode_reward_mean', 'evaluation/episode_len_mean',\n",
      "       'evaluation/episodes_this_iter', 'evaluation/num_faulty_episodes',\n",
      "       'evaluation/num_agent_steps_sampled_this_iter',\n",
      "       'evaluation/num_env_steps_sampled_this_iter',\n",
      "       'evaluation/timesteps_this_iter', 'evaluation/num_healthy_workers',\n",
      "       'evaluation/num_recreated_workers', 'info/num_env_steps_sampled',\n",
      "       'info/num_env_steps_trained', 'info/num_agent_steps_sampled',\n",
      "       'info/num_agent_steps_trained', 'info/last_target_update_ts',\n",
      "       'info/num_target_updates', 'sampler_results/episode_reward_max',\n",
      "       'sampler_results/episode_reward_min',\n",
      "       'sampler_results/episode_reward_mean',\n",
      "       'sampler_results/episode_len_mean',\n",
      "       'sampler_results/episodes_this_iter',\n",
      "       'sampler_results/num_faulty_episodes', 'hist_stats/episode_reward',\n",
      "       'hist_stats/episode_lengths', 'timers/training_iteration_time_ms',\n",
      "       'timers/load_time_ms', 'timers/load_throughput', 'timers/learn_time_ms',\n",
      "       'timers/learn_throughput', 'timers/synch_weights_time_ms',\n",
      "       'counters/num_env_steps_sampled', 'counters/num_env_steps_trained',\n",
      "       'counters/num_agent_steps_sampled', 'counters/num_agent_steps_trained',\n",
      "       'counters/last_target_update_ts', 'counters/num_target_updates',\n",
      "       'perf/cpu_util_percent', 'perf/ram_util_percent',\n",
      "       'evaluation/hist_stats/episode_reward',\n",
      "       'evaluation/hist_stats/episode_lengths',\n",
      "       'evaluation/sampler_perf/mean_raw_obs_processing_ms',\n",
      "       'evaluation/sampler_perf/mean_inference_ms',\n",
      "       'evaluation/sampler_perf/mean_action_processing_ms',\n",
      "       'evaluation/sampler_perf/mean_env_wait_ms',\n",
      "       'evaluation/sampler_perf/mean_env_render_ms',\n",
      "       'sampler_results/hist_stats/episode_reward',\n",
      "       'sampler_results/hist_stats/episode_lengths',\n",
      "       'info/learner/default_policy/td_error',\n",
      "       'info/learner/default_policy/mean_td_error',\n",
      "       'info/learner/default_policy/num_agent_steps_trained',\n",
      "       'info/learner/default_policy/learner_stats/allreduce_latency',\n",
      "       'info/learner/default_policy/learner_stats/grad_gnorm',\n",
      "       'info/learner/default_policy/learner_stats/mean_q',\n",
      "       'info/learner/default_policy/learner_stats/min_q',\n",
      "       'info/learner/default_policy/learner_stats/max_q',\n",
      "       'info/learner/default_policy/learner_stats/cur_lr'],\n",
      "      dtype='object')\n"
     ]
    },
    {
     "data": {
      "text/html": [
       "<div>\n",
       "<style scoped>\n",
       "    .dataframe tbody tr th:only-of-type {\n",
       "        vertical-align: middle;\n",
       "    }\n",
       "\n",
       "    .dataframe tbody tr th {\n",
       "        vertical-align: top;\n",
       "    }\n",
       "\n",
       "    .dataframe thead th {\n",
       "        text-align: right;\n",
       "    }\n",
       "</style>\n",
       "<table border=\"1\" class=\"dataframe\">\n",
       "  <thead>\n",
       "    <tr style=\"text-align: right;\">\n",
       "      <th></th>\n",
       "      <th>num_recreated_workers</th>\n",
       "      <th>episode_reward_max</th>\n",
       "      <th>episode_reward_min</th>\n",
       "      <th>episode_reward_mean</th>\n",
       "      <th>episode_len_mean</th>\n",
       "      <th>episodes_this_iter</th>\n",
       "      <th>num_faulty_episodes</th>\n",
       "      <th>num_healthy_workers</th>\n",
       "      <th>num_agent_steps_sampled</th>\n",
       "      <th>num_agent_steps_trained</th>\n",
       "      <th>...</th>\n",
       "      <th>sampler_results/hist_stats/episode_lengths</th>\n",
       "      <th>info/learner/default_policy/td_error</th>\n",
       "      <th>info/learner/default_policy/mean_td_error</th>\n",
       "      <th>info/learner/default_policy/num_agent_steps_trained</th>\n",
       "      <th>info/learner/default_policy/learner_stats/allreduce_latency</th>\n",
       "      <th>info/learner/default_policy/learner_stats/grad_gnorm</th>\n",
       "      <th>info/learner/default_policy/learner_stats/mean_q</th>\n",
       "      <th>info/learner/default_policy/learner_stats/min_q</th>\n",
       "      <th>info/learner/default_policy/learner_stats/max_q</th>\n",
       "      <th>info/learner/default_policy/learner_stats/cur_lr</th>\n",
       "    </tr>\n",
       "  </thead>\n",
       "  <tbody>\n",
       "    <tr>\n",
       "      <th>0</th>\n",
       "      <td>0</td>\n",
       "      <td>NaN</td>\n",
       "      <td>NaN</td>\n",
       "      <td>NaN</td>\n",
       "      <td>NaN</td>\n",
       "      <td>0</td>\n",
       "      <td>0</td>\n",
       "      <td>1</td>\n",
       "      <td>512</td>\n",
       "      <td>512</td>\n",
       "      <td>...</td>\n",
       "      <td>[]</td>\n",
       "      <td>[-2.3538213e+00 -1.1375945e+00 -1.2462333e+01 ...</td>\n",
       "      <td>-10.580702</td>\n",
       "      <td>512.0</td>\n",
       "      <td>0.0</td>\n",
       "      <td>40.0</td>\n",
       "      <td>0.213455</td>\n",
       "      <td>-4.432943</td>\n",
       "      <td>6.774650</td>\n",
       "      <td>0.0003</td>\n",
       "    </tr>\n",
       "    <tr>\n",
       "      <th>1</th>\n",
       "      <td>0</td>\n",
       "      <td>NaN</td>\n",
       "      <td>NaN</td>\n",
       "      <td>NaN</td>\n",
       "      <td>NaN</td>\n",
       "      <td>0</td>\n",
       "      <td>0</td>\n",
       "      <td>1</td>\n",
       "      <td>1024</td>\n",
       "      <td>1024</td>\n",
       "      <td>...</td>\n",
       "      <td>[]</td>\n",
       "      <td>[-40.506775   -61.97426    -38.595753    -3.70...</td>\n",
       "      <td>-11.315735</td>\n",
       "      <td>512.0</td>\n",
       "      <td>0.0</td>\n",
       "      <td>40.0</td>\n",
       "      <td>1.039853</td>\n",
       "      <td>-10.420587</td>\n",
       "      <td>17.475670</td>\n",
       "      <td>0.0003</td>\n",
       "    </tr>\n",
       "    <tr>\n",
       "      <th>2</th>\n",
       "      <td>0</td>\n",
       "      <td>NaN</td>\n",
       "      <td>NaN</td>\n",
       "      <td>NaN</td>\n",
       "      <td>NaN</td>\n",
       "      <td>0</td>\n",
       "      <td>0</td>\n",
       "      <td>1</td>\n",
       "      <td>1536</td>\n",
       "      <td>1536</td>\n",
       "      <td>...</td>\n",
       "      <td>[]</td>\n",
       "      <td>[-31.038172    -3.1823516  -32.29229    -21.26...</td>\n",
       "      <td>-13.161014</td>\n",
       "      <td>512.0</td>\n",
       "      <td>0.0</td>\n",
       "      <td>40.0</td>\n",
       "      <td>1.195285</td>\n",
       "      <td>-3.818083</td>\n",
       "      <td>14.747209</td>\n",
       "      <td>0.0003</td>\n",
       "    </tr>\n",
       "    <tr>\n",
       "      <th>3</th>\n",
       "      <td>0</td>\n",
       "      <td>NaN</td>\n",
       "      <td>NaN</td>\n",
       "      <td>NaN</td>\n",
       "      <td>NaN</td>\n",
       "      <td>0</td>\n",
       "      <td>0</td>\n",
       "      <td>1</td>\n",
       "      <td>2048</td>\n",
       "      <td>2048</td>\n",
       "      <td>...</td>\n",
       "      <td>[]</td>\n",
       "      <td>[  -4.3287826   -19.507774    -47.811214     -...</td>\n",
       "      <td>-13.706473</td>\n",
       "      <td>512.0</td>\n",
       "      <td>0.0</td>\n",
       "      <td>40.0</td>\n",
       "      <td>2.172622</td>\n",
       "      <td>-4.584808</td>\n",
       "      <td>24.536005</td>\n",
       "      <td>0.0003</td>\n",
       "    </tr>\n",
       "    <tr>\n",
       "      <th>4</th>\n",
       "      <td>0</td>\n",
       "      <td>NaN</td>\n",
       "      <td>NaN</td>\n",
       "      <td>NaN</td>\n",
       "      <td>NaN</td>\n",
       "      <td>0</td>\n",
       "      <td>0</td>\n",
       "      <td>1</td>\n",
       "      <td>2560</td>\n",
       "      <td>2560</td>\n",
       "      <td>...</td>\n",
       "      <td>[]</td>\n",
       "      <td>[-4.65406561e+00  1.47419739e+00 -2.03024578e+...</td>\n",
       "      <td>-13.847671</td>\n",
       "      <td>512.0</td>\n",
       "      <td>0.0</td>\n",
       "      <td>40.0</td>\n",
       "      <td>2.783419</td>\n",
       "      <td>-4.468198</td>\n",
       "      <td>37.622391</td>\n",
       "      <td>0.0003</td>\n",
       "    </tr>\n",
       "    <tr>\n",
       "      <th>...</th>\n",
       "      <td>...</td>\n",
       "      <td>...</td>\n",
       "      <td>...</td>\n",
       "      <td>...</td>\n",
       "      <td>...</td>\n",
       "      <td>...</td>\n",
       "      <td>...</td>\n",
       "      <td>...</td>\n",
       "      <td>...</td>\n",
       "      <td>...</td>\n",
       "      <td>...</td>\n",
       "      <td>...</td>\n",
       "      <td>...</td>\n",
       "      <td>...</td>\n",
       "      <td>...</td>\n",
       "      <td>...</td>\n",
       "      <td>...</td>\n",
       "      <td>...</td>\n",
       "      <td>...</td>\n",
       "      <td>...</td>\n",
       "      <td>...</td>\n",
       "    </tr>\n",
       "    <tr>\n",
       "      <th>1949</th>\n",
       "      <td>0</td>\n",
       "      <td>NaN</td>\n",
       "      <td>NaN</td>\n",
       "      <td>NaN</td>\n",
       "      <td>NaN</td>\n",
       "      <td>0</td>\n",
       "      <td>0</td>\n",
       "      <td>1</td>\n",
       "      <td>998400</td>\n",
       "      <td>998400</td>\n",
       "      <td>...</td>\n",
       "      <td>[]</td>\n",
       "      <td>[-1.43014526e+00  7.04738808e+00  1.69252281e+...</td>\n",
       "      <td>-1.033876</td>\n",
       "      <td>512.0</td>\n",
       "      <td>0.0</td>\n",
       "      <td>40.0</td>\n",
       "      <td>84.962700</td>\n",
       "      <td>2.396049</td>\n",
       "      <td>177.688889</td>\n",
       "      <td>0.0003</td>\n",
       "    </tr>\n",
       "    <tr>\n",
       "      <th>1950</th>\n",
       "      <td>0</td>\n",
       "      <td>NaN</td>\n",
       "      <td>NaN</td>\n",
       "      <td>NaN</td>\n",
       "      <td>NaN</td>\n",
       "      <td>0</td>\n",
       "      <td>0</td>\n",
       "      <td>1</td>\n",
       "      <td>998912</td>\n",
       "      <td>998912</td>\n",
       "      <td>...</td>\n",
       "      <td>[]</td>\n",
       "      <td>[ -2.5442238   -5.1743317    2.5995522    2.14...</td>\n",
       "      <td>0.221676</td>\n",
       "      <td>512.0</td>\n",
       "      <td>0.0</td>\n",
       "      <td>40.0</td>\n",
       "      <td>85.822052</td>\n",
       "      <td>3.665074</td>\n",
       "      <td>178.535477</td>\n",
       "      <td>0.0003</td>\n",
       "    </tr>\n",
       "    <tr>\n",
       "      <th>1951</th>\n",
       "      <td>0</td>\n",
       "      <td>NaN</td>\n",
       "      <td>NaN</td>\n",
       "      <td>NaN</td>\n",
       "      <td>NaN</td>\n",
       "      <td>0</td>\n",
       "      <td>0</td>\n",
       "      <td>1</td>\n",
       "      <td>999424</td>\n",
       "      <td>999424</td>\n",
       "      <td>...</td>\n",
       "      <td>[]</td>\n",
       "      <td>[-5.74981689e-01 -3.20867157e+00  7.30127335e+...</td>\n",
       "      <td>0.515675</td>\n",
       "      <td>512.0</td>\n",
       "      <td>0.0</td>\n",
       "      <td>40.0</td>\n",
       "      <td>81.784767</td>\n",
       "      <td>2.501043</td>\n",
       "      <td>181.170700</td>\n",
       "      <td>0.0003</td>\n",
       "    </tr>\n",
       "    <tr>\n",
       "      <th>1952</th>\n",
       "      <td>0</td>\n",
       "      <td>NaN</td>\n",
       "      <td>NaN</td>\n",
       "      <td>NaN</td>\n",
       "      <td>NaN</td>\n",
       "      <td>0</td>\n",
       "      <td>0</td>\n",
       "      <td>1</td>\n",
       "      <td>999936</td>\n",
       "      <td>999936</td>\n",
       "      <td>...</td>\n",
       "      <td>[]</td>\n",
       "      <td>[ 1.62049751e+01  1.76564312e+00  7.05337524e-...</td>\n",
       "      <td>0.951557</td>\n",
       "      <td>512.0</td>\n",
       "      <td>0.0</td>\n",
       "      <td>40.0</td>\n",
       "      <td>78.297279</td>\n",
       "      <td>4.202184</td>\n",
       "      <td>178.099579</td>\n",
       "      <td>0.0003</td>\n",
       "    </tr>\n",
       "    <tr>\n",
       "      <th>1953</th>\n",
       "      <td>0</td>\n",
       "      <td>NaN</td>\n",
       "      <td>NaN</td>\n",
       "      <td>NaN</td>\n",
       "      <td>NaN</td>\n",
       "      <td>0</td>\n",
       "      <td>0</td>\n",
       "      <td>1</td>\n",
       "      <td>1000448</td>\n",
       "      <td>1000448</td>\n",
       "      <td>...</td>\n",
       "      <td>[]</td>\n",
       "      <td>[ 4.46736383e+00  4.58789062e+00  3.16465378e+...</td>\n",
       "      <td>1.076135</td>\n",
       "      <td>512.0</td>\n",
       "      <td>0.0</td>\n",
       "      <td>40.0</td>\n",
       "      <td>85.379669</td>\n",
       "      <td>3.286350</td>\n",
       "      <td>176.398636</td>\n",
       "      <td>0.0003</td>\n",
       "    </tr>\n",
       "  </tbody>\n",
       "</table>\n",
       "<p>1954 rows × 90 columns</p>\n",
       "</div>"
      ],
      "text/plain": [
       "      num_recreated_workers  episode_reward_max  episode_reward_min  \\\n",
       "0                         0                 NaN                 NaN   \n",
       "1                         0                 NaN                 NaN   \n",
       "2                         0                 NaN                 NaN   \n",
       "3                         0                 NaN                 NaN   \n",
       "4                         0                 NaN                 NaN   \n",
       "...                     ...                 ...                 ...   \n",
       "1949                      0                 NaN                 NaN   \n",
       "1950                      0                 NaN                 NaN   \n",
       "1951                      0                 NaN                 NaN   \n",
       "1952                      0                 NaN                 NaN   \n",
       "1953                      0                 NaN                 NaN   \n",
       "\n",
       "      episode_reward_mean  episode_len_mean  episodes_this_iter  \\\n",
       "0                     NaN               NaN                   0   \n",
       "1                     NaN               NaN                   0   \n",
       "2                     NaN               NaN                   0   \n",
       "3                     NaN               NaN                   0   \n",
       "4                     NaN               NaN                   0   \n",
       "...                   ...               ...                 ...   \n",
       "1949                  NaN               NaN                   0   \n",
       "1950                  NaN               NaN                   0   \n",
       "1951                  NaN               NaN                   0   \n",
       "1952                  NaN               NaN                   0   \n",
       "1953                  NaN               NaN                   0   \n",
       "\n",
       "      num_faulty_episodes  num_healthy_workers  num_agent_steps_sampled  \\\n",
       "0                       0                    1                      512   \n",
       "1                       0                    1                     1024   \n",
       "2                       0                    1                     1536   \n",
       "3                       0                    1                     2048   \n",
       "4                       0                    1                     2560   \n",
       "...                   ...                  ...                      ...   \n",
       "1949                    0                    1                   998400   \n",
       "1950                    0                    1                   998912   \n",
       "1951                    0                    1                   999424   \n",
       "1952                    0                    1                   999936   \n",
       "1953                    0                    1                  1000448   \n",
       "\n",
       "      num_agent_steps_trained  ...  \\\n",
       "0                         512  ...   \n",
       "1                        1024  ...   \n",
       "2                        1536  ...   \n",
       "3                        2048  ...   \n",
       "4                        2560  ...   \n",
       "...                       ...  ...   \n",
       "1949                   998400  ...   \n",
       "1950                   998912  ...   \n",
       "1951                   999424  ...   \n",
       "1952                   999936  ...   \n",
       "1953                  1000448  ...   \n",
       "\n",
       "      sampler_results/hist_stats/episode_lengths  \\\n",
       "0                                             []   \n",
       "1                                             []   \n",
       "2                                             []   \n",
       "3                                             []   \n",
       "4                                             []   \n",
       "...                                          ...   \n",
       "1949                                          []   \n",
       "1950                                          []   \n",
       "1951                                          []   \n",
       "1952                                          []   \n",
       "1953                                          []   \n",
       "\n",
       "                   info/learner/default_policy/td_error  \\\n",
       "0     [-2.3538213e+00 -1.1375945e+00 -1.2462333e+01 ...   \n",
       "1     [-40.506775   -61.97426    -38.595753    -3.70...   \n",
       "2     [-31.038172    -3.1823516  -32.29229    -21.26...   \n",
       "3     [  -4.3287826   -19.507774    -47.811214     -...   \n",
       "4     [-4.65406561e+00  1.47419739e+00 -2.03024578e+...   \n",
       "...                                                 ...   \n",
       "1949  [-1.43014526e+00  7.04738808e+00  1.69252281e+...   \n",
       "1950  [ -2.5442238   -5.1743317    2.5995522    2.14...   \n",
       "1951  [-5.74981689e-01 -3.20867157e+00  7.30127335e+...   \n",
       "1952  [ 1.62049751e+01  1.76564312e+00  7.05337524e-...   \n",
       "1953  [ 4.46736383e+00  4.58789062e+00  3.16465378e+...   \n",
       "\n",
       "      info/learner/default_policy/mean_td_error  \\\n",
       "0                                    -10.580702   \n",
       "1                                    -11.315735   \n",
       "2                                    -13.161014   \n",
       "3                                    -13.706473   \n",
       "4                                    -13.847671   \n",
       "...                                         ...   \n",
       "1949                                  -1.033876   \n",
       "1950                                   0.221676   \n",
       "1951                                   0.515675   \n",
       "1952                                   0.951557   \n",
       "1953                                   1.076135   \n",
       "\n",
       "      info/learner/default_policy/num_agent_steps_trained  \\\n",
       "0                                                 512.0     \n",
       "1                                                 512.0     \n",
       "2                                                 512.0     \n",
       "3                                                 512.0     \n",
       "4                                                 512.0     \n",
       "...                                                 ...     \n",
       "1949                                              512.0     \n",
       "1950                                              512.0     \n",
       "1951                                              512.0     \n",
       "1952                                              512.0     \n",
       "1953                                              512.0     \n",
       "\n",
       "      info/learner/default_policy/learner_stats/allreduce_latency  \\\n",
       "0                                                   0.0             \n",
       "1                                                   0.0             \n",
       "2                                                   0.0             \n",
       "3                                                   0.0             \n",
       "4                                                   0.0             \n",
       "...                                                 ...             \n",
       "1949                                                0.0             \n",
       "1950                                                0.0             \n",
       "1951                                                0.0             \n",
       "1952                                                0.0             \n",
       "1953                                                0.0             \n",
       "\n",
       "      info/learner/default_policy/learner_stats/grad_gnorm  \\\n",
       "0                                                  40.0      \n",
       "1                                                  40.0      \n",
       "2                                                  40.0      \n",
       "3                                                  40.0      \n",
       "4                                                  40.0      \n",
       "...                                                 ...      \n",
       "1949                                               40.0      \n",
       "1950                                               40.0      \n",
       "1951                                               40.0      \n",
       "1952                                               40.0      \n",
       "1953                                               40.0      \n",
       "\n",
       "      info/learner/default_policy/learner_stats/mean_q  \\\n",
       "0                                             0.213455   \n",
       "1                                             1.039853   \n",
       "2                                             1.195285   \n",
       "3                                             2.172622   \n",
       "4                                             2.783419   \n",
       "...                                                ...   \n",
       "1949                                         84.962700   \n",
       "1950                                         85.822052   \n",
       "1951                                         81.784767   \n",
       "1952                                         78.297279   \n",
       "1953                                         85.379669   \n",
       "\n",
       "      info/learner/default_policy/learner_stats/min_q  \\\n",
       "0                                           -4.432943   \n",
       "1                                          -10.420587   \n",
       "2                                           -3.818083   \n",
       "3                                           -4.584808   \n",
       "4                                           -4.468198   \n",
       "...                                               ...   \n",
       "1949                                         2.396049   \n",
       "1950                                         3.665074   \n",
       "1951                                         2.501043   \n",
       "1952                                         4.202184   \n",
       "1953                                         3.286350   \n",
       "\n",
       "      info/learner/default_policy/learner_stats/max_q  \\\n",
       "0                                            6.774650   \n",
       "1                                           17.475670   \n",
       "2                                           14.747209   \n",
       "3                                           24.536005   \n",
       "4                                           37.622391   \n",
       "...                                               ...   \n",
       "1949                                       177.688889   \n",
       "1950                                       178.535477   \n",
       "1951                                       181.170700   \n",
       "1952                                       178.099579   \n",
       "1953                                       176.398636   \n",
       "\n",
       "      info/learner/default_policy/learner_stats/cur_lr  \n",
       "0                                               0.0003  \n",
       "1                                               0.0003  \n",
       "2                                               0.0003  \n",
       "3                                               0.0003  \n",
       "4                                               0.0003  \n",
       "...                                                ...  \n",
       "1949                                            0.0003  \n",
       "1950                                            0.0003  \n",
       "1951                                            0.0003  \n",
       "1952                                            0.0003  \n",
       "1953                                            0.0003  \n",
       "\n",
       "[1954 rows x 90 columns]"
      ]
     },
     "execution_count": 52,
     "metadata": {},
     "output_type": "execute_result"
    }
   ],
   "source": [
    "# plot the results and compare to baselines\n",
    "offline_dqn_df = pd.read_csv(\"saved_runs/dqn_offline/random_data/progress.csv\")\n",
    "print(offline_dqn_df.columns)\n",
    "offline_dqn_df"
   ]
  },
  {
   "cell_type": "code",
   "execution_count": 38,
   "metadata": {},
   "outputs": [
    {
     "data": {
      "text/plain": [
       "Text(0.5, 1.0, 'Offline RL vs. Baselines training performance')"
      ]
     },
     "execution_count": 38,
     "metadata": {},
     "output_type": "execute_result"
    },
    {
     "data": {
      "image/png": "[encoded data removed]",
      "text/plain": [
       "<Figure size 640x480 with 1 Axes>"
      ]
     },
     "metadata": {},
     "output_type": "display_data"
    }
   ],
   "source": [
    "\n",
    "sns.lineplot(data=offline_dqn_df, x=\"training_iteration\", y=\"evaluation/episode_reward_mean\", label=\"Offline_DQN\")\n",
    "sns.lineplot(data=dqn_df, x=\"training_iteration\", y=\"episode_reward_mean\", label=\"Online_DQN\")\n",
    "sns.lineplot(data=bandit_df, x=\"training_iteration\", y=\"episode_reward_mean\", label=\"Bandits\")\n",
    "plt.axhline(random_baseline, color=\"red\", linestyle='--', label=\"random baseline\")\n",
    "plt.legend()\n",
    "plt.title('Offline RL vs. Baselines training performance')"
   ]
  },
  {
   "cell_type": "markdown",
   "metadata": {},
   "source": [
    "## Conclusion\n",
    "\n",
    "- Bandits converges to a short-sighted solution\n",
    "    -  Optimizes imediate reward. \n",
    "- DQN takes long-term reward into account\n",
    "    -  Achieves a policy better than random.\n",
    "- Offline RL is a viable option that works when we don't have simulators for training\n",
    "    -  Since it doesn't explore freely it won't perform as good as an online RL method. \n",
    "    -  Its performance is bounded to the quality of the dataset.\n"
   ]
  },
  {
   "cell_type": "markdown",
   "metadata": {},
   "source": [
    "### References\n",
    "\n",
    "1. 📖 [Ray summit tutorials on RLlib](https://github.com/anyscale/ray-summit-2022-training/tree/main/ray-rllib)\n",
    "2. 👩‍ [RLlib Documentation](https://docs.ray.io/en/latest/rllib/index.html)"
   ]
  },
  {
   "cell_type": "markdown",
   "metadata": {},
   "source": [
    "## Thank you!\n",
    "\n",
    "<a href=\"https://docs.google.com/forms/d/1pxsMIPMxTTd2HH6710UOApx_smPDPPO0fpVWYKzvOgI/edit\">Survey</a> - Please let us know how useful you have found this tutorial.\n",
    "\n",
    "**We would love to connect with you!**\n",
    "\n",
    "**Twitter** - @anyscalecompute | @raydistributed <br>\n",
    "<b><a href=\"https://github.com/ray-project/ray\">Github</a></b> - 😜 give us a star!<br>\n",
    "<b><a href=\"https://www.ray.io/community\">Slack</a></b> - [+invitation link](https://docs.google.com/forms/d/e/1FAIpQLSfAcoiLCHOguOm8e7Jnn-JJdZaCxPGjgVCvFijHB5PLaQLeig/viewform)<br>\n",
    "<b><a href=\"https://discuss.ray.io/\">Discuss</a></b> - searchable questions <br>"
   ]
  }
 ],
 "metadata": {
  "kernelspec": {
   "display_name": "Python 3 (ipykernel)",
   "language": "python",
   "name": "python3"
  },
  "language_info": {
   "codemirror_mode": {
    "name": "ipython",
    "version": 3
   },
   "file_extension": ".py",
   "mimetype": "text/x-python",
   "name": "python",
   "nbconvert_exporter": "python",
   "pygments_lexer": "ipython3",
   "version": "3.8.13"
  },
  "vscode": {
   "interpreter": {
    "hash": "d33966b1efccf1b078b90327a99b4ed3697643ca9825566d91b27949ee9bb425"
   }
  }
 },
 "nbformat": 4,
 "nbformat_minor": 4
}

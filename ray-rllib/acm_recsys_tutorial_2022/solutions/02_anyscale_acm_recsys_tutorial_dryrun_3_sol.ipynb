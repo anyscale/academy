{
 "cells": [
  {
   "cell_type": "markdown",
   "metadata": {},
   "source": [
    "© 2019-2022, Anyscale. All Rights Reserved\n",
    "\n",
    "![Anyscale Academy](../../images/AnyscaleAcademyLogo.png)"
   ]
  },
  {
   "cell_type": "markdown",
   "metadata": {},
   "source": [
    "# Main Tutorial Notebook for RLlib ACM RecSys 2022\n",
    "\n",
    "### Learning objectives\n",
    "In this this tutorial, you will learn about:\n",
    " * [Defining a MDP for recommendation system using gym API](#recsys) -15 min\n",
    " * [Online RL - Bandits](#bandits) -15 min\n",
    " * [Online RL - DQN](#dqn) -15 min\n",
    " * [Break](#break) -5 min\n",
    " * [Offline RL](#offline-rl) -15 min\n",
    "\n",
    "[Link to slides](https://github.com/anyscale/academy/blob/main/ray-rllib/acm_recsys_tutorial_2022/slides/rllib_acm_recsys_2022_slides.pdf)"
   ]
  },
  {
   "cell_type": "markdown",
   "metadata": {},
   "source": [
    "<img src=\"./images/tutorial_overview.png\" width=\"70%\" />"
   ]
  },
  {
   "cell_type": "code",
   "execution_count": 1,
   "metadata": {},
   "outputs": [],
   "source": [
    "# uncomment for running on anyscale\n",
    "# import os; os.environ[\"PATH\"] = \"/home/ray/anaconda3/bin:\" + os.environ[\"PATH\"]\n",
    "# !pip uninstall -y torch\n",
    "# !python -m pip install torch==1.12.1\n",
    "# !python -m pip install seaborn\n",
    "# import torch\n",
    "# print(f\"torch: {torch.__version__}\")\n",
    "\n",
    "# !pip uninstall -y -r matplotlib\n",
    "# !python3 -m pip install matplotlib==3.5.3\n",
    "# import matplotlib\n",
    "# print(f\"matplotlib: {matplotlib.__version__}\")"
   ]
  },
  {
   "cell_type": "code",
   "execution_count": 2,
   "metadata": {},
   "outputs": [
    {
     "name": "stderr",
     "output_type": "stream",
     "text": [
      "/opt/homebrew/Caskroom/miniforge/base/envs/ray/lib/python3.8/site-packages/tensorflow/core/framework/tensor_shape_pb2.py:18: DeprecationWarning: Call to deprecated create function FileDescriptor(). Note: Create unlinked descriptors is going to go away. Please use get/find descriptors from generated code or query the descriptor_pool.\n",
      "  DESCRIPTOR = _descriptor.FileDescriptor(\n",
      "/opt/homebrew/Caskroom/miniforge/base/envs/ray/lib/python3.8/site-packages/tensorflow/core/framework/tensor_shape_pb2.py:36: DeprecationWarning: Call to deprecated create function FieldDescriptor(). Note: Create unlinked descriptors is going to go away. Please use get/find descriptors from generated code or query the descriptor_pool.\n",
      "  _descriptor.FieldDescriptor(\n",
      "/opt/homebrew/Caskroom/miniforge/base/envs/ray/lib/python3.8/site-packages/tensorflow/core/framework/tensor_shape_pb2.py:29: DeprecationWarning: Call to deprecated create function Descriptor(). Note: Create unlinked descriptors is going to go away. Please use get/find descriptors from generated code or query the descriptor_pool.\n",
      "  _TENSORSHAPEPROTO_DIM = _descriptor.Descriptor(\n",
      "/opt/homebrew/Caskroom/miniforge/base/envs/ray/lib/python3.8/site-packages/tensorflow/core/framework/types_pb2.py:19: DeprecationWarning: Call to deprecated create function FileDescriptor(). Note: Create unlinked descriptors is going to go away. Please use get/find descriptors from generated code or query the descriptor_pool.\n",
      "  DESCRIPTOR = _descriptor.FileDescriptor(\n",
      "/opt/homebrew/Caskroom/miniforge/base/envs/ray/lib/python3.8/site-packages/tensorflow/core/framework/types_pb2.py:33: DeprecationWarning: Call to deprecated create function EnumValueDescriptor(). Note: Create unlinked descriptors is going to go away. Please use get/find descriptors from generated code or query the descriptor_pool.\n",
      "  _descriptor.EnumValueDescriptor(\n",
      "/opt/homebrew/Caskroom/miniforge/base/envs/ray/lib/python3.8/site-packages/tensorflow/core/framework/types_pb2.py:27: DeprecationWarning: Call to deprecated create function EnumDescriptor(). Note: Create unlinked descriptors is going to go away. Please use get/find descriptors from generated code or query the descriptor_pool.\n",
      "  _DATATYPE = _descriptor.EnumDescriptor(\n",
      "/opt/homebrew/Caskroom/miniforge/base/envs/ray/lib/python3.8/site-packages/tensorflow/core/framework/resource_handle_pb2.py:20: DeprecationWarning: Call to deprecated create function FileDescriptor(). Note: Create unlinked descriptors is going to go away. Please use get/find descriptors from generated code or query the descriptor_pool.\n",
      "  DESCRIPTOR = _descriptor.FileDescriptor(\n",
      "/opt/homebrew/Caskroom/miniforge/base/envs/ray/lib/python3.8/site-packages/tensorflow/core/framework/resource_handle_pb2.py:39: DeprecationWarning: Call to deprecated create function FieldDescriptor(). Note: Create unlinked descriptors is going to go away. Please use get/find descriptors from generated code or query the descriptor_pool.\n",
      "  _descriptor.FieldDescriptor(\n",
      "/opt/homebrew/Caskroom/miniforge/base/envs/ray/lib/python3.8/site-packages/tensorflow/core/framework/resource_handle_pb2.py:32: DeprecationWarning: Call to deprecated create function Descriptor(). Note: Create unlinked descriptors is going to go away. Please use get/find descriptors from generated code or query the descriptor_pool.\n",
      "  _RESOURCEHANDLEPROTO_DTYPEANDSHAPE = _descriptor.Descriptor(\n",
      "/opt/homebrew/Caskroom/miniforge/base/envs/ray/lib/python3.8/site-packages/tensorflow/core/framework/tensor_pb2.py:21: DeprecationWarning: Call to deprecated create function FileDescriptor(). Note: Create unlinked descriptors is going to go away. Please use get/find descriptors from generated code or query the descriptor_pool.\n",
      "  DESCRIPTOR = _descriptor.FileDescriptor(\n",
      "/opt/homebrew/Caskroom/miniforge/base/envs/ray/lib/python3.8/site-packages/tensorflow/core/framework/tensor_pb2.py:40: DeprecationWarning: Call to deprecated create function FieldDescriptor(). Note: Create unlinked descriptors is going to go away. Please use get/find descriptors from generated code or query the descriptor_pool.\n",
      "  _descriptor.FieldDescriptor(\n",
      "/opt/homebrew/Caskroom/miniforge/base/envs/ray/lib/python3.8/site-packages/tensorflow/core/framework/tensor_pb2.py:33: DeprecationWarning: Call to deprecated create function Descriptor(). Note: Create unlinked descriptors is going to go away. Please use get/find descriptors from generated code or query the descriptor_pool.\n",
      "  _TENSORPROTO = _descriptor.Descriptor(\n",
      "/opt/homebrew/Caskroom/miniforge/base/envs/ray/lib/python3.8/site-packages/tensorflow/core/framework/attr_value_pb2.py:21: DeprecationWarning: Call to deprecated create function FileDescriptor(). Note: Create unlinked descriptors is going to go away. Please use get/find descriptors from generated code or query the descriptor_pool.\n",
      "  DESCRIPTOR = _descriptor.FileDescriptor(\n",
      "/opt/homebrew/Caskroom/miniforge/base/envs/ray/lib/python3.8/site-packages/tensorflow/core/framework/attr_value_pb2.py:40: DeprecationWarning: Call to deprecated create function FieldDescriptor(). Note: Create unlinked descriptors is going to go away. Please use get/find descriptors from generated code or query the descriptor_pool.\n",
      "  _descriptor.FieldDescriptor(\n",
      "/opt/homebrew/Caskroom/miniforge/base/envs/ray/lib/python3.8/site-packages/tensorflow/core/framework/attr_value_pb2.py:33: DeprecationWarning: Call to deprecated create function Descriptor(). Note: Create unlinked descriptors is going to go away. Please use get/find descriptors from generated code or query the descriptor_pool.\n",
      "  _ATTRVALUE_LISTVALUE = _descriptor.Descriptor(\n",
      "/opt/homebrew/Caskroom/miniforge/base/envs/ray/lib/python3.8/site-packages/flatbuffers/compat.py:19: DeprecationWarning: the imp module is deprecated in favour of importlib; see the module's documentation for alternative uses\n",
      "  import imp\n",
      "/opt/homebrew/Caskroom/miniforge/base/envs/ray/lib/python3.8/site-packages/keras/utils/image_utils.py:36: DeprecationWarning: NEAREST is deprecated and will be removed in Pillow 10 (2023-07-01). Use Resampling.NEAREST or Dither.NONE instead.\n",
      "  'nearest': pil_image.NEAREST,\n",
      "/opt/homebrew/Caskroom/miniforge/base/envs/ray/lib/python3.8/site-packages/keras/utils/image_utils.py:37: DeprecationWarning: BILINEAR is deprecated and will be removed in Pillow 10 (2023-07-01). Use Resampling.BILINEAR instead.\n",
      "  'bilinear': pil_image.BILINEAR,\n",
      "/opt/homebrew/Caskroom/miniforge/base/envs/ray/lib/python3.8/site-packages/keras/utils/image_utils.py:38: DeprecationWarning: BICUBIC is deprecated and will be removed in Pillow 10 (2023-07-01). Use Resampling.BICUBIC instead.\n",
      "  'bicubic': pil_image.BICUBIC,\n",
      "/opt/homebrew/Caskroom/miniforge/base/envs/ray/lib/python3.8/site-packages/keras/utils/image_utils.py:39: DeprecationWarning: HAMMING is deprecated and will be removed in Pillow 10 (2023-07-01). Use Resampling.HAMMING instead.\n",
      "  'hamming': pil_image.HAMMING,\n",
      "/opt/homebrew/Caskroom/miniforge/base/envs/ray/lib/python3.8/site-packages/keras/utils/image_utils.py:40: DeprecationWarning: BOX is deprecated and will be removed in Pillow 10 (2023-07-01). Use Resampling.BOX instead.\n",
      "  'box': pil_image.BOX,\n",
      "/opt/homebrew/Caskroom/miniforge/base/envs/ray/lib/python3.8/site-packages/keras/utils/image_utils.py:41: DeprecationWarning: LANCZOS is deprecated and will be removed in Pillow 10 (2023-07-01). Use Resampling.LANCZOS instead.\n",
      "  'lanczos': pil_image.LANCZOS,\n",
      "/opt/homebrew/Caskroom/miniforge/base/envs/ray/lib/python3.8/site-packages/gin/tf/__init__.py:48: DeprecationWarning: distutils Version classes are deprecated. Use packaging.version instead.\n",
      "  if (distutils.version.LooseVersion(tf.__version__) <\n",
      "/opt/homebrew/Caskroom/miniforge/base/envs/ray/lib/python3.8/site-packages/tensorflow_probability/python/__init__.py:61: DeprecationWarning: distutils Version classes are deprecated. Use packaging.version instead.\n",
      "  if (distutils.version.LooseVersion(tf.__version__) <\n"
     ]
    }
   ],
   "source": [
    "import time\n",
    "import random\n",
    "import numpy as np\n",
    "\n",
    "import pickle\n",
    "import seaborn as sns\n",
    "import matplotlib.pyplot as plt\n",
    "\n",
    "from pprint import pprint\n",
    "from rllib_recsim.utils import pretty_print_configs"
   ]
  },
  {
   "cell_type": "code",
   "execution_count": 3,
   "metadata": {},
   "outputs": [],
   "source": [
    "from ray import tune, rllib, data, air\n",
    "from ray.tune import register_env"
   ]
  },
  {
   "cell_type": "code",
   "execution_count": 4,
   "metadata": {},
   "outputs": [],
   "source": [
    "import recsim \n",
    "# import custom long-term satisfaction recommendation system gym env\n",
    "from rllib_recsim.rllib_recsim import ModifiedLongTermSatisfactionRecSimEnv"
   ]
  },
  {
   "cell_type": "markdown",
   "metadata": {},
   "source": [
    "## RecSim <a class=\"anchor\" id=\"recsys\"></a>\n",
    "\n",
    "In this notebook, we will use <b><a href=\"https://github.com/google-research/recsim\">Google's RecSim environment</a></b>, which was developed for the YouTube recommendation problem.  It is a configurable environment, where ideally you would plug in your own users, products, and embedding features.\n",
    "\n",
    "**Some further readings**\n",
    "\n",
    "- <a href=\"https://github.com/google-research/recsim\">RecSim github</a>\n",
    "- <a href=\"https://arxiv.org/pdf/1909.04847.pdf\">RecSim paper</a>\n",
    "\n",
    "The following image depicts all the components of the recsim packages:\n",
    "\n",
    "<img src=\"./images/recsim_environment.png\" width=\"70%\" />\n",
    "\n",
    "The environment is <i>Timelimit-based</i>, meaning the termination condition for an episode will be after a fixed number (10) of videos are watched. \n",
    "\n",
    "### Document Model\n",
    "\n",
    "<img src=\"./images/document_model.png\" width=\"70%\" />\n",
    "\n",
    "Documents represent the candidate pool of items that need to be recommended with features sampled in the range [0, 1].  In this tutorial, we use <b>1 single feature \"sweetness\"</b> drawn from a uniform distribution between [0.8, 1.0] to represent \"chocolaty\" items and [0, 0.2] for the \"kaley\" options. \n",
    "- The documents can be different at each step (produced by some \"candidate generation\" process), or fixed throughout the simulation.\n",
    "- The recommendation algorithm observes the D candidate documents.  It then makes a selection (possibly ordered) of k documents and presents them in a \"slate\" to the user. We will focus on **slate size of 1** in this tutorial. "
   ]
  },
  {
   "cell_type": "code",
   "execution_count": 5,
   "metadata": {},
   "outputs": [
    {
     "name": "stdout",
     "output_type": "stream",
     "text": [
      "<ModifiedLongTermSatisfactionRecSimEnv<RecSimRewardScalingWrapper<MultiDiscreteToDiscreteActionWrapper<RecSimObservationSpaceWrapper<RecSimResetWrapper<RecSimGymEnv instance>>>>>>\n"
     ]
    }
   ],
   "source": [
    "env = ModifiedLongTermSatisfactionRecSimEnv()\n",
    "print(env)"
   ]
  },
  {
   "cell_type": "markdown",
   "metadata": {},
   "source": [
    "The printed environment shows the main RecSim environment which follows [gym API](https://www.gymlibrary.dev/api/core/). For more info on how the environment is actually implemented we refer you to the source code acompanied with this tutorial [link](https://github.com/anyscale/academy/blob/main/ray-rllib/acm_recsys_tutorial_2022/rllib_recsim/rllib_recsim.py).\n",
    "\n",
    "Let's use `env.reset()` to begin the interaction with the environment:\n",
    "\n",
    "```\n",
    "gym.Env.reset(self, *, seed: Optional[int] = None, options: Optional[dict] = None) → Tuple[ObsType, dict]\n",
    "Resets the environment to an initial state and returns the initial observation.\n",
    "```"
   ]
  },
  {
   "cell_type": "code",
   "execution_count": 6,
   "metadata": {},
   "outputs": [
    {
     "name": "stdout",
     "output_type": "stream",
     "text": [
      "OrderedDict([('user', array([], dtype=float32)),\n",
      "             ('doc',\n",
      "              {'0': array([0.99572366], dtype=float32),\n",
      "               '1': array([0.15983172], dtype=float32),\n",
      "               '10': array([0.8529111], dtype=float32),\n",
      "               '11': array([0.15484674], dtype=float32),\n",
      "               '12': array([0.89123005], dtype=float32),\n",
      "               '13': array([0.11368679], dtype=float32),\n",
      "               '14': array([0.80375797], dtype=float32),\n",
      "               '15': array([0.1235271], dtype=float32),\n",
      "               '16': array([0.92241913], dtype=float32),\n",
      "               '17': array([0.1233868], dtype=float32),\n",
      "               '18': array([0.9887496], dtype=float32),\n",
      "               '19': array([0.13636406], dtype=float32),\n",
      "               '2': array([0.8922959], dtype=float32),\n",
      "               '3': array([0.15610583], dtype=float32),\n",
      "               '4': array([0.8236549], dtype=float32),\n",
      "               '5': array([0.12798421], dtype=float32),\n",
      "               '6': array([0.8286707], dtype=float32),\n",
      "               '7': array([0.18893379], dtype=float32),\n",
      "               '8': array([0.90436965], dtype=float32),\n",
      "               '9': array([0.08293239], dtype=float32)}),\n",
      "             ('response',\n",
      "              (OrderedDict([('click', 1),\n",
      "                            ('engagement', array(-1., dtype=float32))]),)),\n",
      "             ('time', array([-0.5], dtype=float32))])\n"
     ]
    }
   ],
   "source": [
    "obs = env.reset()\n",
    "pprint(obs)"
   ]
  },
  {
   "cell_type": "markdown",
   "metadata": {},
   "source": [
    "### User Model\n",
    "\n",
    "<img src=\"./images/user_model.png\" width=\"70%\" />\n",
    "\n",
    "In RecSim users are representation by a set of features some of which could be latent hidden variables not observed by our recommendation system during live interaction. In this tutorial we assume that a sampled user from the world does not own any observable features like age, gender, etc. and our AI should infer the latent state of the user from its history of interactions in the current session. \n",
    "- The user examines a \"slate\" of recommended items and makes a choice of one item. After making their choice, the user emits an engagement score which indicates how much that user was engaged with that particular item they chose. The agent has to learn to estimate the latent states of the user that shape their choice model in the future. "
   ]
  },
  {
   "cell_type": "code",
   "execution_count": 7,
   "metadata": {},
   "outputs": [
    {
     "data": {
      "text/plain": [
       "array([], dtype=float32)"
      ]
     },
     "execution_count": 7,
     "metadata": {},
     "output_type": "execute_result"
    }
   ],
   "source": [
    "# observable user features\n",
    "obs['user']"
   ]
  },
  {
   "cell_type": "code",
   "execution_count": 8,
   "metadata": {},
   "outputs": [
    {
     "name": "stdout",
     "output_type": "stream",
     "text": [
      "{'choc_mean': 5.0,\n",
      " 'choc_stddev': 0.0,\n",
      " 'innovation_stddev': 1e-05,\n",
      " 'kale_mean': 0.0,\n",
      " 'kale_stddev': 0.0,\n",
      " 'memory_discount': 0.7,\n",
      " 'net_positive_exposure': 1.0,\n",
      " 'satisfaction': 0.7109495026250039,\n",
      " 'sensitivity': 0.9,\n",
      " 'time_budget': 10}\n"
     ]
    }
   ],
   "source": [
    "# latent user features (HACK: we can cheat and access the user state within the env)\n",
    "pprint(env.get_user_state())"
   ]
  },
  {
   "cell_type": "markdown",
   "metadata": {},
   "source": [
    "### User Choice\n",
    "\n",
    "<img src=\"./images/user_choice_model.png\" width=\"70%\" />\n",
    "\n",
    "This module controls how a particular user would **respond** to a set of recommendations and how its **latent state would evolve** as a function of this interaction. \n",
    "In the environment in this tutorial, engagement is assumed to be a function of two competing phenomenas:\n",
    "-   The love of the user for sweet items ($sweetness(item_t)$)\n",
    "-   The long term satisfaction which cares about healthier options. It is inversely correlated with the sweetness of items suggested so far ($satisfaction_{t-1}$)\n",
    "\n",
    "$$satisfaction_t := satisfaction_{t-1} * \\sigma(-sweetness(item_{t}))$$\n",
    "$$r(item_t) \\propto sweetness(item_t) * satisfaction_{t-1}$$\n",
    "\n",
    "i.e. If a user who loves chocolates have not had chocolate for a while, a chocolate item would be more engaging than a kaley item. On the other hand if we keep recommending chocolate to the same person, they may lose interest and not use our recommendations. "
   ]
  },
  {
   "cell_type": "code",
   "execution_count": 9,
   "metadata": {},
   "outputs": [
    {
     "name": "stdout",
     "output_type": "stream",
     "text": [
      "OrderedDict([('user', array([], dtype=float32)),\n",
      "             ('doc',\n",
      "              {'0': array([0.8719016], dtype=float32),\n",
      "               '1': array([0.08740639], dtype=float32),\n",
      "               '10': array([0.9140394], dtype=float32),\n",
      "               '11': array([0.0877203], dtype=float32),\n",
      "               '12': array([0.99767476], dtype=float32),\n",
      "               '13': array([0.02040896], dtype=float32),\n",
      "               '14': array([0.84177536], dtype=float32),\n",
      "               '15': array([0.0322619], dtype=float32),\n",
      "               '16': array([0.9306217], dtype=float32),\n",
      "               '17': array([0.05065832], dtype=float32),\n",
      "               '18': array([0.89326215], dtype=float32),\n",
      "               '19': array([0.04888512], dtype=float32),\n",
      "               '2': array([0.93952626], dtype=float32),\n",
      "               '3': array([0.01204509], dtype=float32),\n",
      "               '4': array([0.93335336], dtype=float32),\n",
      "               '5': array([0.13412757], dtype=float32),\n",
      "               '6': array([0.84207654], dtype=float32),\n",
      "               '7': array([0.02578526], dtype=float32),\n",
      "               '8': array([0.8630857], dtype=float32),\n",
      "               '9': array([0.07274216], dtype=float32)}),\n",
      "             ('response',\n",
      "              (OrderedDict([('click', 0),\n",
      "                            ('engagement', array(-1., dtype=float32))]),)),\n",
      "             ('time', array([-0.5], dtype=float32))])\n"
     ]
    }
   ],
   "source": [
    "obs = env.reset()\n",
    "pprint(obs)"
   ]
  },
  {
   "cell_type": "markdown",
   "metadata": {},
   "source": [
    "The observation space is a dictionary of four keys. \n",
    "- The `user` key is empty, because there is no observable user features. \n",
    "- The `doc` key contains a set of documents presented with numerical keys. Each doc item has a scalar score representing its sweetness. \n",
    "- The `response` key includes a single record of `click` and `engagement` from the immediate previous interaction. \n",
    "- The `time` shows a normalized timestep within the session for this user. -0.5 corresponds to the beginnig of the interaction and +0.5 corresponds to the end of the interaction."
   ]
  },
  {
   "cell_type": "markdown",
   "metadata": {},
   "source": [
    "Let's now checkout environment's reward behavior. Let's see what happens if we always pick the sweetest item and plot the reward over time."
   ]
  },
  {
   "cell_type": "code",
   "execution_count": 10,
   "metadata": {},
   "outputs": [],
   "source": [
    "# Let's checkout the reward space\n",
    "# TODO: code here\n",
    "rewards = []\n",
    "obs = env.reset()\n",
    "done = False\n",
    "while not done:\n",
    "    action = int(max(obs['doc'], key=lambda x: obs['doc'][x]))\n",
    "    next_obs, reward, done, info = env.step(action)\n",
    "    obs = next_obs\n",
    "    rewards.append(reward)"
   ]
  },
  {
   "cell_type": "code",
   "execution_count": 11,
   "metadata": {},
   "outputs": [
    {
     "data": {
      "text/plain": [
       "Text(0.5, 0, 'step')"
      ]
     },
     "execution_count": 11,
     "metadata": {},
     "output_type": "execute_result"
    },
    {
     "data": {
      "image/png": "[encoded data removed]",
      "text/plain": [
       "<Figure size 432x288 with 1 Axes>"
      ]
     },
     "metadata": {
      "needs_background": "light"
     },
     "output_type": "display_data"
    }
   ],
   "source": [
    "plt.plot(rewards)\n",
    "plt.ylabel('engagement per step for maximum greedy policy')\n",
    "plt.xlabel('step')"
   ]
  },
  {
   "cell_type": "markdown",
   "metadata": {},
   "source": [
    "We can note a couple of things here already:\n",
    "\n",
    "1. The immediate engagement would be high initially when the sweetest item is suggested for the first time.\n",
    "2. As we keep recommending the sweetest items, the user satisfaction significantly tampers off and as a result engagement quickly drops.\n",
    "3. Episodes seem to last for 10 timesteps."
   ]
  },
  {
   "cell_type": "markdown",
   "metadata": {},
   "source": [
    "#### Exercise (2 min):\n",
    "Instead of picking the item with the highest feature, pick the item with the lowest feature and see what happens?\n",
    "\n",
    "- What do your observations imply about this environment?\n",
    "- What policy maximizes engagement with the user?"
   ]
  },
  {
   "cell_type": "code",
   "execution_count": 12,
   "metadata": {},
   "outputs": [],
   "source": [
    "obs = env.reset()\n",
    "rewards = []\n",
    "done = False\n",
    "while not done:\n",
    "    # TODO (exercise): code here\n",
    "    action = int(min(obs['doc'], key=lambda x: obs['doc'][x]))\n",
    "    obs, reward, done, info = env.step(action)\n",
    "    rewards.append(reward)"
   ]
  },
  {
   "cell_type": "code",
   "execution_count": 13,
   "metadata": {},
   "outputs": [
    {
     "data": {
      "text/plain": [
       "Text(0.5, 0, 'step')"
      ]
     },
     "execution_count": 13,
     "metadata": {},
     "output_type": "execute_result"
    },
    {
     "data": {
      "image/png": "[encoded data removed]",
      "text/plain": [
       "<Figure size 432x288 with 1 Axes>"
      ]
     },
     "metadata": {
      "needs_background": "light"
     },
     "output_type": "display_data"
    }
   ],
   "source": [
    "plt.plot(rewards)\n",
    "plt.ylabel('engagement per step for minimum greedy policy')\n",
    "plt.xlabel('step')"
   ]
  },
  {
   "cell_type": "markdown",
   "metadata": {},
   "source": [
    "## Getting some baselines on trying to maximize engagement\n",
    "Next we will run some simple baselines to get a feeling of the reward we can accumulate in these environments using simple policies.\n",
    "\n",
    "- Greedy minimum feature value (recommending the kaliest option)\n",
    "- Greedy maximum feature value (recommending the chocoletiest option)\n",
    "- random policy (recommending random items from the pool)\n"
   ]
  },
  {
   "cell_type": "code",
   "execution_count": 14,
   "metadata": {},
   "outputs": [],
   "source": [
    "# Function that measures and outputs the random baseline reward.\n",
    "# This computes  the expected accumulated reward per episode, if we act randomly (recommend random items) at each time step.\n",
    "def calc_baseline(baseline_type=\"random\",\n",
    "                  episodes=100):\n",
    "\n",
    "    env = ModifiedLongTermSatisfactionRecSimEnv()\n",
    "    # Reset the env.\n",
    "    obs = env.reset()\n",
    "\n",
    "    # Number of episodes already done.\n",
    "    num_episodes = 0\n",
    "    # Current episode's accumulated reward.\n",
    "    episode_reward = 0.0\n",
    "    epsiode_satisfaction = []\n",
    "    # Collect all episode rewards here to be able to calculate a random baseline reward.\n",
    "    episode_rewards = []\n",
    "    episode_satisfactions = []\n",
    "    \n",
    "    # Enter while loop (to step through the episode).\n",
    "    time_step = 0\n",
    "    while num_episodes < episodes:\n",
    "        # Produce an action\n",
    "        random_action = random.randint(0, 20)# TODO: code here\n",
    "        argmax_action = int(max(obs['doc'], key=lambda x: obs['doc'][x]))\n",
    "        argmin_action = int(min(obs['doc'], key=lambda x: obs['doc'][x]))\n",
    "\n",
    "        action_dict = {\n",
    "            'argmax': argmax_action, # greedy choc\n",
    "            'argmin': argmin_action, # greedy kale\n",
    "            'random': random_action,\n",
    "        }\n",
    "\n",
    "        action = action_dict[baseline_type]\n",
    "        \n",
    "        # Send the action to the env's `step()` method to receive: obs, reward, done, and info.\n",
    "        obs, reward, done, _ = env.step(action)\n",
    "        \n",
    "        # Accumulate the rewards\n",
    "        episode_reward += reward\n",
    "        \n",
    "        # Append satisfaction to episode_satiscation\n",
    "        epsiode_satisfaction.append(\n",
    "            env.environment._user_model._user_state.satisfaction\n",
    "        )\n",
    "\n",
    "        time_step += 1\n",
    "        # Check, whether the episde is done, if yes, reset and increase episode counter.\n",
    "        if done:\n",
    "            if num_episodes % 99 == 0:\n",
    "                print(f\" {num_episodes} \", end=\"\")\n",
    "            elif num_episodes % 9 == 0:\n",
    "                print(\".\", end=\"\")\n",
    "                \n",
    "            # increment on end of episode\n",
    "            num_episodes += 1\n",
    "            time_step = 0\n",
    "            obs = env.reset()\n",
    "            episode_rewards.append(episode_reward)\n",
    "            episode_reward = 0.0\n",
    "            episode_satisfactions.append(np.mean(epsiode_satisfaction))\n",
    "\n",
    "    # Print out and return mean episode reward (and standard error of the mean).\n",
    "    env_mean_reward = np.mean(episode_rewards)\n",
    "    env_sd_reward = np.std(episode_rewards)\n",
    "\n",
    "    # Print out the satisfaction over the episodes\n",
    "    env_mean_satisfaction = np.mean(episode_satisfactions)\n",
    "    env_sd_satisfaction = np.std(episode_satisfactions)\n",
    "    \n",
    "    print(f\"\\nMean {baseline_type} baseline reward: {env_mean_reward:.2f}+/-{env_sd_reward:.2f}, satisfaction: {env_mean_satisfaction:.2f}+/-{env_sd_satisfaction:.2f}\")\n",
    "\n",
    "    return env_mean_reward, episode_rewards"
   ]
  },
  {
   "cell_type": "code",
   "execution_count": 15,
   "metadata": {},
   "outputs": [
    {
     "name": "stdout",
     "output_type": "stream",
     "text": [
      " 0 .......... 99 .......... 198 .......... 297 .......... 396 .......... 495 .......... 594 .......... 693 .......... 792 .......... 891 .......... 990 .\n",
      "Mean argmin baseline reward: 10.88+/-0.27, satisfaction: 0.91+/-0.00\n",
      " 0 .......... 99 .......... 198 .......... 297 .......... 396 .......... 495 .......... 594 .......... 693 .......... 792 .......... 891 .......... 990 .\n",
      "Mean argmax baseline reward: 56.51+/-1.43, satisfaction: 0.14+/-0.00\n",
      " 0 .......... 99 .......... 198 .......... 297 .......... 396 .......... 495 .......... 594 .......... 693 .......... 792 .......... 891 .......... 990 .\n",
      "Mean random baseline reward: 96.45+/-23.88, satisfaction: 0.51+/-0.01\n"
     ]
    }
   ],
   "source": [
    "num_episodes = 1000\n",
    "kaliest_baseline, _ = calc_baseline(baseline_type=\"argmin\", episodes=num_episodes)\n",
    "sweetest_baseline,  _ = calc_baseline(baseline_type=\"argmax\", episodes=num_episodes)\n",
    "random_baseline, _ = calc_baseline(baseline_type=\"random\", episodes=num_episodes)"
   ]
  },
  {
   "cell_type": "markdown",
   "metadata": {},
   "source": [
    "### Discussion about the baselines\n",
    "\n",
    "For every baseline we have printed out not only the engagement score of the entire user session but also the average of the satisfaction term over the entire session as well.\n",
    "\n",
    "The question is whether we automatically learn an optimal policy in this recommendation enviornement that is better than random?\n"
   ]
  },
  {
   "cell_type": "markdown",
   "metadata": {},
   "source": [
    "## Questions (2 min)\n",
    "\n",
    "- Any questions so far?"
   ]
  },
  {
   "cell_type": "markdown",
   "metadata": {},
   "source": [
    "# Bandit <a class=\"anchor\" id=\"bandits\"></a>\n",
    "\n",
    "Bandit is a classical algorithm used in RecSys that is known to optimize single-step objectives. **They maximize immediate engagement not accumulated engagement over the user session.**\n",
    "\n",
    "Any RL algorithm can be turned into a contextual bandit algorithm if the discount factor of the Markov Decision Process is set to 0.0. This will result in maximizing the immediate reward and hence a bandit solution. \n",
    "\n",
    "<img src=\"./images/gamma_0_vs_1.png\" width=\"70%\" />"
   ]
  },
  {
   "cell_type": "markdown",
   "metadata": {},
   "source": [
    "In this section, we will use Deep Q-Networks([DQN](https://docs.ray.io/en/latest/rllib/rllib-algorithms.html#dqn)) implementation in [RLlib](https://docs.ray.io/en/latest/rllib/index.html) to train an agent both with $\\gamma = 0$ and $\\gamma = 0.99$ to see the difference between a bandit solution and an RL solution.\n"
   ]
  },
  {
   "cell_type": "code",
   "execution_count": 16,
   "metadata": {},
   "outputs": [],
   "source": [
    "register_env(\"modified-lts\", lambda config: ModifiedLongTermSatisfactionRecSimEnv())"
   ]
  },
  {
   "cell_type": "code",
   "execution_count": 17,
   "metadata": {},
   "outputs": [],
   "source": [
    "from ray.rllib.algorithms.dqn import DQNConfig, DQN"
   ]
  },
  {
   "cell_type": "code",
   "execution_count": 18,
   "metadata": {},
   "outputs": [],
   "source": [
    "# set up the environment config\n",
    "bandit_config = DQNConfig()\n",
    "# setup the env\n",
    "bandit_config = bandit_config.environment(env=\"modified-lts\")\n",
    "# setup framework to be torch\n",
    "bandit_config = bandit_config.framework(\"torch\")\n",
    "# setup the gamma\n",
    "bandit_config = bandit_config.training(gamma=0.0)"
   ]
  },
  {
   "cell_type": "code",
   "execution_count": 19,
   "metadata": {},
   "outputs": [
    {
     "data": {
      "text/plain": [
       "{'env': 'modified-lts', 'framework': 'torch', 'gamma': 0.0}"
      ]
     },
     "execution_count": 19,
     "metadata": {},
     "output_type": "execute_result"
    }
   ],
   "source": [
    "pretty_print_configs(bandit_config)"
   ]
  },
  {
   "cell_type": "markdown",
   "metadata": {},
   "source": [
    "In RLlib we can run training loops Using `tune.Tuner()` with stopping condition (recommended)\n"
   ]
  },
  {
   "cell_type": "code",
   "execution_count": 20,
   "metadata": {},
   "outputs": [
    {
     "name": "stderr",
     "output_type": "stream",
     "text": [
      "2022-09-16 10:39:43,537\tINFO worker.py:1517 -- Started a local Ray instance.\n"
     ]
    },
    {
     "data": {
      "text/html": [
       "<div class=\"tuneStatus\">\n",
       "  <div style=\"display: flex;flex-direction: row\">\n",
       "    <div style=\"display: flex;flex-direction: column;\">\n",
       "      <h3>Tune Status</h3>\n",
       "      <table>\n",
       "<tbody>\n",
       "<tr><td>Current time:</td><td>2022-09-16 10:39:51</td></tr>\n",
       "<tr><td>Running for: </td><td>00:00:06.22        </td></tr>\n",
       "<tr><td>Memory:      </td><td>11.6/16.0 GiB      </td></tr>\n",
       "</tbody>\n",
       "</table>\n",
       "    </div>\n",
       "    <div class=\"vDivider\"></div>\n",
       "    <div class=\"systemInfo\">\n",
       "      <h3>System Info</h3>\n",
       "      Using FIFO scheduling algorithm.<br>Resources requested: 0/8 CPUs, 0/0 GPUs, 0.0/6.77 GiB heap, 0.0/2.0 GiB objects\n",
       "    </div>\n",
       "    \n",
       "  </div>\n",
       "  <div class=\"hDivider\"></div>\n",
       "  <div class=\"trialStatus\">\n",
       "    <h3>Trial Status</h3>\n",
       "    <table>\n",
       "<thead>\n",
       "<tr><th>Trial name                  </th><th>status    </th><th>loc            </th><th style=\"text-align: right;\">  iter</th><th style=\"text-align: right;\">  total time (s)</th><th style=\"text-align: right;\">  ts</th><th style=\"text-align: right;\">  reward</th><th style=\"text-align: right;\">  num_recreated_wor...</th><th style=\"text-align: right;\">  episode_reward_max</th><th style=\"text-align: right;\">  episode_reward_min</th></tr>\n",
       "</thead>\n",
       "<tbody>\n",
       "<tr><td>DQN_modified-lts_8d513_00000</td><td>TERMINATED</td><td>127.0.0.1:65036</td><td style=\"text-align: right;\">     1</td><td style=\"text-align: right;\">         1.47944</td><td style=\"text-align: right;\">1000</td><td style=\"text-align: right;\">  98.668</td><td style=\"text-align: right;\">                     0</td><td style=\"text-align: right;\">             157.279</td><td style=\"text-align: right;\">             50.9246</td></tr>\n",
       "</tbody>\n",
       "</table>\n",
       "  </div>\n",
       "</div>\n",
       "<style>\n",
       ".tuneStatus {\n",
       "  color: var(--jp-ui-font-color1);\n",
       "}\n",
       ".tuneStatus .systemInfo {\n",
       "  display: flex;\n",
       "  flex-direction: column;\n",
       "}\n",
       ".tuneStatus td {\n",
       "  white-space: nowrap;\n",
       "}\n",
       ".tuneStatus .trialStatus {\n",
       "  display: flex;\n",
       "  flex-direction: column;\n",
       "}\n",
       ".tuneStatus h3 {\n",
       "  font-weight: bold;\n",
       "}\n",
       ".tuneStatus .hDivider {\n",
       "  border-bottom-width: var(--jp-border-width);\n",
       "  border-bottom-color: var(--jp-border-color0);\n",
       "  border-bottom-style: solid;\n",
       "}\n",
       ".tuneStatus .vDivider {\n",
       "  border-left-width: var(--jp-border-width);\n",
       "  border-left-color: var(--jp-border-color0);\n",
       "  border-left-style: solid;\n",
       "  margin: 0.5em 1em 0.5em 1em;\n",
       "}\n",
       "</style>\n"
      ],
      "text/plain": [
       "<IPython.core.display.HTML object>"
      ]
     },
     "metadata": {},
     "output_type": "display_data"
    },
    {
     "name": "stderr",
     "output_type": "stream",
     "text": [
      "\u001b[2m\u001b[36m(pid=65036)\u001b[0m /opt/homebrew/Caskroom/miniforge/base/envs/ray/lib/python3.8/site-packages/tensorflow/core/framework/tensor_shape_pb2.py:18: DeprecationWarning: Call to deprecated create function FileDescriptor(). Note: Create unlinked descriptors is going to go away. Please use get/find descriptors from generated code or query the descriptor_pool.\n",
      "\u001b[2m\u001b[36m(pid=65036)\u001b[0m   DESCRIPTOR = _descriptor.FileDescriptor(\n",
      "\u001b[2m\u001b[36m(pid=65036)\u001b[0m /opt/homebrew/Caskroom/miniforge/base/envs/ray/lib/python3.8/site-packages/tensorflow/core/framework/tensor_shape_pb2.py:36: DeprecationWarning: Call to deprecated create function FieldDescriptor(). Note: Create unlinked descriptors is going to go away. Please use get/find descriptors from generated code or query the descriptor_pool.\n",
      "\u001b[2m\u001b[36m(pid=65036)\u001b[0m   _descriptor.FieldDescriptor(\n",
      "\u001b[2m\u001b[36m(pid=65036)\u001b[0m /opt/homebrew/Caskroom/miniforge/base/envs/ray/lib/python3.8/site-packages/tensorflow/core/framework/tensor_shape_pb2.py:29: DeprecationWarning: Call to deprecated create function Descriptor(). Note: Create unlinked descriptors is going to go away. Please use get/find descriptors from generated code or query the descriptor_pool.\n",
      "\u001b[2m\u001b[36m(pid=65036)\u001b[0m   _TENSORSHAPEPROTO_DIM = _descriptor.Descriptor(\n",
      "\u001b[2m\u001b[36m(pid=65036)\u001b[0m /opt/homebrew/Caskroom/miniforge/base/envs/ray/lib/python3.8/site-packages/tensorflow/core/framework/types_pb2.py:19: DeprecationWarning: Call to deprecated create function FileDescriptor(). Note: Create unlinked descriptors is going to go away. Please use get/find descriptors from generated code or query the descriptor_pool.\n",
      "\u001b[2m\u001b[36m(pid=65036)\u001b[0m   DESCRIPTOR = _descriptor.FileDescriptor(\n",
      "\u001b[2m\u001b[36m(pid=65036)\u001b[0m /opt/homebrew/Caskroom/miniforge/base/envs/ray/lib/python3.8/site-packages/tensorflow/core/framework/types_pb2.py:33: DeprecationWarning: Call to deprecated create function EnumValueDescriptor(). Note: Create unlinked descriptors is going to go away. Please use get/find descriptors from generated code or query the descriptor_pool.\n",
      "\u001b[2m\u001b[36m(pid=65036)\u001b[0m   _descriptor.EnumValueDescriptor(\n",
      "\u001b[2m\u001b[36m(pid=65036)\u001b[0m /opt/homebrew/Caskroom/miniforge/base/envs/ray/lib/python3.8/site-packages/tensorflow/core/framework/types_pb2.py:27: DeprecationWarning: Call to deprecated create function EnumDescriptor(). Note: Create unlinked descriptors is going to go away. Please use get/find descriptors from generated code or query the descriptor_pool.\n",
      "\u001b[2m\u001b[36m(pid=65036)\u001b[0m   _DATATYPE = _descriptor.EnumDescriptor(\n",
      "\u001b[2m\u001b[36m(pid=65036)\u001b[0m /opt/homebrew/Caskroom/miniforge/base/envs/ray/lib/python3.8/site-packages/tensorflow/core/framework/resource_handle_pb2.py:20: DeprecationWarning: Call to deprecated create function FileDescriptor(). Note: Create unlinked descriptors is going to go away. Please use get/find descriptors from generated code or query the descriptor_pool.\n",
      "\u001b[2m\u001b[36m(pid=65036)\u001b[0m   DESCRIPTOR = _descriptor.FileDescriptor(\n",
      "\u001b[2m\u001b[36m(pid=65036)\u001b[0m /opt/homebrew/Caskroom/miniforge/base/envs/ray/lib/python3.8/site-packages/tensorflow/core/framework/resource_handle_pb2.py:39: DeprecationWarning: Call to deprecated create function FieldDescriptor(). Note: Create unlinked descriptors is going to go away. Please use get/find descriptors from generated code or query the descriptor_pool.\n",
      "\u001b[2m\u001b[36m(pid=65036)\u001b[0m   _descriptor.FieldDescriptor(\n",
      "\u001b[2m\u001b[36m(pid=65036)\u001b[0m /opt/homebrew/Caskroom/miniforge/base/envs/ray/lib/python3.8/site-packages/tensorflow/core/framework/resource_handle_pb2.py:32: DeprecationWarning: Call to deprecated create function Descriptor(). Note: Create unlinked descriptors is going to go away. Please use get/find descriptors from generated code or query the descriptor_pool.\n",
      "\u001b[2m\u001b[36m(pid=65036)\u001b[0m   _RESOURCEHANDLEPROTO_DTYPEANDSHAPE = _descriptor.Descriptor(\n",
      "\u001b[2m\u001b[36m(pid=65036)\u001b[0m /opt/homebrew/Caskroom/miniforge/base/envs/ray/lib/python3.8/site-packages/tensorflow/core/framework/tensor_pb2.py:21: DeprecationWarning: Call to deprecated create function FileDescriptor(). Note: Create unlinked descriptors is going to go away. Please use get/find descriptors from generated code or query the descriptor_pool.\n",
      "\u001b[2m\u001b[36m(pid=65036)\u001b[0m   DESCRIPTOR = _descriptor.FileDescriptor(\n",
      "\u001b[2m\u001b[36m(pid=65036)\u001b[0m /opt/homebrew/Caskroom/miniforge/base/envs/ray/lib/python3.8/site-packages/tensorflow/core/framework/tensor_pb2.py:40: DeprecationWarning: Call to deprecated create function FieldDescriptor(). Note: Create unlinked descriptors is going to go away. Please use get/find descriptors from generated code or query the descriptor_pool.\n",
      "\u001b[2m\u001b[36m(pid=65036)\u001b[0m   _descriptor.FieldDescriptor(\n",
      "\u001b[2m\u001b[36m(pid=65036)\u001b[0m /opt/homebrew/Caskroom/miniforge/base/envs/ray/lib/python3.8/site-packages/tensorflow/core/framework/tensor_pb2.py:33: DeprecationWarning: Call to deprecated create function Descriptor(). Note: Create unlinked descriptors is going to go away. Please use get/find descriptors from generated code or query the descriptor_pool.\n",
      "\u001b[2m\u001b[36m(pid=65036)\u001b[0m   _TENSORPROTO = _descriptor.Descriptor(\n",
      "\u001b[2m\u001b[36m(pid=65036)\u001b[0m /opt/homebrew/Caskroom/miniforge/base/envs/ray/lib/python3.8/site-packages/tensorflow/core/framework/attr_value_pb2.py:21: DeprecationWarning: Call to deprecated create function FileDescriptor(). Note: Create unlinked descriptors is going to go away. Please use get/find descriptors from generated code or query the descriptor_pool.\n",
      "\u001b[2m\u001b[36m(pid=65036)\u001b[0m   DESCRIPTOR = _descriptor.FileDescriptor(\n",
      "\u001b[2m\u001b[36m(pid=65036)\u001b[0m /opt/homebrew/Caskroom/miniforge/base/envs/ray/lib/python3.8/site-packages/tensorflow/core/framework/attr_value_pb2.py:40: DeprecationWarning: Call to deprecated create function FieldDescriptor(). Note: Create unlinked descriptors is going to go away. Please use get/find descriptors from generated code or query the descriptor_pool.\n",
      "\u001b[2m\u001b[36m(pid=65036)\u001b[0m   _descriptor.FieldDescriptor(\n",
      "\u001b[2m\u001b[36m(pid=65036)\u001b[0m /opt/homebrew/Caskroom/miniforge/base/envs/ray/lib/python3.8/site-packages/tensorflow/core/framework/attr_value_pb2.py:33: DeprecationWarning: Call to deprecated create function Descriptor(). Note: Create unlinked descriptors is going to go away. Please use get/find descriptors from generated code or query the descriptor_pool.\n",
      "\u001b[2m\u001b[36m(pid=65036)\u001b[0m   _ATTRVALUE_LISTVALUE = _descriptor.Descriptor(\n",
      "\u001b[2m\u001b[36m(pid=65036)\u001b[0m /opt/homebrew/Caskroom/miniforge/base/envs/ray/lib/python3.8/site-packages/flatbuffers/compat.py:19: DeprecationWarning: the imp module is deprecated in favour of importlib; see the module's documentation for alternative uses\n",
      "\u001b[2m\u001b[36m(pid=65036)\u001b[0m   import imp\n",
      "\u001b[2m\u001b[36m(pid=65036)\u001b[0m /opt/homebrew/Caskroom/miniforge/base/envs/ray/lib/python3.8/site-packages/keras/utils/image_utils.py:36: DeprecationWarning: NEAREST is deprecated and will be removed in Pillow 10 (2023-07-01). Use Resampling.NEAREST or Dither.NONE instead.\n",
      "\u001b[2m\u001b[36m(pid=65036)\u001b[0m   'nearest': pil_image.NEAREST,\n",
      "\u001b[2m\u001b[36m(pid=65036)\u001b[0m /opt/homebrew/Caskroom/miniforge/base/envs/ray/lib/python3.8/site-packages/keras/utils/image_utils.py:37: DeprecationWarning: BILINEAR is deprecated and will be removed in Pillow 10 (2023-07-01). Use Resampling.BILINEAR instead.\n",
      "\u001b[2m\u001b[36m(pid=65036)\u001b[0m   'bilinear': pil_image.BILINEAR,\n",
      "\u001b[2m\u001b[36m(pid=65036)\u001b[0m /opt/homebrew/Caskroom/miniforge/base/envs/ray/lib/python3.8/site-packages/keras/utils/image_utils.py:38: DeprecationWarning: BICUBIC is deprecated and will be removed in Pillow 10 (2023-07-01). Use Resampling.BICUBIC instead.\n",
      "\u001b[2m\u001b[36m(pid=65036)\u001b[0m   'bicubic': pil_image.BICUBIC,\n",
      "\u001b[2m\u001b[36m(pid=65036)\u001b[0m /opt/homebrew/Caskroom/miniforge/base/envs/ray/lib/python3.8/site-packages/keras/utils/image_utils.py:39: DeprecationWarning: HAMMING is deprecated and will be removed in Pillow 10 (2023-07-01). Use Resampling.HAMMING instead.\n",
      "\u001b[2m\u001b[36m(pid=65036)\u001b[0m   'hamming': pil_image.HAMMING,\n",
      "\u001b[2m\u001b[36m(pid=65036)\u001b[0m /opt/homebrew/Caskroom/miniforge/base/envs/ray/lib/python3.8/site-packages/keras/utils/image_utils.py:40: DeprecationWarning: BOX is deprecated and will be removed in Pillow 10 (2023-07-01). Use Resampling.BOX instead.\n",
      "\u001b[2m\u001b[36m(pid=65036)\u001b[0m   'box': pil_image.BOX,\n",
      "\u001b[2m\u001b[36m(pid=65036)\u001b[0m /opt/homebrew/Caskroom/miniforge/base/envs/ray/lib/python3.8/site-packages/keras/utils/image_utils.py:41: DeprecationWarning: LANCZOS is deprecated and will be removed in Pillow 10 (2023-07-01). Use Resampling.LANCZOS instead.\n",
      "\u001b[2m\u001b[36m(pid=65036)\u001b[0m   'lanczos': pil_image.LANCZOS,\n",
      "\u001b[2m\u001b[36m(pid=65036)\u001b[0m /opt/homebrew/Caskroom/miniforge/base/envs/ray/lib/python3.8/site-packages/tensorflow_probability/python/__init__.py:61: DeprecationWarning: distutils Version classes are deprecated. Use packaging.version instead.\n",
      "\u001b[2m\u001b[36m(pid=65036)\u001b[0m   if (distutils.version.LooseVersion(tf.__version__) <\n",
      "\u001b[2m\u001b[36m(pid=65036)\u001b[0m WARNING:tensorflow:From /opt/homebrew/Caskroom/miniforge/base/envs/ray/lib/python3.8/site-packages/tensorflow/python/util/deprecation.py:561: calling function (from tensorflow.python.eager.def_function) with experimental_relax_shapes is deprecated and will be removed in a future version.\n",
      "\u001b[2m\u001b[36m(pid=65036)\u001b[0m Instructions for updating:\n",
      "\u001b[2m\u001b[36m(pid=65036)\u001b[0m experimental_relax_shapes is deprecated, use reduce_retracing instead\n",
      "\u001b[2m\u001b[36m(DQN pid=65036)\u001b[0m /opt/homebrew/Caskroom/miniforge/base/envs/ray/lib/python3.8/site-packages/gin/tf/__init__.py:48: DeprecationWarning: distutils Version classes are deprecated. Use packaging.version instead.\n",
      "\u001b[2m\u001b[36m(DQN pid=65036)\u001b[0m   if (distutils.version.LooseVersion(tf.__version__) <\n",
      "\u001b[2m\u001b[36m(DQN pid=65036)\u001b[0m 2022-09-16 10:39:49,469\tWARNING deprecation.py:47 -- DeprecationWarning: `ray.rllib.algorithms.dqn.dqn.DEFAULT_CONFIG` has been deprecated. Use `ray.rllib.algorithms.dqn.dqn.DQNConfig(...)` instead. This will raise an error in the future!\n",
      "\u001b[2m\u001b[36m(DQN pid=65036)\u001b[0m 2022-09-16 10:39:49,469\tWARNING deprecation.py:47 -- DeprecationWarning: `config['multiagent']['replay_mode']` has been deprecated. config['replay_buffer_config']['replay_mode'] This will raise an error in the future!\n",
      "\u001b[2m\u001b[36m(DQN pid=65036)\u001b[0m 2022-09-16 10:39:49,469\tINFO simple_q.py:303 -- In multi-agent mode, policies will be optimized sequentially by the multi-GPU optimizer. Consider setting `simple_optimizer=True` if this doesn't work for you.\n",
      "\u001b[2m\u001b[36m(DQN pid=65036)\u001b[0m 2022-09-16 10:39:49,470\tINFO algorithm.py:357 -- Current log_level is WARN. For more information, set 'log_level': 'INFO' / 'DEBUG' or use the -v and -vv flags.\n",
      "\u001b[2m\u001b[36m(DQN pid=65036)\u001b[0m /Users/kourosh/dev/workspace-project-gpu-workspace-kh/python/ray/_private/ray_option_utils.py:284: DeprecationWarning: Setting 'object_store_memory' for actors is deprecated since it doesn't actually reserve the required object store memory. Use object spilling that's enabled by default (https://docs.ray.io/en/master/ray-core/objects/object-spilling.html) instead to bypass the object store memory size limitation.\n",
      "\u001b[2m\u001b[36m(DQN pid=65036)\u001b[0m   warnings.warn(\n",
      "\u001b[2m\u001b[36m(DQN pid=65036)\u001b[0m 2022-09-16 10:39:49,477\tWARNING env.py:142 -- Your env doesn't have a .spec.max_episode_steps attribute. This is fine if you have set 'horizon' in your config dictionary, or `soft_horizon`. However, if you haven't, 'horizon' will default to infinity, and your environment will not be reset.\n",
      "\u001b[2m\u001b[36m(DQN pid=65036)\u001b[0m 2022-09-16 10:39:49,498\tWARNING util.py:66 -- Install gputil for GPU system monitoring.\n",
      "\u001b[2m\u001b[36m(DQN pid=65036)\u001b[0m 2022-09-16 10:39:49,516\tWARNING deprecation.py:47 -- DeprecationWarning: `ReplayBuffer.add_batch()` has been deprecated. Use `ReplayBuffer.add()` instead. This will raise an error in the future!\n",
      "\u001b[2m\u001b[36m(DQN pid=65036)\u001b[0m 2022-09-16 10:39:49,524\tWARNING multi_agent_prioritized_replay_buffer.py:215 -- Adding batches with column `weights` to this buffer while providing weights as a call argument to the add method results in the column being overwritten.\n"
     ]
    },
    {
     "data": {
      "text/html": [
       "<div class=\"trialProgress\">\n",
       "  <h3>Trial Progress</h3>\n",
       "  <table>\n",
       "<thead>\n",
       "<tr><th>Trial name                  </th><th style=\"text-align: right;\">  agent_timesteps_total</th><th>counters                                                                                                                  </th><th>custom_metrics  </th><th>date               </th><th>done  </th><th style=\"text-align: right;\">  episode_len_mean</th><th>episode_media  </th><th style=\"text-align: right;\">  episode_reward_max</th><th style=\"text-align: right;\">  episode_reward_mean</th><th style=\"text-align: right;\">  episode_reward_min</th><th style=\"text-align: right;\">  episodes_this_iter</th><th style=\"text-align: right;\">  episodes_total</th><th>experiment_id                   </th><th>hostname               </th><th>info                                                                                                                                     </th><th style=\"text-align: right;\">  iterations_since_restore</th><th>node_ip  </th><th style=\"text-align: right;\">  num_agent_steps_sampled</th><th style=\"text-align: right;\">  num_agent_steps_trained</th><th style=\"text-align: right;\">  num_env_steps_sampled</th><th style=\"text-align: right;\">  num_env_steps_sampled_this_iter</th><th style=\"text-align: right;\">  num_env_steps_trained</th><th style=\"text-align: right;\">  num_env_steps_trained_this_iter</th><th style=\"text-align: right;\">  num_faulty_episodes</th><th style=\"text-align: right;\">  num_healthy_workers</th><th style=\"text-align: right;\">  num_recreated_workers</th><th style=\"text-align: right;\">  num_steps_trained_this_iter</th><th>perf                                                             </th><th style=\"text-align: right;\">  pid</th><th>policy_reward_max  </th><th>policy_reward_mean  </th><th>policy_reward_min  </th><th>sampler_perf                                                                                                                                                                                                     </th><th>sampler_results                                                                                                                                                                                                                                                                                                                                                                                                                                                                                                                                                                                                                                                                                                                                                                                                                                                                                                                                                                                                                                                                                                                                                                                                                                                                                                                                                                                                                                                                                                                                                                                                                                                                                                                                                                                                                                                                                                                                                                                                                                                                                                                                                                                                                                                                                                                                                                                                                                                                                                                                                                                                                                                                                                                                                                                                                                                                                                                                                                                                                                                     </th><th style=\"text-align: right;\">  time_since_restore</th><th style=\"text-align: right;\">  time_this_iter_s</th><th style=\"text-align: right;\">  time_total_s</th><th>timers                               </th><th style=\"text-align: right;\">  timestamp</th><th style=\"text-align: right;\">  timesteps_since_restore</th><th style=\"text-align: right;\">  timesteps_total</th><th style=\"text-align: right;\">  training_iteration</th><th>trial_id   </th><th style=\"text-align: right;\">  warmup_time</th></tr>\n",
       "</thead>\n",
       "<tbody>\n",
       "<tr><td>DQN_modified-lts_8d513_00000</td><td style=\"text-align: right;\">                   1000</td><td>{&#x27;num_env_steps_sampled&#x27;: 1000, &#x27;num_env_steps_trained&#x27;: 0, &#x27;num_agent_steps_sampled&#x27;: 1000, &#x27;num_agent_steps_trained&#x27;: 0}</td><td>{}              </td><td>2022-09-16_10-39-50</td><td>True  </td><td style=\"text-align: right;\">                10</td><td>{}             </td><td style=\"text-align: right;\">             157.279</td><td style=\"text-align: right;\">               98.668</td><td style=\"text-align: right;\">             50.9246</td><td style=\"text-align: right;\">                 100</td><td style=\"text-align: right;\">             100</td><td>846b258bc9044ae8852638ed1747052a</td><td>Kouroshs-MacBook-Pro-13</td><td>{&#x27;learner&#x27;: {}, &#x27;num_env_steps_sampled&#x27;: 1000, &#x27;num_env_steps_trained&#x27;: 0, &#x27;num_agent_steps_sampled&#x27;: 1000, &#x27;num_agent_steps_trained&#x27;: 0}</td><td style=\"text-align: right;\">                         1</td><td>127.0.0.1</td><td style=\"text-align: right;\">                     1000</td><td style=\"text-align: right;\">                        0</td><td style=\"text-align: right;\">                   1000</td><td style=\"text-align: right;\">                             1000</td><td style=\"text-align: right;\">                      0</td><td style=\"text-align: right;\">                                0</td><td style=\"text-align: right;\">                    0</td><td style=\"text-align: right;\">                    0</td><td style=\"text-align: right;\">                      0</td><td style=\"text-align: right;\">                            0</td><td>{&#x27;cpu_util_percent&#x27;: 34.56666666666667, &#x27;ram_util_percent&#x27;: 72.7}</td><td style=\"text-align: right;\">65036</td><td>{}                 </td><td>{}                  </td><td>{}                 </td><td>{&#x27;mean_raw_obs_processing_ms&#x27;: 0.7130061234389392, &#x27;mean_inference_ms&#x27;: 0.5007733355511678, &#x27;mean_action_processing_ms&#x27;: 0.020816728666231236, &#x27;mean_env_wait_ms&#x27;: 0.1484883296025264, &#x27;mean_env_render_ms&#x27;: 0.0}</td><td>{&#x27;episode_reward_max&#x27;: 157.2794808590646, &#x27;episode_reward_min&#x27;: 50.92455851154958, &#x27;episode_reward_mean&#x27;: 98.66798976934584, &#x27;episode_len_mean&#x27;: 10.0, &#x27;episode_media&#x27;: {}, &#x27;episodes_this_iter&#x27;: 100, &#x27;policy_reward_min&#x27;: {}, &#x27;policy_reward_max&#x27;: {}, &#x27;policy_reward_mean&#x27;: {}, &#x27;custom_metrics&#x27;: {}, &#x27;hist_stats&#x27;: {&#x27;episode_reward&#x27;: [50.92455851154958, 65.70523057164286, 122.25298103657748, 112.30676935143808, 95.80501736264931, 73.11150358018843, 101.38447518978434, 80.32407619417586, 79.9968196211908, 110.94059836863657, 77.93657489527622, 79.58672374421704, 89.7575450392681, 63.746365122928694, 100.26128759444785, 91.06665341574818, 89.47396445433536, 147.88220799478523, 56.750066971291126, 119.13698724192535, 53.06937118590618, 108.94352942821945, 111.6925820527259, 123.36355836741555, 100.98532893582089, 72.94880761415335, 101.28493969895622, 131.64345423392942, 62.365996189651334, 118.78323550031376, 105.43622061671493, 80.44395310745273, 135.34287840625043, 99.41173245648976, 113.44872895436144, 87.91880626764133, 98.76035565459794, 109.49952513768665, 100.81148371882219, 104.78797864122545, 130.40649081413005, 101.00504195427239, 66.86314533719579, 87.71919897736828, 130.14578582556538, 82.84135888089733, 151.29502975769185, 82.24460389766728, 87.60774897785686, 157.2794808590646, 113.38991249592725, 96.0916766781383, 60.4280956530798, 120.5572024323619, 84.69131518600993, 88.3506353617272, 88.68850018109664, 73.01498791695933, 61.73144587992043, 66.30324206586306, 65.74194015425361, 132.99021285041988, 54.83909891993352, 55.216472892335574, 120.70555196014769, 114.93118515995573, 108.23240456040325, 90.45825741873284, 118.96431168569467, 86.34976596933255, 71.2509305318951, 106.93990379425588, 144.80873478670583, 116.96658879302065, 110.5541561912863, 104.196615732059, 109.30088020188299, 136.07197979177087, 80.47743613304316, 124.02063316248923, 98.96529307542032, 74.2994695442598, 69.19280597082759, 126.68159213638697, 76.69655516693902, 97.51797317682811, 124.2363419576949, 125.24835375243401, 103.91072979018858, 103.36414476153412, 100.99788532140019, 63.79884897998211, 80.03491516874055, 123.38796996989358, 86.57383574580747, 140.18071795911678, 109.49004492200632, 112.24356427332211, 108.20645460628687, 128.80664840271402], &#x27;episode_lengths&#x27;: [10, 10, 10, 10, 10, 10, 10, 10, 10, 10, 10, 10, 10, 10, 10, 10, 10, 10, 10, 10, 10, 10, 10, 10, 10, 10, 10, 10, 10, 10, 10, 10, 10, 10, 10, 10, 10, 10, 10, 10, 10, 10, 10, 10, 10, 10, 10, 10, 10, 10, 10, 10, 10, 10, 10, 10, 10, 10, 10, 10, 10, 10, 10, 10, 10, 10, 10, 10, 10, 10, 10, 10, 10, 10, 10, 10, 10, 10, 10, 10, 10, 10, 10, 10, 10, 10, 10, 10, 10, 10, 10, 10, 10, 10, 10, 10, 10, 10, 10, 10]}, &#x27;sampler_perf&#x27;: {&#x27;mean_raw_obs_processing_ms&#x27;: 0.7130061234389392, &#x27;mean_inference_ms&#x27;: 0.5007733355511678, &#x27;mean_action_processing_ms&#x27;: 0.020816728666231236, &#x27;mean_env_wait_ms&#x27;: 0.1484883296025264, &#x27;mean_env_render_ms&#x27;: 0.0}, &#x27;num_faulty_episodes&#x27;: 0}</td><td style=\"text-align: right;\">             1.47944</td><td style=\"text-align: right;\">           1.47944</td><td style=\"text-align: right;\">       1.47944</td><td>{&#x27;training_iteration_time_ms&#x27;: 5.674}</td><td style=\"text-align: right;\"> 1663349990</td><td style=\"text-align: right;\">                        0</td><td style=\"text-align: right;\">             1000</td><td style=\"text-align: right;\">                   1</td><td>8d513_00000</td><td style=\"text-align: right;\">    0.0365224</td></tr>\n",
       "</tbody>\n",
       "</table>\n",
       "</div>\n",
       "<style>\n",
       ".trialProgress {\n",
       "  display: flex;\n",
       "  flex-direction: column;\n",
       "  color: var(--jp-ui-font-color1);\n",
       "}\n",
       ".trialProgress h3 {\n",
       "  font-weight: bold;\n",
       "}\n",
       ".trialProgress td {\n",
       "  white-space: nowrap;\n",
       "}\n",
       "</style>\n"
      ],
      "text/plain": [
       "<IPython.core.display.HTML object>"
      ]
     },
     "metadata": {},
     "output_type": "display_data"
    },
    {
     "name": "stderr",
     "output_type": "stream",
     "text": [
      "2022-09-16 10:39:51,715\tINFO tune.py:762 -- Total run time: 6.92 seconds (6.20 seconds for the tuning loop).\n"
     ]
    }
   ],
   "source": [
    "\"\"\"\n",
    "Use tune.Tuner(\n",
    "    algo\n",
    "    param_space=..., \n",
    "    run_config=air.RunConfig(\n",
    "        local_dir='./rllib_notebook/offline_rl/bandits',\n",
    "        stop={'training_iteration': 1}\n",
    "    ))\n",
    "    tuner.fit()\n",
    "\"\"\"\n",
    "# TODO: Code here\n",
    "tuner = tune.Tuner(\n",
    "    DQN,\n",
    "    param_space=bandit_config.to_dict(),\n",
    "    run_config=air.RunConfig(\n",
    "        local_dir='./rllib_notebook/offline_rl/bandits',\n",
    "        stop={'training_iteration': 1}\n",
    "    )\n",
    ")\n",
    "\n",
    "result_bandit = tuner.fit()"
   ]
  },
  {
   "cell_type": "code",
   "execution_count": 21,
   "metadata": {},
   "outputs": [
    {
     "data": {
      "text/plain": [
       "<ray.tune.result_grid.ResultGrid at 0x287ca7c70>"
      ]
     },
     "execution_count": 21,
     "metadata": {},
     "output_type": "execute_result"
    }
   ],
   "source": [
    "result_bandit"
   ]
  },
  {
   "cell_type": "code",
   "execution_count": 22,
   "metadata": {},
   "outputs": [
    {
     "name": "stdout",
     "output_type": "stream",
     "text": [
      "Mean reward from training\n"
     ]
    },
    {
     "data": {
      "text/plain": [
       "98.66798976934584"
      ]
     },
     "execution_count": 22,
     "metadata": {},
     "output_type": "execute_result"
    }
   ],
   "source": [
    "print(\"Mean reward from training\")\n",
    "result_bandit[0].metrics['episode_reward_mean']"
   ]
  },
  {
   "cell_type": "markdown",
   "metadata": {},
   "source": [
    "Tune collects these results from every iteration and puts them in the output directory where the other logging artifcats are stored. \n",
    "\n",
    "**(Take home)** To run this experiment longer until it's trained you can run the following command to launch the bandit experiment:\n",
    "\n",
    "\n",
    "```bash\n",
    "python tutorial_scripts/run_online_rl.py --seed 0 --gamma 0.0 --exp_name bandits --timesteps 10_000\n",
    "```\n",
    "\n",
    "This script take 5 minutes to run. It will create experiment artifacts under `./results_scripts/` which includes the checkpoints as well as tensorboard and tabular logs. You can later inspect this folder to monitor your experiments.\n",
    "\n",
    "The suggested way is to use tensorboard to monitor the metrics of your run and look for `episode_reward_mean`.\n",
    "\n",
    "```bash\n",
    "tensorboard --logdir \"./results_scripts\"\n",
    "```\n",
    "\n"
   ]
  },
  {
   "cell_type": "code",
   "execution_count": 23,
   "metadata": {},
   "outputs": [
    {
     "data": {
      "text/html": [
       "<div>\n",
       "<style scoped>\n",
       "    .dataframe tbody tr th:only-of-type {\n",
       "        vertical-align: middle;\n",
       "    }\n",
       "\n",
       "    .dataframe tbody tr th {\n",
       "        vertical-align: top;\n",
       "    }\n",
       "\n",
       "    .dataframe thead th {\n",
       "        text-align: right;\n",
       "    }\n",
       "</style>\n",
       "<table border=\"1\" class=\"dataframe\">\n",
       "  <thead>\n",
       "    <tr style=\"text-align: right;\">\n",
       "      <th></th>\n",
       "      <th>num_recreated_workers</th>\n",
       "      <th>episode_reward_max</th>\n",
       "      <th>episode_reward_min</th>\n",
       "      <th>episode_reward_mean</th>\n",
       "      <th>episode_len_mean</th>\n",
       "      <th>episodes_this_iter</th>\n",
       "      <th>num_faulty_episodes</th>\n",
       "      <th>num_healthy_workers</th>\n",
       "      <th>num_agent_steps_sampled</th>\n",
       "      <th>num_agent_steps_trained</th>\n",
       "      <th>...</th>\n",
       "      <th>evaluation/sampler_perf/mean_action_processing_ms</th>\n",
       "      <th>evaluation/sampler_perf/mean_env_wait_ms</th>\n",
       "      <th>evaluation/sampler_perf/mean_env_render_ms</th>\n",
       "      <th>sampler_results/hist_stats/episode_reward</th>\n",
       "      <th>sampler_results/hist_stats/episode_lengths</th>\n",
       "      <th>sampler_results/sampler_perf/mean_raw_obs_processing_ms</th>\n",
       "      <th>sampler_results/sampler_perf/mean_inference_ms</th>\n",
       "      <th>sampler_results/sampler_perf/mean_action_processing_ms</th>\n",
       "      <th>sampler_results/sampler_perf/mean_env_wait_ms</th>\n",
       "      <th>sampler_results/sampler_perf/mean_env_render_ms</th>\n",
       "    </tr>\n",
       "  </thead>\n",
       "  <tbody>\n",
       "    <tr>\n",
       "      <th>0</th>\n",
       "      <td>0</td>\n",
       "      <td>148.857003</td>\n",
       "      <td>49.961654</td>\n",
       "      <td>98.497645</td>\n",
       "      <td>10.0</td>\n",
       "      <td>100</td>\n",
       "      <td>0</td>\n",
       "      <td>1</td>\n",
       "      <td>1000</td>\n",
       "      <td>0</td>\n",
       "      <td>...</td>\n",
       "      <td>0.066004</td>\n",
       "      <td>0.421863</td>\n",
       "      <td>0.0</td>\n",
       "      <td>[80.06783496345842, 94.55144237747402, 115.734...</td>\n",
       "      <td>[10, 10, 10, 10, 10, 10, 10, 10, 10, 10, 10, 1...</td>\n",
       "      <td>1.615976</td>\n",
       "      <td>1.926621</td>\n",
       "      <td>0.067211</td>\n",
       "      <td>0.413892</td>\n",
       "      <td>0.0</td>\n",
       "    </tr>\n",
       "    <tr>\n",
       "      <th>1</th>\n",
       "      <td>0</td>\n",
       "      <td>162.518395</td>\n",
       "      <td>49.026263</td>\n",
       "      <td>90.052531</td>\n",
       "      <td>10.0</td>\n",
       "      <td>100</td>\n",
       "      <td>0</td>\n",
       "      <td>1</td>\n",
       "      <td>2000</td>\n",
       "      <td>102400</td>\n",
       "      <td>...</td>\n",
       "      <td>0.063795</td>\n",
       "      <td>0.414642</td>\n",
       "      <td>0.0</td>\n",
       "      <td>[104.50434231044349, 90.13660176239118, 77.679...</td>\n",
       "      <td>[10, 10, 10, 10, 10, 10, 10, 10, 10, 10, 10, 1...</td>\n",
       "      <td>1.612668</td>\n",
       "      <td>1.907204</td>\n",
       "      <td>0.065739</td>\n",
       "      <td>0.413190</td>\n",
       "      <td>0.0</td>\n",
       "    </tr>\n",
       "    <tr>\n",
       "      <th>2</th>\n",
       "      <td>0</td>\n",
       "      <td>138.941288</td>\n",
       "      <td>47.053765</td>\n",
       "      <td>91.065332</td>\n",
       "      <td>10.0</td>\n",
       "      <td>100</td>\n",
       "      <td>0</td>\n",
       "      <td>1</td>\n",
       "      <td>3000</td>\n",
       "      <td>204800</td>\n",
       "      <td>...</td>\n",
       "      <td>0.064125</td>\n",
       "      <td>0.418105</td>\n",
       "      <td>0.0</td>\n",
       "      <td>[80.37757864952177, 83.4086883528945, 82.16280...</td>\n",
       "      <td>[10, 10, 10, 10, 10, 10, 10, 10, 10, 10, 10, 1...</td>\n",
       "      <td>1.622994</td>\n",
       "      <td>1.902245</td>\n",
       "      <td>0.065344</td>\n",
       "      <td>0.414438</td>\n",
       "      <td>0.0</td>\n",
       "    </tr>\n",
       "    <tr>\n",
       "      <th>3</th>\n",
       "      <td>0</td>\n",
       "      <td>140.064561</td>\n",
       "      <td>48.773252</td>\n",
       "      <td>84.834952</td>\n",
       "      <td>10.0</td>\n",
       "      <td>100</td>\n",
       "      <td>0</td>\n",
       "      <td>1</td>\n",
       "      <td>4000</td>\n",
       "      <td>307200</td>\n",
       "      <td>...</td>\n",
       "      <td>0.064455</td>\n",
       "      <td>0.420479</td>\n",
       "      <td>0.0</td>\n",
       "      <td>[74.22016887537853, 76.9675069259837, 62.41210...</td>\n",
       "      <td>[10, 10, 10, 10, 10, 10, 10, 10, 10, 10, 10, 1...</td>\n",
       "      <td>1.631680</td>\n",
       "      <td>1.913093</td>\n",
       "      <td>0.065588</td>\n",
       "      <td>0.417682</td>\n",
       "      <td>0.0</td>\n",
       "    </tr>\n",
       "    <tr>\n",
       "      <th>4</th>\n",
       "      <td>0</td>\n",
       "      <td>137.836997</td>\n",
       "      <td>45.018080</td>\n",
       "      <td>80.444693</td>\n",
       "      <td>10.0</td>\n",
       "      <td>100</td>\n",
       "      <td>0</td>\n",
       "      <td>1</td>\n",
       "      <td>5000</td>\n",
       "      <td>409600</td>\n",
       "      <td>...</td>\n",
       "      <td>0.064498</td>\n",
       "      <td>0.420735</td>\n",
       "      <td>0.0</td>\n",
       "      <td>[73.06394030113951, 115.4952494291228, 93.7637...</td>\n",
       "      <td>[10, 10, 10, 10, 10, 10, 10, 10, 10, 10, 10, 1...</td>\n",
       "      <td>1.638053</td>\n",
       "      <td>1.916961</td>\n",
       "      <td>0.065503</td>\n",
       "      <td>0.419723</td>\n",
       "      <td>0.0</td>\n",
       "    </tr>\n",
       "    <tr>\n",
       "      <th>...</th>\n",
       "      <td>...</td>\n",
       "      <td>...</td>\n",
       "      <td>...</td>\n",
       "      <td>...</td>\n",
       "      <td>...</td>\n",
       "      <td>...</td>\n",
       "      <td>...</td>\n",
       "      <td>...</td>\n",
       "      <td>...</td>\n",
       "      <td>...</td>\n",
       "      <td>...</td>\n",
       "      <td>...</td>\n",
       "      <td>...</td>\n",
       "      <td>...</td>\n",
       "      <td>...</td>\n",
       "      <td>...</td>\n",
       "      <td>...</td>\n",
       "      <td>...</td>\n",
       "      <td>...</td>\n",
       "      <td>...</td>\n",
       "      <td>...</td>\n",
       "    </tr>\n",
       "    <tr>\n",
       "      <th>661</th>\n",
       "      <td>0</td>\n",
       "      <td>77.308824</td>\n",
       "      <td>51.473253</td>\n",
       "      <td>57.409480</td>\n",
       "      <td>10.0</td>\n",
       "      <td>100</td>\n",
       "      <td>0</td>\n",
       "      <td>1</td>\n",
       "      <td>662000</td>\n",
       "      <td>67686400</td>\n",
       "      <td>...</td>\n",
       "      <td>0.069512</td>\n",
       "      <td>0.468326</td>\n",
       "      <td>0.0</td>\n",
       "      <td>[56.363397408474796, 56.472586083925, 55.73214...</td>\n",
       "      <td>[10, 10, 10, 10, 10, 10, 10, 10, 10, 10, 10, 1...</td>\n",
       "      <td>1.829190</td>\n",
       "      <td>2.020992</td>\n",
       "      <td>0.067000</td>\n",
       "      <td>0.455474</td>\n",
       "      <td>0.0</td>\n",
       "    </tr>\n",
       "    <tr>\n",
       "      <th>662</th>\n",
       "      <td>0</td>\n",
       "      <td>81.922776</td>\n",
       "      <td>51.625754</td>\n",
       "      <td>57.390007</td>\n",
       "      <td>10.0</td>\n",
       "      <td>100</td>\n",
       "      <td>0</td>\n",
       "      <td>1</td>\n",
       "      <td>663000</td>\n",
       "      <td>67788800</td>\n",
       "      <td>...</td>\n",
       "      <td>0.069526</td>\n",
       "      <td>0.468445</td>\n",
       "      <td>0.0</td>\n",
       "      <td>[58.08399044030793, 51.62575353461019, 55.3362...</td>\n",
       "      <td>[10, 10, 10, 10, 10, 10, 10, 10, 10, 10, 10, 1...</td>\n",
       "      <td>1.829310</td>\n",
       "      <td>2.021095</td>\n",
       "      <td>0.067001</td>\n",
       "      <td>0.455496</td>\n",
       "      <td>0.0</td>\n",
       "    </tr>\n",
       "    <tr>\n",
       "      <th>663</th>\n",
       "      <td>0</td>\n",
       "      <td>80.536429</td>\n",
       "      <td>52.074962</td>\n",
       "      <td>57.349532</td>\n",
       "      <td>10.0</td>\n",
       "      <td>100</td>\n",
       "      <td>0</td>\n",
       "      <td>1</td>\n",
       "      <td>664000</td>\n",
       "      <td>67891200</td>\n",
       "      <td>...</td>\n",
       "      <td>0.069528</td>\n",
       "      <td>0.468463</td>\n",
       "      <td>0.0</td>\n",
       "      <td>[57.05626052342183, 57.895075154772854, 55.034...</td>\n",
       "      <td>[10, 10, 10, 10, 10, 10, 10, 10, 10, 10, 10, 1...</td>\n",
       "      <td>1.829335</td>\n",
       "      <td>2.021136</td>\n",
       "      <td>0.067002</td>\n",
       "      <td>0.455504</td>\n",
       "      <td>0.0</td>\n",
       "    </tr>\n",
       "    <tr>\n",
       "      <th>664</th>\n",
       "      <td>0</td>\n",
       "      <td>80.235838</td>\n",
       "      <td>51.864473</td>\n",
       "      <td>57.193991</td>\n",
       "      <td>10.0</td>\n",
       "      <td>100</td>\n",
       "      <td>0</td>\n",
       "      <td>1</td>\n",
       "      <td>665000</td>\n",
       "      <td>67993600</td>\n",
       "      <td>...</td>\n",
       "      <td>0.069530</td>\n",
       "      <td>0.468486</td>\n",
       "      <td>0.0</td>\n",
       "      <td>[56.17971936322728, 57.32259647211729, 63.9087...</td>\n",
       "      <td>[10, 10, 10, 10, 10, 10, 10, 10, 10, 10, 10, 1...</td>\n",
       "      <td>1.829405</td>\n",
       "      <td>2.021226</td>\n",
       "      <td>0.067003</td>\n",
       "      <td>0.455530</td>\n",
       "      <td>0.0</td>\n",
       "    </tr>\n",
       "    <tr>\n",
       "      <th>665</th>\n",
       "      <td>0</td>\n",
       "      <td>80.427360</td>\n",
       "      <td>49.259737</td>\n",
       "      <td>56.954195</td>\n",
       "      <td>10.0</td>\n",
       "      <td>100</td>\n",
       "      <td>0</td>\n",
       "      <td>1</td>\n",
       "      <td>666000</td>\n",
       "      <td>68096000</td>\n",
       "      <td>...</td>\n",
       "      <td>0.069537</td>\n",
       "      <td>0.468537</td>\n",
       "      <td>0.0</td>\n",
       "      <td>[58.24048331821, 56.8272174196875, 57.13431301...</td>\n",
       "      <td>[10, 10, 10, 10, 10, 10, 10, 10, 10, 10, 10, 1...</td>\n",
       "      <td>1.829395</td>\n",
       "      <td>2.021243</td>\n",
       "      <td>0.067003</td>\n",
       "      <td>0.455528</td>\n",
       "      <td>0.0</td>\n",
       "    </tr>\n",
       "  </tbody>\n",
       "</table>\n",
       "<p>666 rows × 82 columns</p>\n",
       "</div>"
      ],
      "text/plain": [
       "     num_recreated_workers  episode_reward_max  episode_reward_min  \\\n",
       "0                        0          148.857003           49.961654   \n",
       "1                        0          162.518395           49.026263   \n",
       "2                        0          138.941288           47.053765   \n",
       "3                        0          140.064561           48.773252   \n",
       "4                        0          137.836997           45.018080   \n",
       "..                     ...                 ...                 ...   \n",
       "661                      0           77.308824           51.473253   \n",
       "662                      0           81.922776           51.625754   \n",
       "663                      0           80.536429           52.074962   \n",
       "664                      0           80.235838           51.864473   \n",
       "665                      0           80.427360           49.259737   \n",
       "\n",
       "     episode_reward_mean  episode_len_mean  episodes_this_iter  \\\n",
       "0              98.497645              10.0                 100   \n",
       "1              90.052531              10.0                 100   \n",
       "2              91.065332              10.0                 100   \n",
       "3              84.834952              10.0                 100   \n",
       "4              80.444693              10.0                 100   \n",
       "..                   ...               ...                 ...   \n",
       "661            57.409480              10.0                 100   \n",
       "662            57.390007              10.0                 100   \n",
       "663            57.349532              10.0                 100   \n",
       "664            57.193991              10.0                 100   \n",
       "665            56.954195              10.0                 100   \n",
       "\n",
       "     num_faulty_episodes  num_healthy_workers  num_agent_steps_sampled  \\\n",
       "0                      0                    1                     1000   \n",
       "1                      0                    1                     2000   \n",
       "2                      0                    1                     3000   \n",
       "3                      0                    1                     4000   \n",
       "4                      0                    1                     5000   \n",
       "..                   ...                  ...                      ...   \n",
       "661                    0                    1                   662000   \n",
       "662                    0                    1                   663000   \n",
       "663                    0                    1                   664000   \n",
       "664                    0                    1                   665000   \n",
       "665                    0                    1                   666000   \n",
       "\n",
       "     num_agent_steps_trained  ...  \\\n",
       "0                          0  ...   \n",
       "1                     102400  ...   \n",
       "2                     204800  ...   \n",
       "3                     307200  ...   \n",
       "4                     409600  ...   \n",
       "..                       ...  ...   \n",
       "661                 67686400  ...   \n",
       "662                 67788800  ...   \n",
       "663                 67891200  ...   \n",
       "664                 67993600  ...   \n",
       "665                 68096000  ...   \n",
       "\n",
       "     evaluation/sampler_perf/mean_action_processing_ms  \\\n",
       "0                                             0.066004   \n",
       "1                                             0.063795   \n",
       "2                                             0.064125   \n",
       "3                                             0.064455   \n",
       "4                                             0.064498   \n",
       "..                                                 ...   \n",
       "661                                           0.069512   \n",
       "662                                           0.069526   \n",
       "663                                           0.069528   \n",
       "664                                           0.069530   \n",
       "665                                           0.069537   \n",
       "\n",
       "     evaluation/sampler_perf/mean_env_wait_ms  \\\n",
       "0                                    0.421863   \n",
       "1                                    0.414642   \n",
       "2                                    0.418105   \n",
       "3                                    0.420479   \n",
       "4                                    0.420735   \n",
       "..                                        ...   \n",
       "661                                  0.468326   \n",
       "662                                  0.468445   \n",
       "663                                  0.468463   \n",
       "664                                  0.468486   \n",
       "665                                  0.468537   \n",
       "\n",
       "     evaluation/sampler_perf/mean_env_render_ms  \\\n",
       "0                                           0.0   \n",
       "1                                           0.0   \n",
       "2                                           0.0   \n",
       "3                                           0.0   \n",
       "4                                           0.0   \n",
       "..                                          ...   \n",
       "661                                         0.0   \n",
       "662                                         0.0   \n",
       "663                                         0.0   \n",
       "664                                         0.0   \n",
       "665                                         0.0   \n",
       "\n",
       "             sampler_results/hist_stats/episode_reward  \\\n",
       "0    [80.06783496345842, 94.55144237747402, 115.734...   \n",
       "1    [104.50434231044349, 90.13660176239118, 77.679...   \n",
       "2    [80.37757864952177, 83.4086883528945, 82.16280...   \n",
       "3    [74.22016887537853, 76.9675069259837, 62.41210...   \n",
       "4    [73.06394030113951, 115.4952494291228, 93.7637...   \n",
       "..                                                 ...   \n",
       "661  [56.363397408474796, 56.472586083925, 55.73214...   \n",
       "662  [58.08399044030793, 51.62575353461019, 55.3362...   \n",
       "663  [57.05626052342183, 57.895075154772854, 55.034...   \n",
       "664  [56.17971936322728, 57.32259647211729, 63.9087...   \n",
       "665  [58.24048331821, 56.8272174196875, 57.13431301...   \n",
       "\n",
       "            sampler_results/hist_stats/episode_lengths  \\\n",
       "0    [10, 10, 10, 10, 10, 10, 10, 10, 10, 10, 10, 1...   \n",
       "1    [10, 10, 10, 10, 10, 10, 10, 10, 10, 10, 10, 1...   \n",
       "2    [10, 10, 10, 10, 10, 10, 10, 10, 10, 10, 10, 1...   \n",
       "3    [10, 10, 10, 10, 10, 10, 10, 10, 10, 10, 10, 1...   \n",
       "4    [10, 10, 10, 10, 10, 10, 10, 10, 10, 10, 10, 1...   \n",
       "..                                                 ...   \n",
       "661  [10, 10, 10, 10, 10, 10, 10, 10, 10, 10, 10, 1...   \n",
       "662  [10, 10, 10, 10, 10, 10, 10, 10, 10, 10, 10, 1...   \n",
       "663  [10, 10, 10, 10, 10, 10, 10, 10, 10, 10, 10, 1...   \n",
       "664  [10, 10, 10, 10, 10, 10, 10, 10, 10, 10, 10, 1...   \n",
       "665  [10, 10, 10, 10, 10, 10, 10, 10, 10, 10, 10, 1...   \n",
       "\n",
       "     sampler_results/sampler_perf/mean_raw_obs_processing_ms  \\\n",
       "0                                             1.615976         \n",
       "1                                             1.612668         \n",
       "2                                             1.622994         \n",
       "3                                             1.631680         \n",
       "4                                             1.638053         \n",
       "..                                                 ...         \n",
       "661                                           1.829190         \n",
       "662                                           1.829310         \n",
       "663                                           1.829335         \n",
       "664                                           1.829405         \n",
       "665                                           1.829395         \n",
       "\n",
       "     sampler_results/sampler_perf/mean_inference_ms  \\\n",
       "0                                          1.926621   \n",
       "1                                          1.907204   \n",
       "2                                          1.902245   \n",
       "3                                          1.913093   \n",
       "4                                          1.916961   \n",
       "..                                              ...   \n",
       "661                                        2.020992   \n",
       "662                                        2.021095   \n",
       "663                                        2.021136   \n",
       "664                                        2.021226   \n",
       "665                                        2.021243   \n",
       "\n",
       "     sampler_results/sampler_perf/mean_action_processing_ms  \\\n",
       "0                                             0.067211        \n",
       "1                                             0.065739        \n",
       "2                                             0.065344        \n",
       "3                                             0.065588        \n",
       "4                                             0.065503        \n",
       "..                                                 ...        \n",
       "661                                           0.067000        \n",
       "662                                           0.067001        \n",
       "663                                           0.067002        \n",
       "664                                           0.067003        \n",
       "665                                           0.067003        \n",
       "\n",
       "     sampler_results/sampler_perf/mean_env_wait_ms  \\\n",
       "0                                         0.413892   \n",
       "1                                         0.413190   \n",
       "2                                         0.414438   \n",
       "3                                         0.417682   \n",
       "4                                         0.419723   \n",
       "..                                             ...   \n",
       "661                                       0.455474   \n",
       "662                                       0.455496   \n",
       "663                                       0.455504   \n",
       "664                                       0.455530   \n",
       "665                                       0.455528   \n",
       "\n",
       "     sampler_results/sampler_perf/mean_env_render_ms  \n",
       "0                                                0.0  \n",
       "1                                                0.0  \n",
       "2                                                0.0  \n",
       "3                                                0.0  \n",
       "4                                                0.0  \n",
       "..                                               ...  \n",
       "661                                              0.0  \n",
       "662                                              0.0  \n",
       "663                                              0.0  \n",
       "664                                              0.0  \n",
       "665                                              0.0  \n",
       "\n",
       "[666 rows x 82 columns]"
      ]
     },
     "execution_count": 23,
     "metadata": {},
     "output_type": "execute_result"
    }
   ],
   "source": [
    "# load the trained results and plot the metrics in notebook\n",
    "import pandas as pd\n",
    "\n",
    "# Load the results from the progress.csv in the result folder of your running script\n",
    "df = pd.read_csv(\"saved_runs/bandits/progress.csv\")\n",
    "df"
   ]
  },
  {
   "cell_type": "code",
   "execution_count": 24,
   "metadata": {},
   "outputs": [
    {
     "data": {
      "text/plain": [
       "Text(0.5, 1.0, 'Bandits training performance')"
      ]
     },
     "execution_count": 24,
     "metadata": {},
     "output_type": "execute_result"
    },
    {
     "data": {
      "image/png": "[encoded data removed]",
      "text/plain": [
       "<Figure size 432x288 with 1 Axes>"
      ]
     },
     "metadata": {
      "needs_background": "light"
     },
     "output_type": "display_data"
    }
   ],
   "source": [
    "sns.lineplot(data=df, x=\"training_iteration\", y=\"episode_reward_mean\", label=\"bandits\")\n",
    "plt.axhline(sweetest_baseline, color=\"red\", linestyle='--', label=\"sweetest baseline\")\n",
    "plt.axhline(random_baseline, color=\"k\", linestyle='--', label=\"random baseline\")\n",
    "\n",
    "plt.legend()\n",
    "plt.title('Bandits training performance')"
   ]
  },
  {
   "cell_type": "markdown",
   "metadata": {},
   "source": [
    "## Compare the Bandit Training results to Baseline\n",
    "- Bandit Mean Reward=~56 \n",
    "- Kaleist (Argmin) Baseline Mean Reward = ~10.87+/-0.26\n",
    "- Random Baseline Mean Reward = ~99.90+/-23.75\n",
    "- Sweetest (Argmax) Baseline Mean Reward = ~56.56+/-1.37\n",
    "\n",
    "<div class=\"alert alert-block alert-success\">\n",
    "    🤔  <b>Bandit mean reward is approx the same as the sweetest baseline!</b> \n",
    "</div>  \n",
    "\n",
    "Try the code block below to compare what the bandit recommends with what is the sweetest item... you will see that the bandit always recommends the sweetest item!"
   ]
  },
  {
   "cell_type": "code",
   "execution_count": 25,
   "metadata": {},
   "outputs": [],
   "source": [
    "# build the algorithm and load from checkpoint\n",
    "with open(\"saved_runs/bandits/params.pkl\", 'rb') as f:\n",
    "    params = pickle.load(f)"
   ]
  },
  {
   "cell_type": "code",
   "execution_count": 26,
   "metadata": {},
   "outputs": [
    {
     "name": "stderr",
     "output_type": "stream",
     "text": [
      "2022-09-16 10:39:52,332\tWARNING deprecation.py:47 -- DeprecationWarning: `ray.rllib.algorithms.dqn.dqn.DEFAULT_CONFIG` has been deprecated. Use `ray.rllib.algorithms.dqn.dqn.DQNConfig(...)` instead. This will raise an error in the future!\n",
      "2022-09-16 10:39:52,334\tWARNING algorithm.py:2325 -- `evaluation_parallel_to_training` can only be done if `evaluation_num_workers` > 0! Setting `evaluation_parallel_to_training` to False.\n",
      "2022-09-16 10:39:52,335\tWARNING deprecation.py:47 -- DeprecationWarning: `config['multiagent']['replay_mode']` has been deprecated. config['replay_buffer_config']['replay_mode'] This will raise an error in the future!\n",
      "2022-09-16 10:39:52,336\tINFO simple_q.py:303 -- In multi-agent mode, policies will be optimized sequentially by the multi-GPU optimizer. Consider setting `simple_optimizer=True` if this doesn't work for you.\n",
      "2022-09-16 10:39:52,338\tINFO algorithm.py:357 -- Current log_level is ERROR. For more information, set 'log_level': 'INFO' / 'DEBUG' or use the -v and -vv flags.\n",
      "/Users/kourosh/dev/workspace-project-gpu-workspace-kh/python/ray/_private/ray_option_utils.py:284: DeprecationWarning: Setting 'object_store_memory' for actors is deprecated since it doesn't actually reserve the required object store memory. Use object spilling that's enabled by default (https://docs.ray.io/en/master/ray-core/objects/object-spilling.html) instead to bypass the object store memory size limitation.\n",
      "  warnings.warn(\n",
      "\u001b[2m\u001b[36m(pid=65092)\u001b[0m /opt/homebrew/Caskroom/miniforge/base/envs/ray/lib/python3.8/site-packages/tensorflow/core/framework/tensor_shape_pb2.py:18: DeprecationWarning: Call to deprecated create function FileDescriptor(). Note: Create unlinked descriptors is going to go away. Please use get/find descriptors from generated code or query the descriptor_pool.\n",
      "\u001b[2m\u001b[36m(pid=65092)\u001b[0m   DESCRIPTOR = _descriptor.FileDescriptor(\n",
      "\u001b[2m\u001b[36m(pid=65092)\u001b[0m /opt/homebrew/Caskroom/miniforge/base/envs/ray/lib/python3.8/site-packages/tensorflow/core/framework/tensor_shape_pb2.py:36: DeprecationWarning: Call to deprecated create function FieldDescriptor(). Note: Create unlinked descriptors is going to go away. Please use get/find descriptors from generated code or query the descriptor_pool.\n",
      "\u001b[2m\u001b[36m(pid=65092)\u001b[0m   _descriptor.FieldDescriptor(\n",
      "\u001b[2m\u001b[36m(pid=65092)\u001b[0m /opt/homebrew/Caskroom/miniforge/base/envs/ray/lib/python3.8/site-packages/tensorflow/core/framework/tensor_shape_pb2.py:29: DeprecationWarning: Call to deprecated create function Descriptor(). Note: Create unlinked descriptors is going to go away. Please use get/find descriptors from generated code or query the descriptor_pool.\n",
      "\u001b[2m\u001b[36m(pid=65092)\u001b[0m   _TENSORSHAPEPROTO_DIM = _descriptor.Descriptor(\n",
      "\u001b[2m\u001b[36m(pid=65092)\u001b[0m /opt/homebrew/Caskroom/miniforge/base/envs/ray/lib/python3.8/site-packages/tensorflow/core/framework/types_pb2.py:19: DeprecationWarning: Call to deprecated create function FileDescriptor(). Note: Create unlinked descriptors is going to go away. Please use get/find descriptors from generated code or query the descriptor_pool.\n",
      "\u001b[2m\u001b[36m(pid=65092)\u001b[0m   DESCRIPTOR = _descriptor.FileDescriptor(\n",
      "\u001b[2m\u001b[36m(pid=65092)\u001b[0m /opt/homebrew/Caskroom/miniforge/base/envs/ray/lib/python3.8/site-packages/tensorflow/core/framework/types_pb2.py:33: DeprecationWarning: Call to deprecated create function EnumValueDescriptor(). Note: Create unlinked descriptors is going to go away. Please use get/find descriptors from generated code or query the descriptor_pool.\n",
      "\u001b[2m\u001b[36m(pid=65092)\u001b[0m   _descriptor.EnumValueDescriptor(\n",
      "\u001b[2m\u001b[36m(pid=65092)\u001b[0m /opt/homebrew/Caskroom/miniforge/base/envs/ray/lib/python3.8/site-packages/tensorflow/core/framework/types_pb2.py:27: DeprecationWarning: Call to deprecated create function EnumDescriptor(). Note: Create unlinked descriptors is going to go away. Please use get/find descriptors from generated code or query the descriptor_pool.\n",
      "\u001b[2m\u001b[36m(pid=65092)\u001b[0m   _DATATYPE = _descriptor.EnumDescriptor(\n",
      "\u001b[2m\u001b[36m(pid=65092)\u001b[0m /opt/homebrew/Caskroom/miniforge/base/envs/ray/lib/python3.8/site-packages/tensorflow/core/framework/resource_handle_pb2.py:20: DeprecationWarning: Call to deprecated create function FileDescriptor(). Note: Create unlinked descriptors is going to go away. Please use get/find descriptors from generated code or query the descriptor_pool.\n",
      "\u001b[2m\u001b[36m(pid=65092)\u001b[0m   DESCRIPTOR = _descriptor.FileDescriptor(\n",
      "\u001b[2m\u001b[36m(pid=65092)\u001b[0m /opt/homebrew/Caskroom/miniforge/base/envs/ray/lib/python3.8/site-packages/tensorflow/core/framework/resource_handle_pb2.py:39: DeprecationWarning: Call to deprecated create function FieldDescriptor(). Note: Create unlinked descriptors is going to go away. Please use get/find descriptors from generated code or query the descriptor_pool.\n",
      "\u001b[2m\u001b[36m(pid=65092)\u001b[0m   _descriptor.FieldDescriptor(\n",
      "\u001b[2m\u001b[36m(pid=65092)\u001b[0m /opt/homebrew/Caskroom/miniforge/base/envs/ray/lib/python3.8/site-packages/tensorflow/core/framework/resource_handle_pb2.py:32: DeprecationWarning: Call to deprecated create function Descriptor(). Note: Create unlinked descriptors is going to go away. Please use get/find descriptors from generated code or query the descriptor_pool.\n",
      "\u001b[2m\u001b[36m(pid=65092)\u001b[0m   _RESOURCEHANDLEPROTO_DTYPEANDSHAPE = _descriptor.Descriptor(\n",
      "\u001b[2m\u001b[36m(pid=65092)\u001b[0m /opt/homebrew/Caskroom/miniforge/base/envs/ray/lib/python3.8/site-packages/tensorflow/core/framework/tensor_pb2.py:21: DeprecationWarning: Call to deprecated create function FileDescriptor(). Note: Create unlinked descriptors is going to go away. Please use get/find descriptors from generated code or query the descriptor_pool.\n",
      "\u001b[2m\u001b[36m(pid=65092)\u001b[0m   DESCRIPTOR = _descriptor.FileDescriptor(\n",
      "\u001b[2m\u001b[36m(pid=65092)\u001b[0m /opt/homebrew/Caskroom/miniforge/base/envs/ray/lib/python3.8/site-packages/tensorflow/core/framework/tensor_pb2.py:40: DeprecationWarning: Call to deprecated create function FieldDescriptor(). Note: Create unlinked descriptors is going to go away. Please use get/find descriptors from generated code or query the descriptor_pool.\n",
      "\u001b[2m\u001b[36m(pid=65092)\u001b[0m   _descriptor.FieldDescriptor(\n",
      "\u001b[2m\u001b[36m(pid=65092)\u001b[0m /opt/homebrew/Caskroom/miniforge/base/envs/ray/lib/python3.8/site-packages/tensorflow/core/framework/tensor_pb2.py:33: DeprecationWarning: Call to deprecated create function Descriptor(). Note: Create unlinked descriptors is going to go away. Please use get/find descriptors from generated code or query the descriptor_pool.\n",
      "\u001b[2m\u001b[36m(pid=65092)\u001b[0m   _TENSORPROTO = _descriptor.Descriptor(\n",
      "\u001b[2m\u001b[36m(pid=65092)\u001b[0m /opt/homebrew/Caskroom/miniforge/base/envs/ray/lib/python3.8/site-packages/tensorflow/core/framework/attr_value_pb2.py:21: DeprecationWarning: Call to deprecated create function FileDescriptor(). Note: Create unlinked descriptors is going to go away. Please use get/find descriptors from generated code or query the descriptor_pool.\n",
      "\u001b[2m\u001b[36m(pid=65092)\u001b[0m   DESCRIPTOR = _descriptor.FileDescriptor(\n",
      "\u001b[2m\u001b[36m(pid=65092)\u001b[0m /opt/homebrew/Caskroom/miniforge/base/envs/ray/lib/python3.8/site-packages/tensorflow/core/framework/attr_value_pb2.py:40: DeprecationWarning: Call to deprecated create function FieldDescriptor(). Note: Create unlinked descriptors is going to go away. Please use get/find descriptors from generated code or query the descriptor_pool.\n",
      "\u001b[2m\u001b[36m(pid=65092)\u001b[0m   _descriptor.FieldDescriptor(\n",
      "\u001b[2m\u001b[36m(pid=65092)\u001b[0m /opt/homebrew/Caskroom/miniforge/base/envs/ray/lib/python3.8/site-packages/tensorflow/core/framework/attr_value_pb2.py:33: DeprecationWarning: Call to deprecated create function Descriptor(). Note: Create unlinked descriptors is going to go away. Please use get/find descriptors from generated code or query the descriptor_pool.\n",
      "\u001b[2m\u001b[36m(pid=65092)\u001b[0m   _ATTRVALUE_LISTVALUE = _descriptor.Descriptor(\n",
      "\u001b[2m\u001b[36m(pid=65092)\u001b[0m /opt/homebrew/Caskroom/miniforge/base/envs/ray/lib/python3.8/site-packages/flatbuffers/compat.py:19: DeprecationWarning: the imp module is deprecated in favour of importlib; see the module's documentation for alternative uses\n",
      "\u001b[2m\u001b[36m(pid=65092)\u001b[0m   import imp\n",
      "\u001b[2m\u001b[36m(pid=65092)\u001b[0m /opt/homebrew/Caskroom/miniforge/base/envs/ray/lib/python3.8/site-packages/keras/utils/image_utils.py:36: DeprecationWarning: NEAREST is deprecated and will be removed in Pillow 10 (2023-07-01). Use Resampling.NEAREST or Dither.NONE instead.\n",
      "\u001b[2m\u001b[36m(pid=65092)\u001b[0m   'nearest': pil_image.NEAREST,\n",
      "\u001b[2m\u001b[36m(pid=65092)\u001b[0m /opt/homebrew/Caskroom/miniforge/base/envs/ray/lib/python3.8/site-packages/keras/utils/image_utils.py:37: DeprecationWarning: BILINEAR is deprecated and will be removed in Pillow 10 (2023-07-01). Use Resampling.BILINEAR instead.\n",
      "\u001b[2m\u001b[36m(pid=65092)\u001b[0m   'bilinear': pil_image.BILINEAR,\n",
      "\u001b[2m\u001b[36m(pid=65092)\u001b[0m /opt/homebrew/Caskroom/miniforge/base/envs/ray/lib/python3.8/site-packages/keras/utils/image_utils.py:38: DeprecationWarning: BICUBIC is deprecated and will be removed in Pillow 10 (2023-07-01). Use Resampling.BICUBIC instead.\n",
      "\u001b[2m\u001b[36m(pid=65092)\u001b[0m   'bicubic': pil_image.BICUBIC,\n",
      "\u001b[2m\u001b[36m(pid=65092)\u001b[0m /opt/homebrew/Caskroom/miniforge/base/envs/ray/lib/python3.8/site-packages/keras/utils/image_utils.py:39: DeprecationWarning: HAMMING is deprecated and will be removed in Pillow 10 (2023-07-01). Use Resampling.HAMMING instead.\n",
      "\u001b[2m\u001b[36m(pid=65092)\u001b[0m   'hamming': pil_image.HAMMING,\n",
      "\u001b[2m\u001b[36m(pid=65092)\u001b[0m /opt/homebrew/Caskroom/miniforge/base/envs/ray/lib/python3.8/site-packages/keras/utils/image_utils.py:40: DeprecationWarning: BOX is deprecated and will be removed in Pillow 10 (2023-07-01). Use Resampling.BOX instead.\n",
      "\u001b[2m\u001b[36m(pid=65092)\u001b[0m   'box': pil_image.BOX,\n",
      "\u001b[2m\u001b[36m(pid=65092)\u001b[0m /opt/homebrew/Caskroom/miniforge/base/envs/ray/lib/python3.8/site-packages/keras/utils/image_utils.py:41: DeprecationWarning: LANCZOS is deprecated and will be removed in Pillow 10 (2023-07-01). Use Resampling.LANCZOS instead.\n",
      "\u001b[2m\u001b[36m(pid=65092)\u001b[0m   'lanczos': pil_image.LANCZOS,\n",
      "\u001b[2m\u001b[36m(pid=65092)\u001b[0m /opt/homebrew/Caskroom/miniforge/base/envs/ray/lib/python3.8/site-packages/tensorflow_probability/python/__init__.py:61: DeprecationWarning: distutils Version classes are deprecated. Use packaging.version instead.\n",
      "\u001b[2m\u001b[36m(pid=65092)\u001b[0m   if (distutils.version.LooseVersion(tf.__version__) <\n",
      "\u001b[2m\u001b[36m(pid=65092)\u001b[0m WARNING:tensorflow:From /opt/homebrew/Caskroom/miniforge/base/envs/ray/lib/python3.8/site-packages/tensorflow/python/util/deprecation.py:561: calling function (from tensorflow.python.eager.def_function) with experimental_relax_shapes is deprecated and will be removed in a future version.\n",
      "\u001b[2m\u001b[36m(pid=65092)\u001b[0m Instructions for updating:\n",
      "\u001b[2m\u001b[36m(pid=65092)\u001b[0m experimental_relax_shapes is deprecated, use reduce_retracing instead\n",
      "\u001b[2m\u001b[36m(RolloutWorker pid=65092)\u001b[0m /opt/homebrew/Caskroom/miniforge/base/envs/ray/lib/python3.8/site-packages/gin/tf/__init__.py:48: DeprecationWarning: distutils Version classes are deprecated. Use packaging.version instead.\n",
      "\u001b[2m\u001b[36m(RolloutWorker pid=65092)\u001b[0m   if (distutils.version.LooseVersion(tf.__version__) <\n",
      "2022-09-16 10:39:56,286\tWARNING util.py:66 -- Install gputil for GPU system monitoring.\n"
     ]
    },
    {
     "data": {
      "text/plain": [
       "DQN"
      ]
     },
     "execution_count": 26,
     "metadata": {},
     "output_type": "execute_result"
    }
   ],
   "source": [
    "bandit_algo = DQN(params)\n",
    "bandit_algo"
   ]
  },
  {
   "cell_type": "code",
   "execution_count": 27,
   "metadata": {},
   "outputs": [
    {
     "name": "stderr",
     "output_type": "stream",
     "text": [
      "2022-09-16 10:39:56,403\tINFO trainable.py:691 -- Restored on 127.0.0.1 from checkpoint: saved_runs/bandits/checkpoint_000666\n",
      "2022-09-16 10:39:56,404\tINFO trainable.py:700 -- Current state after restoring: {'_iteration': 666, '_timesteps_total': None, '_time_total': 53552.765288591385, '_episodes_total': 66600}\n"
     ]
    }
   ],
   "source": [
    "# Load the checkpoint from the result folder of your running script\n",
    "checkpoint = \"saved_runs/bandits/checkpoint_000666\"\n",
    "bandit_algo.restore(checkpoint)"
   ]
  },
  {
   "cell_type": "code",
   "execution_count": 28,
   "metadata": {},
   "outputs": [
    {
     "name": "stdout",
     "output_type": "stream",
     "text": [
      "--------------------------------------------------\n",
      "observation_features:  [0.99572366 0.15983172 0.8922959  0.15610583 0.8236549  0.12798421\n",
      " 0.8286707  0.18893379 0.90436965 0.08293239 0.8529111  0.15484674\n",
      " 0.89123005 0.11368679 0.80375797 0.1235271  0.92241913 0.1233868\n",
      " 0.9887496  0.13636406]\n",
      "bandit's feature value=[0.99572366]; argmax feature=[0.99572366];\n",
      "--------------------------------------------------\n",
      "observation_features:  [0.8719016  0.08740639 0.93952626 0.01204509 0.93335336 0.13412757\n",
      " 0.84207654 0.02578526 0.8630857  0.07274216 0.9140394  0.0877203\n",
      " 0.99767476 0.02040896 0.84177536 0.0322619  0.9306217  0.05065832\n",
      " 0.89326215 0.04888512]\n",
      "bandit's feature value=[0.99767476]; argmax feature=[0.99767476];\n",
      "--------------------------------------------------\n",
      "observation_features:  [0.8317939  0.02207503 0.9312659  0.02763659 0.8393165  0.07374503\n",
      " 0.96419865 0.01942025 0.96758896 0.01921968 0.9952919  0.09373024\n",
      " 0.9953522  0.1209691  0.94785273 0.00783756 0.85656136 0.02403931\n",
      " 0.859228   0.02374554]\n",
      "bandit's feature value=[0.9953522]; argmax feature=[0.9953522];\n",
      "--------------------------------------------------\n",
      "observation_features:  [8.6359662e-01 8.2852602e-02 8.1282949e-01 1.3849442e-01 9.1332030e-01\n",
      " 5.3077899e-02 9.0464962e-01 1.8788103e-02 9.1518933e-01 1.8585923e-01\n",
      " 8.6371380e-01 1.3348207e-01 8.2635957e-01 1.4326544e-01 8.5788125e-01\n",
      " 3.6638271e-02 9.1730261e-01 4.0215091e-03 9.6578801e-01 9.3909522e-04]\n",
      "bandit's feature value=[0.9046496]; argmax feature=[0.965788];\n",
      "--------------------------------------------------\n",
      "observation_features:  [0.9355633  0.0540016  0.9470388  0.19243771 0.84975064 0.11523147\n",
      " 0.9184084  0.11445038 0.84461635 0.1905498  0.8894251  0.16928174\n",
      " 0.93989587 0.05948739 0.96275955 0.07930115 0.97622067 0.11625458\n",
      " 0.9763471  0.13850632]\n",
      "bandit's feature value=[0.9763471]; argmax feature=[0.9763471];\n",
      "--------------------------------------------------\n",
      "observation_features:  [0.94505084 0.10026488 0.9912167  0.12879804 0.884771   0.12127864\n",
      " 0.8038386  0.06031496 0.93203473 0.05801552 0.92360306 0.08575374\n",
      " 0.8270948  0.05965646 0.913993   0.11817455 0.9148651  0.13064016\n",
      " 0.93042064 0.08628368]\n",
      "bandit's feature value=[0.9912167]; argmax feature=[0.9912167];\n",
      "--------------------------------------------------\n",
      "observation_features:  [0.9793093  0.07351238 0.887173   0.17838468 0.9612388  0.14077772\n",
      " 0.82004535 0.18389653 0.94284827 0.19976941 0.82988966 0.17362522\n",
      " 0.8324986  0.12311191 0.824764   0.16960165 0.9614638  0.11382015\n",
      " 0.88143665 0.0138334 ]\n",
      "bandit's feature value=[0.9793093]; argmax feature=[0.9793093];\n",
      "--------------------------------------------------\n",
      "observation_features:  [0.9394857  0.09070854 0.9444111  0.17327647 0.9951043  0.17116067\n",
      " 0.80234283 0.07199562 0.94599813 0.03432593 0.90420735 0.0108676\n",
      " 0.8399993  0.00370436 0.9587395  0.04478494 0.86907035 0.18561625\n",
      " 0.94088286 0.00636779]\n",
      "bandit's feature value=[0.9951043]; argmax feature=[0.9951043];\n",
      "--------------------------------------------------\n",
      "observation_features:  [0.83293885 0.12429568 0.91544574 0.04757857 0.9868428  0.12279319\n",
      " 0.90712655 0.11798199 0.9460244  0.062389   0.8796442  0.04196875\n",
      " 0.8372386  0.18887448 0.94791013 0.09809176 0.84548295 0.0508713\n",
      " 0.8116058  0.08688332]\n",
      "bandit's feature value=[0.9868428]; argmax feature=[0.9868428];\n",
      "--------------------------------------------------\n",
      "observation_features:  [0.86235917 0.1392687  0.8755504  0.03592074 0.80493575 0.01344993\n",
      " 0.9358786  0.09073937 0.90731585 0.17933425 0.9980678  0.0433794\n",
      " 0.93261564 0.05266447 0.8041302  0.15167573 0.8640034  0.07669278\n",
      " 0.9176634  0.1662097 ]\n",
      "bandit's feature value=[0.9980678]; argmax feature=[0.9980678];\n"
     ]
    }
   ],
   "source": [
    "env = ModifiedLongTermSatisfactionRecSimEnv()\n",
    "obs = env.reset()\n",
    "\n",
    "# Run a single episode.\n",
    "done = False\n",
    "while not done:\n",
    "    # use `compute_single_action` method of our Trainer.\n",
    "    # This is one way to perform inference on a learned policy.\n",
    "    bandit_action = bandit_algo.compute_single_action(obs) # TODO: Code here\n",
    "    argmax_action = int(max(obs['doc'], key=lambda x: obs['doc'][x]))\n",
    "\n",
    "    feature_value_of_bandit = obs[\"doc\"][str(bandit_action)]\n",
    "    feature_value_of_greedy = obs[\"doc\"][str(argmax_action)]\n",
    "\n",
    "\n",
    "    # Print out the picked document's feature value and compare that to the highest possible feature value.\n",
    "    print(\"-\"*50)\n",
    "    print(\"observation_features: \", np.concatenate(list(obs[\"doc\"].values())))\n",
    "    print(f\"bandit's feature value={feature_value_of_bandit}; argmax feature={feature_value_of_greedy};\")\n",
    "\n",
    "    # Apply the computed action in the environment and continue.\n",
    "    obs, r, done, _ = env.step(bandit_action)"
   ]
  },
  {
   "cell_type": "markdown",
   "metadata": {},
   "source": [
    "In this dummy Recsim environment, we did not have any user features.  This makes the contextual bandit without any user context, i.e. without any state.  A stateless bandit cannot remember things between timesteps, so it will sort of converge to the most greedy policy that recommends chocolotes."
   ]
  },
  {
   "cell_type": "markdown",
   "metadata": {},
   "source": [
    "# Solving the problem with RL <a class=\"anchor\" id=\"dqn\"></a>\n",
    "\n",
    "So far the bandit solution has just converged to the perforamnce of greedy argmax policy. **How can we improve over the random policy baseline** Now let's run the DQN algorithm with $\\gamma = 0.99$. We run this script for 1M environment timesteps till convergence. It will take ~ 1hour to run this training job.\n",
    "\n",
    "**Exercise (1 min)** How would you modify the previous config object (`bandit_config`) to train an RL agent to optimize long-term engagement (hint: use `.training()` API)?\n"
   ]
  },
  {
   "cell_type": "code",
   "execution_count": 29,
   "metadata": {},
   "outputs": [
    {
     "data": {
      "text/html": [
       "<div class=\"tuneStatus\">\n",
       "  <div style=\"display: flex;flex-direction: row\">\n",
       "    <div style=\"display: flex;flex-direction: column;\">\n",
       "      <h3>Tune Status</h3>\n",
       "      <table>\n",
       "<tbody>\n",
       "<tr><td>Current time:</td><td>2022-09-16 10:40:01</td></tr>\n",
       "<tr><td>Running for: </td><td>00:00:05.43        </td></tr>\n",
       "<tr><td>Memory:      </td><td>11.8/16.0 GiB      </td></tr>\n",
       "</tbody>\n",
       "</table>\n",
       "    </div>\n",
       "    <div class=\"vDivider\"></div>\n",
       "    <div class=\"systemInfo\">\n",
       "      <h3>System Info</h3>\n",
       "      Using FIFO scheduling algorithm.<br>Resources requested: 0/8 CPUs, 0/0 GPUs, 0.0/6.77 GiB heap, 0.0/2.0 GiB objects\n",
       "    </div>\n",
       "    \n",
       "  </div>\n",
       "  <div class=\"hDivider\"></div>\n",
       "  <div class=\"trialStatus\">\n",
       "    <h3>Trial Status</h3>\n",
       "    <table>\n",
       "<thead>\n",
       "<tr><th>Trial name                  </th><th>status    </th><th>loc            </th><th style=\"text-align: right;\">  iter</th><th style=\"text-align: right;\">  total time (s)</th><th style=\"text-align: right;\">  ts</th><th style=\"text-align: right;\">  reward</th><th style=\"text-align: right;\">  num_recreated_wor...</th><th style=\"text-align: right;\">  episode_reward_max</th><th style=\"text-align: right;\">  episode_reward_min</th></tr>\n",
       "</thead>\n",
       "<tbody>\n",
       "<tr><td>DQN_modified-lts_944b2_00000</td><td>TERMINATED</td><td>127.0.0.1:65130</td><td style=\"text-align: right;\">     1</td><td style=\"text-align: right;\">          1.4647</td><td style=\"text-align: right;\">1000</td><td style=\"text-align: right;\"> 103.308</td><td style=\"text-align: right;\">                     0</td><td style=\"text-align: right;\">             157.216</td><td style=\"text-align: right;\">             47.8911</td></tr>\n",
       "</tbody>\n",
       "</table>\n",
       "  </div>\n",
       "</div>\n",
       "<style>\n",
       ".tuneStatus {\n",
       "  color: var(--jp-ui-font-color1);\n",
       "}\n",
       ".tuneStatus .systemInfo {\n",
       "  display: flex;\n",
       "  flex-direction: column;\n",
       "}\n",
       ".tuneStatus td {\n",
       "  white-space: nowrap;\n",
       "}\n",
       ".tuneStatus .trialStatus {\n",
       "  display: flex;\n",
       "  flex-direction: column;\n",
       "}\n",
       ".tuneStatus h3 {\n",
       "  font-weight: bold;\n",
       "}\n",
       ".tuneStatus .hDivider {\n",
       "  border-bottom-width: var(--jp-border-width);\n",
       "  border-bottom-color: var(--jp-border-color0);\n",
       "  border-bottom-style: solid;\n",
       "}\n",
       ".tuneStatus .vDivider {\n",
       "  border-left-width: var(--jp-border-width);\n",
       "  border-left-color: var(--jp-border-color0);\n",
       "  border-left-style: solid;\n",
       "  margin: 0.5em 1em 0.5em 1em;\n",
       "}\n",
       "</style>\n"
      ],
      "text/plain": [
       "<IPython.core.display.HTML object>"
      ]
     },
     "metadata": {},
     "output_type": "display_data"
    },
    {
     "name": "stderr",
     "output_type": "stream",
     "text": [
      "\u001b[2m\u001b[36m(pid=65130)\u001b[0m /opt/homebrew/Caskroom/miniforge/base/envs/ray/lib/python3.8/site-packages/tensorflow/core/framework/tensor_shape_pb2.py:18: DeprecationWarning: Call to deprecated create function FileDescriptor(). Note: Create unlinked descriptors is going to go away. Please use get/find descriptors from generated code or query the descriptor_pool.\n",
      "\u001b[2m\u001b[36m(pid=65130)\u001b[0m   DESCRIPTOR = _descriptor.FileDescriptor(\n",
      "\u001b[2m\u001b[36m(pid=65130)\u001b[0m /opt/homebrew/Caskroom/miniforge/base/envs/ray/lib/python3.8/site-packages/tensorflow/core/framework/tensor_shape_pb2.py:36: DeprecationWarning: Call to deprecated create function FieldDescriptor(). Note: Create unlinked descriptors is going to go away. Please use get/find descriptors from generated code or query the descriptor_pool.\n",
      "\u001b[2m\u001b[36m(pid=65130)\u001b[0m   _descriptor.FieldDescriptor(\n",
      "\u001b[2m\u001b[36m(pid=65130)\u001b[0m /opt/homebrew/Caskroom/miniforge/base/envs/ray/lib/python3.8/site-packages/tensorflow/core/framework/tensor_shape_pb2.py:29: DeprecationWarning: Call to deprecated create function Descriptor(). Note: Create unlinked descriptors is going to go away. Please use get/find descriptors from generated code or query the descriptor_pool.\n",
      "\u001b[2m\u001b[36m(pid=65130)\u001b[0m   _TENSORSHAPEPROTO_DIM = _descriptor.Descriptor(\n",
      "\u001b[2m\u001b[36m(pid=65130)\u001b[0m /opt/homebrew/Caskroom/miniforge/base/envs/ray/lib/python3.8/site-packages/tensorflow/core/framework/types_pb2.py:19: DeprecationWarning: Call to deprecated create function FileDescriptor(). Note: Create unlinked descriptors is going to go away. Please use get/find descriptors from generated code or query the descriptor_pool.\n",
      "\u001b[2m\u001b[36m(pid=65130)\u001b[0m   DESCRIPTOR = _descriptor.FileDescriptor(\n",
      "\u001b[2m\u001b[36m(pid=65130)\u001b[0m /opt/homebrew/Caskroom/miniforge/base/envs/ray/lib/python3.8/site-packages/tensorflow/core/framework/types_pb2.py:33: DeprecationWarning: Call to deprecated create function EnumValueDescriptor(). Note: Create unlinked descriptors is going to go away. Please use get/find descriptors from generated code or query the descriptor_pool.\n",
      "\u001b[2m\u001b[36m(pid=65130)\u001b[0m   _descriptor.EnumValueDescriptor(\n",
      "\u001b[2m\u001b[36m(pid=65130)\u001b[0m /opt/homebrew/Caskroom/miniforge/base/envs/ray/lib/python3.8/site-packages/tensorflow/core/framework/types_pb2.py:27: DeprecationWarning: Call to deprecated create function EnumDescriptor(). Note: Create unlinked descriptors is going to go away. Please use get/find descriptors from generated code or query the descriptor_pool.\n",
      "\u001b[2m\u001b[36m(pid=65130)\u001b[0m   _DATATYPE = _descriptor.EnumDescriptor(\n",
      "\u001b[2m\u001b[36m(pid=65130)\u001b[0m /opt/homebrew/Caskroom/miniforge/base/envs/ray/lib/python3.8/site-packages/tensorflow/core/framework/resource_handle_pb2.py:20: DeprecationWarning: Call to deprecated create function FileDescriptor(). Note: Create unlinked descriptors is going to go away. Please use get/find descriptors from generated code or query the descriptor_pool.\n",
      "\u001b[2m\u001b[36m(pid=65130)\u001b[0m   DESCRIPTOR = _descriptor.FileDescriptor(\n",
      "\u001b[2m\u001b[36m(pid=65130)\u001b[0m /opt/homebrew/Caskroom/miniforge/base/envs/ray/lib/python3.8/site-packages/tensorflow/core/framework/resource_handle_pb2.py:39: DeprecationWarning: Call to deprecated create function FieldDescriptor(). Note: Create unlinked descriptors is going to go away. Please use get/find descriptors from generated code or query the descriptor_pool.\n",
      "\u001b[2m\u001b[36m(pid=65130)\u001b[0m   _descriptor.FieldDescriptor(\n",
      "\u001b[2m\u001b[36m(pid=65130)\u001b[0m /opt/homebrew/Caskroom/miniforge/base/envs/ray/lib/python3.8/site-packages/tensorflow/core/framework/resource_handle_pb2.py:32: DeprecationWarning: Call to deprecated create function Descriptor(). Note: Create unlinked descriptors is going to go away. Please use get/find descriptors from generated code or query the descriptor_pool.\n",
      "\u001b[2m\u001b[36m(pid=65130)\u001b[0m   _RESOURCEHANDLEPROTO_DTYPEANDSHAPE = _descriptor.Descriptor(\n",
      "\u001b[2m\u001b[36m(pid=65130)\u001b[0m /opt/homebrew/Caskroom/miniforge/base/envs/ray/lib/python3.8/site-packages/tensorflow/core/framework/tensor_pb2.py:21: DeprecationWarning: Call to deprecated create function FileDescriptor(). Note: Create unlinked descriptors is going to go away. Please use get/find descriptors from generated code or query the descriptor_pool.\n",
      "\u001b[2m\u001b[36m(pid=65130)\u001b[0m   DESCRIPTOR = _descriptor.FileDescriptor(\n",
      "\u001b[2m\u001b[36m(pid=65130)\u001b[0m /opt/homebrew/Caskroom/miniforge/base/envs/ray/lib/python3.8/site-packages/tensorflow/core/framework/tensor_pb2.py:40: DeprecationWarning: Call to deprecated create function FieldDescriptor(). Note: Create unlinked descriptors is going to go away. Please use get/find descriptors from generated code or query the descriptor_pool.\n",
      "\u001b[2m\u001b[36m(pid=65130)\u001b[0m   _descriptor.FieldDescriptor(\n",
      "\u001b[2m\u001b[36m(pid=65130)\u001b[0m /opt/homebrew/Caskroom/miniforge/base/envs/ray/lib/python3.8/site-packages/tensorflow/core/framework/tensor_pb2.py:33: DeprecationWarning: Call to deprecated create function Descriptor(). Note: Create unlinked descriptors is going to go away. Please use get/find descriptors from generated code or query the descriptor_pool.\n",
      "\u001b[2m\u001b[36m(pid=65130)\u001b[0m   _TENSORPROTO = _descriptor.Descriptor(\n",
      "\u001b[2m\u001b[36m(pid=65130)\u001b[0m /opt/homebrew/Caskroom/miniforge/base/envs/ray/lib/python3.8/site-packages/tensorflow/core/framework/attr_value_pb2.py:21: DeprecationWarning: Call to deprecated create function FileDescriptor(). Note: Create unlinked descriptors is going to go away. Please use get/find descriptors from generated code or query the descriptor_pool.\n",
      "\u001b[2m\u001b[36m(pid=65130)\u001b[0m   DESCRIPTOR = _descriptor.FileDescriptor(\n",
      "\u001b[2m\u001b[36m(pid=65130)\u001b[0m /opt/homebrew/Caskroom/miniforge/base/envs/ray/lib/python3.8/site-packages/tensorflow/core/framework/attr_value_pb2.py:40: DeprecationWarning: Call to deprecated create function FieldDescriptor(). Note: Create unlinked descriptors is going to go away. Please use get/find descriptors from generated code or query the descriptor_pool.\n",
      "\u001b[2m\u001b[36m(pid=65130)\u001b[0m   _descriptor.FieldDescriptor(\n",
      "\u001b[2m\u001b[36m(pid=65130)\u001b[0m /opt/homebrew/Caskroom/miniforge/base/envs/ray/lib/python3.8/site-packages/tensorflow/core/framework/attr_value_pb2.py:33: DeprecationWarning: Call to deprecated create function Descriptor(). Note: Create unlinked descriptors is going to go away. Please use get/find descriptors from generated code or query the descriptor_pool.\n",
      "\u001b[2m\u001b[36m(pid=65130)\u001b[0m   _ATTRVALUE_LISTVALUE = _descriptor.Descriptor(\n",
      "\u001b[2m\u001b[36m(pid=65130)\u001b[0m /opt/homebrew/Caskroom/miniforge/base/envs/ray/lib/python3.8/site-packages/flatbuffers/compat.py:19: DeprecationWarning: the imp module is deprecated in favour of importlib; see the module's documentation for alternative uses\n",
      "\u001b[2m\u001b[36m(pid=65130)\u001b[0m   import imp\n",
      "\u001b[2m\u001b[36m(pid=65130)\u001b[0m /opt/homebrew/Caskroom/miniforge/base/envs/ray/lib/python3.8/site-packages/keras/utils/image_utils.py:36: DeprecationWarning: NEAREST is deprecated and will be removed in Pillow 10 (2023-07-01). Use Resampling.NEAREST or Dither.NONE instead.\n",
      "\u001b[2m\u001b[36m(pid=65130)\u001b[0m   'nearest': pil_image.NEAREST,\n",
      "\u001b[2m\u001b[36m(pid=65130)\u001b[0m /opt/homebrew/Caskroom/miniforge/base/envs/ray/lib/python3.8/site-packages/keras/utils/image_utils.py:37: DeprecationWarning: BILINEAR is deprecated and will be removed in Pillow 10 (2023-07-01). Use Resampling.BILINEAR instead.\n",
      "\u001b[2m\u001b[36m(pid=65130)\u001b[0m   'bilinear': pil_image.BILINEAR,\n",
      "\u001b[2m\u001b[36m(pid=65130)\u001b[0m /opt/homebrew/Caskroom/miniforge/base/envs/ray/lib/python3.8/site-packages/keras/utils/image_utils.py:38: DeprecationWarning: BICUBIC is deprecated and will be removed in Pillow 10 (2023-07-01). Use Resampling.BICUBIC instead.\n",
      "\u001b[2m\u001b[36m(pid=65130)\u001b[0m   'bicubic': pil_image.BICUBIC,\n",
      "\u001b[2m\u001b[36m(pid=65130)\u001b[0m /opt/homebrew/Caskroom/miniforge/base/envs/ray/lib/python3.8/site-packages/keras/utils/image_utils.py:39: DeprecationWarning: HAMMING is deprecated and will be removed in Pillow 10 (2023-07-01). Use Resampling.HAMMING instead.\n",
      "\u001b[2m\u001b[36m(pid=65130)\u001b[0m   'hamming': pil_image.HAMMING,\n",
      "\u001b[2m\u001b[36m(pid=65130)\u001b[0m /opt/homebrew/Caskroom/miniforge/base/envs/ray/lib/python3.8/site-packages/keras/utils/image_utils.py:40: DeprecationWarning: BOX is deprecated and will be removed in Pillow 10 (2023-07-01). Use Resampling.BOX instead.\n",
      "\u001b[2m\u001b[36m(pid=65130)\u001b[0m   'box': pil_image.BOX,\n",
      "\u001b[2m\u001b[36m(pid=65130)\u001b[0m /opt/homebrew/Caskroom/miniforge/base/envs/ray/lib/python3.8/site-packages/keras/utils/image_utils.py:41: DeprecationWarning: LANCZOS is deprecated and will be removed in Pillow 10 (2023-07-01). Use Resampling.LANCZOS instead.\n",
      "\u001b[2m\u001b[36m(pid=65130)\u001b[0m   'lanczos': pil_image.LANCZOS,\n",
      "\u001b[2m\u001b[36m(pid=65130)\u001b[0m /opt/homebrew/Caskroom/miniforge/base/envs/ray/lib/python3.8/site-packages/tensorflow_probability/python/__init__.py:61: DeprecationWarning: distutils Version classes are deprecated. Use packaging.version instead.\n",
      "\u001b[2m\u001b[36m(pid=65130)\u001b[0m   if (distutils.version.LooseVersion(tf.__version__) <\n",
      "\u001b[2m\u001b[36m(pid=65130)\u001b[0m WARNING:tensorflow:From /opt/homebrew/Caskroom/miniforge/base/envs/ray/lib/python3.8/site-packages/tensorflow/python/util/deprecation.py:561: calling function (from tensorflow.python.eager.def_function) with experimental_relax_shapes is deprecated and will be removed in a future version.\n",
      "\u001b[2m\u001b[36m(pid=65130)\u001b[0m Instructions for updating:\n",
      "\u001b[2m\u001b[36m(pid=65130)\u001b[0m experimental_relax_shapes is deprecated, use reduce_retracing instead\n",
      "\u001b[2m\u001b[36m(DQN pid=65130)\u001b[0m /opt/homebrew/Caskroom/miniforge/base/envs/ray/lib/python3.8/site-packages/gin/tf/__init__.py:48: DeprecationWarning: distutils Version classes are deprecated. Use packaging.version instead.\n",
      "\u001b[2m\u001b[36m(DQN pid=65130)\u001b[0m   if (distutils.version.LooseVersion(tf.__version__) <\n",
      "\u001b[2m\u001b[36m(DQN pid=65130)\u001b[0m 2022-09-16 10:40:00,384\tWARNING deprecation.py:47 -- DeprecationWarning: `ray.rllib.algorithms.dqn.dqn.DEFAULT_CONFIG` has been deprecated. Use `ray.rllib.algorithms.dqn.dqn.DQNConfig(...)` instead. This will raise an error in the future!\n",
      "\u001b[2m\u001b[36m(DQN pid=65130)\u001b[0m 2022-09-16 10:40:00,384\tWARNING deprecation.py:47 -- DeprecationWarning: `config['multiagent']['replay_mode']` has been deprecated. config['replay_buffer_config']['replay_mode'] This will raise an error in the future!\n",
      "\u001b[2m\u001b[36m(DQN pid=65130)\u001b[0m 2022-09-16 10:40:00,385\tINFO simple_q.py:303 -- In multi-agent mode, policies will be optimized sequentially by the multi-GPU optimizer. Consider setting `simple_optimizer=True` if this doesn't work for you.\n",
      "\u001b[2m\u001b[36m(DQN pid=65130)\u001b[0m 2022-09-16 10:40:00,385\tINFO algorithm.py:357 -- Current log_level is WARN. For more information, set 'log_level': 'INFO' / 'DEBUG' or use the -v and -vv flags.\n",
      "\u001b[2m\u001b[36m(DQN pid=65130)\u001b[0m /Users/kourosh/dev/workspace-project-gpu-workspace-kh/python/ray/_private/ray_option_utils.py:284: DeprecationWarning: Setting 'object_store_memory' for actors is deprecated since it doesn't actually reserve the required object store memory. Use object spilling that's enabled by default (https://docs.ray.io/en/master/ray-core/objects/object-spilling.html) instead to bypass the object store memory size limitation.\n",
      "\u001b[2m\u001b[36m(DQN pid=65130)\u001b[0m   warnings.warn(\n",
      "\u001b[2m\u001b[36m(DQN pid=65130)\u001b[0m 2022-09-16 10:40:00,392\tWARNING env.py:142 -- Your env doesn't have a .spec.max_episode_steps attribute. This is fine if you have set 'horizon' in your config dictionary, or `soft_horizon`. However, if you haven't, 'horizon' will default to infinity, and your environment will not be reset.\n",
      "\u001b[2m\u001b[36m(DQN pid=65130)\u001b[0m 2022-09-16 10:40:00,413\tWARNING util.py:66 -- Install gputil for GPU system monitoring.\n",
      "\u001b[2m\u001b[36m(DQN pid=65130)\u001b[0m 2022-09-16 10:40:00,430\tWARNING deprecation.py:47 -- DeprecationWarning: `ReplayBuffer.add_batch()` has been deprecated. Use `ReplayBuffer.add()` instead. This will raise an error in the future!\n",
      "\u001b[2m\u001b[36m(DQN pid=65130)\u001b[0m 2022-09-16 10:40:00,438\tWARNING multi_agent_prioritized_replay_buffer.py:215 -- Adding batches with column `weights` to this buffer while providing weights as a call argument to the add method results in the column being overwritten.\n"
     ]
    },
    {
     "data": {
      "text/html": [
       "<div class=\"trialProgress\">\n",
       "  <h3>Trial Progress</h3>\n",
       "  <table>\n",
       "<thead>\n",
       "<tr><th>Trial name                  </th><th style=\"text-align: right;\">  agent_timesteps_total</th><th>counters                                                                                                                  </th><th>custom_metrics  </th><th>date               </th><th>done  </th><th style=\"text-align: right;\">  episode_len_mean</th><th>episode_media  </th><th style=\"text-align: right;\">  episode_reward_max</th><th style=\"text-align: right;\">  episode_reward_mean</th><th style=\"text-align: right;\">  episode_reward_min</th><th style=\"text-align: right;\">  episodes_this_iter</th><th style=\"text-align: right;\">  episodes_total</th><th>experiment_id                   </th><th>hostname               </th><th>info                                                                                                                                     </th><th style=\"text-align: right;\">  iterations_since_restore</th><th>node_ip  </th><th style=\"text-align: right;\">  num_agent_steps_sampled</th><th style=\"text-align: right;\">  num_agent_steps_trained</th><th style=\"text-align: right;\">  num_env_steps_sampled</th><th style=\"text-align: right;\">  num_env_steps_sampled_this_iter</th><th style=\"text-align: right;\">  num_env_steps_trained</th><th style=\"text-align: right;\">  num_env_steps_trained_this_iter</th><th style=\"text-align: right;\">  num_faulty_episodes</th><th style=\"text-align: right;\">  num_healthy_workers</th><th style=\"text-align: right;\">  num_recreated_workers</th><th style=\"text-align: right;\">  num_steps_trained_this_iter</th><th>perf                                                </th><th style=\"text-align: right;\">  pid</th><th>policy_reward_max  </th><th>policy_reward_mean  </th><th>policy_reward_min  </th><th>sampler_perf                                                                                                                                                                                                      </th><th>sampler_results                                                                                                                                                                                                                                                                                                                                                                                                                                                                                                                                                                                                                                                                                                                                                                                                                                                                                                                                                                                                                                                                                                                                                                                                                                                                                                                                                                                                                                                                                                                                                                                                                                                                                                                                                                                                                                                                                                                                                                                                                                                                                                                                                                                                                                                                                                                                                                                                                                                                                                                                                                                                                                                                                                                                                                                                                                                                                                                                                                                                                                              </th><th style=\"text-align: right;\">  time_since_restore</th><th style=\"text-align: right;\">  time_this_iter_s</th><th style=\"text-align: right;\">  time_total_s</th><th>timers                               </th><th style=\"text-align: right;\">  timestamp</th><th style=\"text-align: right;\">  timesteps_since_restore</th><th style=\"text-align: right;\">  timesteps_total</th><th style=\"text-align: right;\">  training_iteration</th><th>trial_id   </th><th style=\"text-align: right;\">  warmup_time</th></tr>\n",
       "</thead>\n",
       "<tbody>\n",
       "<tr><td>DQN_modified-lts_944b2_00000</td><td style=\"text-align: right;\">                   1000</td><td>{&#x27;num_env_steps_sampled&#x27;: 1000, &#x27;num_env_steps_trained&#x27;: 0, &#x27;num_agent_steps_sampled&#x27;: 1000, &#x27;num_agent_steps_trained&#x27;: 0}</td><td>{}              </td><td>2022-09-16_10-40-01</td><td>True  </td><td style=\"text-align: right;\">                10</td><td>{}             </td><td style=\"text-align: right;\">             157.216</td><td style=\"text-align: right;\">              103.308</td><td style=\"text-align: right;\">             47.8911</td><td style=\"text-align: right;\">                 100</td><td style=\"text-align: right;\">             100</td><td>575e972948bc44258ef16db193644c7b</td><td>Kouroshs-MacBook-Pro-13</td><td>{&#x27;learner&#x27;: {}, &#x27;num_env_steps_sampled&#x27;: 1000, &#x27;num_env_steps_trained&#x27;: 0, &#x27;num_agent_steps_sampled&#x27;: 1000, &#x27;num_agent_steps_trained&#x27;: 0}</td><td style=\"text-align: right;\">                         1</td><td>127.0.0.1</td><td style=\"text-align: right;\">                     1000</td><td style=\"text-align: right;\">                        0</td><td style=\"text-align: right;\">                   1000</td><td style=\"text-align: right;\">                             1000</td><td style=\"text-align: right;\">                      0</td><td style=\"text-align: right;\">                                0</td><td style=\"text-align: right;\">                    0</td><td style=\"text-align: right;\">                    0</td><td style=\"text-align: right;\">                      0</td><td style=\"text-align: right;\">                            0</td><td>{&#x27;cpu_util_percent&#x27;: 26.5, &#x27;ram_util_percent&#x27;: 73.6}</td><td style=\"text-align: right;\">65130</td><td>{}                 </td><td>{}                  </td><td>{}                 </td><td>{&#x27;mean_raw_obs_processing_ms&#x27;: 0.7084697395652445, &#x27;mean_inference_ms&#x27;: 0.4940752263788459, &#x27;mean_action_processing_ms&#x27;: 0.020375142207036127, &#x27;mean_env_wait_ms&#x27;: 0.14750512091668097, &#x27;mean_env_render_ms&#x27;: 0.0}</td><td>{&#x27;episode_reward_max&#x27;: 157.21604582369264, &#x27;episode_reward_min&#x27;: 47.89108132846751, &#x27;episode_reward_mean&#x27;: 103.30797269596522, &#x27;episode_len_mean&#x27;: 10.0, &#x27;episode_media&#x27;: {}, &#x27;episodes_this_iter&#x27;: 100, &#x27;policy_reward_min&#x27;: {}, &#x27;policy_reward_max&#x27;: {}, &#x27;policy_reward_mean&#x27;: {}, &#x27;custom_metrics&#x27;: {}, &#x27;hist_stats&#x27;: {&#x27;episode_reward&#x27;: [99.11045227234092, 81.77585776511727, 84.3415585617816, 109.06625628022462, 92.27350015040574, 72.64437346757511, 77.8549420881666, 83.0277873113271, 68.8528079312469, 64.83050025464037, 115.26974289398636, 109.47309693862519, 122.67982077096659, 100.03901569098119, 123.79127382854766, 112.89459346881773, 113.91232649056761, 109.49399783310301, 82.6370642518649, 70.53887372734265, 128.76632875084366, 84.2724463180759, 97.40616233547158, 116.40979359538777, 108.53579794798723, 95.8697716843338, 107.09144874230302, 127.98009906254937, 55.95314352687059, 143.8243141647193, 96.3801047565567, 78.1593915977648, 124.74220220835045, 76.71202556732163, 107.28434051617066, 112.95509425912155, 138.5291454797608, 51.0774331012877, 139.01770834399076, 111.69031251590302, 104.46242520416102, 134.38715150209703, 134.13759197089024, 103.97461130736812, 57.40523824626669, 129.41434716669102, 93.4460044613155, 113.45520862089512, 84.50496024440214, 147.49992559776265, 145.34374025233924, 103.92147286965454, 100.5431287363312, 89.46208702996897, 112.58175045048844, 82.02357508394614, 99.41740929734472, 146.0200815752321, 95.72244404239994, 94.17610226926041, 92.80010296402101, 93.72649778184048, 59.444559753831534, 127.63634703382014, 105.80824346211328, 128.5721991453306, 103.94784170344461, 100.35902118802292, 105.9370926434695, 121.86792204002342, 95.19179674330466, 131.17955928783675, 128.13228139101753, 109.2749263270398, 139.1885025384312, 117.73200567619926, 157.21604582369264, 107.9455899456126, 97.34201457068505, 90.5654556571637, 47.89108132846751, 110.42512266712015, 68.72235148593494, 85.79221235085255, 143.84040128257922, 95.33244141133554, 149.56127661350243, 99.50299390562441, 116.70611809617999, 93.38000833330426, 136.6467513067201, 95.38190849593268, 117.89863456815856, 81.01556506219924, 84.57791319205757, 91.53396296355942, 84.72573482007071, 92.99761040408204, 69.06167945167931, 82.87133379904553], &#x27;episode_lengths&#x27;: [10, 10, 10, 10, 10, 10, 10, 10, 10, 10, 10, 10, 10, 10, 10, 10, 10, 10, 10, 10, 10, 10, 10, 10, 10, 10, 10, 10, 10, 10, 10, 10, 10, 10, 10, 10, 10, 10, 10, 10, 10, 10, 10, 10, 10, 10, 10, 10, 10, 10, 10, 10, 10, 10, 10, 10, 10, 10, 10, 10, 10, 10, 10, 10, 10, 10, 10, 10, 10, 10, 10, 10, 10, 10, 10, 10, 10, 10, 10, 10, 10, 10, 10, 10, 10, 10, 10, 10, 10, 10, 10, 10, 10, 10, 10, 10, 10, 10, 10, 10]}, &#x27;sampler_perf&#x27;: {&#x27;mean_raw_obs_processing_ms&#x27;: 0.7084697395652445, &#x27;mean_inference_ms&#x27;: 0.4940752263788459, &#x27;mean_action_processing_ms&#x27;: 0.020375142207036127, &#x27;mean_env_wait_ms&#x27;: 0.14750512091668097, &#x27;mean_env_render_ms&#x27;: 0.0}, &#x27;num_faulty_episodes&#x27;: 0}</td><td style=\"text-align: right;\">              1.4647</td><td style=\"text-align: right;\">            1.4647</td><td style=\"text-align: right;\">        1.4647</td><td>{&#x27;training_iteration_time_ms&#x27;: 5.726}</td><td style=\"text-align: right;\"> 1663350001</td><td style=\"text-align: right;\">                        0</td><td style=\"text-align: right;\">             1000</td><td style=\"text-align: right;\">                   1</td><td>944b2_00000</td><td style=\"text-align: right;\">     0.035496</td></tr>\n",
       "</tbody>\n",
       "</table>\n",
       "</div>\n",
       "<style>\n",
       ".trialProgress {\n",
       "  display: flex;\n",
       "  flex-direction: column;\n",
       "  color: var(--jp-ui-font-color1);\n",
       "}\n",
       ".trialProgress h3 {\n",
       "  font-weight: bold;\n",
       "}\n",
       ".trialProgress td {\n",
       "  white-space: nowrap;\n",
       "}\n",
       "</style>\n"
      ],
      "text/plain": [
       "<IPython.core.display.HTML object>"
      ]
     },
     "metadata": {},
     "output_type": "display_data"
    },
    {
     "name": "stderr",
     "output_type": "stream",
     "text": [
      "2022-09-16 10:40:02,635\tINFO tune.py:762 -- Total run time: 6.13 seconds (5.41 seconds for the tuning loop).\n"
     ]
    }
   ],
   "source": [
    "# TODO: Code here\n",
    "dqn_config = bandit_config.training(gamma=0.99)\n",
    "\n",
    "tuner = tune.Tuner(\n",
    "    DQN,\n",
    "    param_space=dqn_config.to_dict(),\n",
    "    run_config=air.RunConfig(\n",
    "        local_dir='./results_notebook/online_rl/dqn',\n",
    "        stop={\"training_iteration\": 1},  # this is enough for it to converge\n",
    "    )\n",
    ")\n",
    "dqn_results = tuner.fit()"
   ]
  },
  {
   "cell_type": "markdown",
   "metadata": {},
   "source": [
    "\n",
    "**(Take Home)** You can run the same script as before, with `gamma=0.99` passed in as a parameter. We should also run the script longer (1M steps) as it will take longer for DQN to converge. \n",
    "```bash\n",
    "python tutorial_scripts/run_online_rl.py --seed 0 --gamma 0.99 --exp_name dqn --timesteps 1_000_000\n",
    "```"
   ]
  },
  {
   "cell_type": "markdown",
   "metadata": {},
   "source": [
    "**Exercise** Take a look at the results and compare them to bandits via tensorboard."
   ]
  },
  {
   "cell_type": "code",
   "execution_count": 30,
   "metadata": {},
   "outputs": [],
   "source": [
    "# take a look at the results\n",
    "bandit_df = pd.read_csv(\"saved_runs/bandits/progress.csv\")\n",
    "dqn_df = pd.read_csv(\"saved_runs/dqn/progress.csv\")"
   ]
  },
  {
   "cell_type": "code",
   "execution_count": 31,
   "metadata": {},
   "outputs": [
    {
     "data": {
      "text/plain": [
       "Text(0.5, 1.0, 'RL vs. Bandits training performance')"
      ]
     },
     "execution_count": 31,
     "metadata": {},
     "output_type": "execute_result"
    },
    {
     "data": {
      "image/png": "[encoded data removed]",
      "text/plain": [
       "<Figure size 432x288 with 1 Axes>"
      ]
     },
     "metadata": {
      "needs_background": "light"
     },
     "output_type": "display_data"
    }
   ],
   "source": [
    "# plot the results and compare to baselines\n",
    "sns.lineplot(data=bandit_df, x=\"training_iteration\", y=\"episode_reward_mean\", label=\"Bandits\")\n",
    "sns.lineplot(data=dqn_df, x=\"training_iteration\", y=\"episode_reward_mean\", label=\"DQN\")\n",
    "plt.axhline(random_baseline, color=\"red\", linestyle='--', label=\"random baseline\")\n",
    "plt.axhline(sweetest_baseline, color=\"blue\", linestyle='--', label=\"sweetest baseline\")\n",
    "plt.legend()\n",
    "plt.title('RL vs. Bandits training performance')\n"
   ]
  },
  {
   "cell_type": "markdown",
   "metadata": {},
   "source": [
    "- **Sweetest** straight line, is the mean reward achieved by the greedy policy, selecting always the item with most immediate reward value.\n",
    "- **Bandit** short term reward hovers around the \"sweetest baseline\".\n",
    "- **Random** straight line, items are randomly chosen to be recommended at each timestep. Since this baseline mixes the sweetest and kaliest options the engagement is kept higher than either of the greedy methods, obtaining larger rewards.\n",
    "- **DQN (RL)**, such as DQN that optimize for long-term engagement significantly improves upon random baselines."
   ]
  },
  {
   "cell_type": "markdown",
   "metadata": {},
   "source": [
    "# Questions and Break (5 min) <a class=\"anchor\" id=\"break\"></a>"
   ]
  },
  {
   "cell_type": "markdown",
   "metadata": {},
   "source": [
    "# Offline RL with RecSys <a class=\"anchor\" id=\"offline-rl\"></a>\n",
    "\n",
    "<img src=\"images/offline_rl.png\">"
   ]
  },
  {
   "cell_type": "markdown",
   "metadata": {},
   "source": [
    "\n",
    "### If we don't have a live environment, how do we know, how well our trained policy will perform?\n",
    "\n",
    "One of the challenges in offline RL is the evaluation of the trained policy. In online RL (when a simulator\n",
    "is available), one can either use the data collected for training to compute episode total rewards. Remember\n",
    "that observations, actions, rewards, and done flags are all part of this training data. Alternatively,\n",
    "one could run a separate worker (with the same trained policy) and run it on a fresh evaluation-only environment.\n",
    "In this latter case, we would also have the chance to switch off any exploratory behavior (e.g. stochasticity used\n",
    "for better action entropy).\n",
    "\n",
    "In offline RL, no such data from a live environment is available to us. There are two common ways of addressing this dilemma:\n",
    "\n",
    "1) We deploy the learned policies into production, or maybe just a portion of our production system (similar to A/B testing), and see what happens.\n",
    "\n",
    "2) We use a method called \"off policy evaluation\" (OPE) to compute an estimate on how the new policy would perform if we were to deploy it into a real environment. There are different OPE methods available in RLlib off-the-shelf.\n",
    "\n",
    "3) The third option - which we will use here - is kind of cheating and only possible if you actually do have a simulator available (but you only want to use it for evaluation, not for training, because you want to see how cool offline RL is :) )\n",
    "\n",
    "In this tutorial, we will use the third option to show the effectiveness of offline RL in improving over existing policies running in production. We will also see how much benefit we can get by improving our dataset quality, starting from a totally random policy all the way to 20% expert demonstrations adn 80% random. "
   ]
  },
  {
   "cell_type": "markdown",
   "metadata": {},
   "source": [
    "We can use the currently running policies in production to collect some \"historical data\" that we can use to train RL agents with. Offline RL can be used to improve upon the existing policies deployed in production. We have prepared some datasets in advance for the purpose of this tutorial. They were all generated using `<path to the script>`. In this script we can mix the percentage of the \"expert\" data vs. random data to investigate the effect of dataset quality on the final performance of our models.   "
   ]
  },
  {
   "cell_type": "markdown",
   "metadata": {},
   "source": [
    "Let's look at an exemplar dataset we have prepared before:\n",
    "\n"
   ]
  },
  {
   "cell_type": "code",
   "execution_count": 32,
   "metadata": {},
   "outputs": [
    {
     "name": "stderr",
     "output_type": "stream",
     "text": [
      "2022-09-16 10:40:08,459\tWARNING read_api.py:291 -- ⚠️  The number of blocks in this dataset (1) limits its parallelism to 1 concurrent tasks. This is much less than the number of available CPU slots in the cluster. Use `.repartition(n)` to increase the number of dataset blocks.\n"
     ]
    },
    {
     "name": "stdout",
     "output_type": "stream",
     "text": [
      "Colimns:  Index(['type', 'obs', 'new_obs', 'actions', 'rewards', 'dones', 'eps_id', 't',\n",
      "       'action_prob'],\n",
      "      dtype='object')\n",
      "Number of rows:  100\n",
      "Value of the first row\n",
      "--------------------\n",
      "type                                                 SampleBatch\n",
      "obs            BCJNGGhAMAQAAAAAAACKIgIAAGGABZUlBAABAPEcjBVudW...\n",
      "new_obs        BCJNGGhALQQAAAAAAABmHgIAAGGABZUiBAABAPEcjBVudW...\n",
      "actions                                                      [0]\n",
      "rewards                                      [22.45008736559994]\n",
      "dones                                                    [False]\n",
      "eps_id                                                       [0]\n",
      "t                                                            [0]\n",
      "action_prob                                               [0.05]\n",
      "Name: 0, dtype: object\n",
      "Value of the second row:\n",
      "--------------------\n",
      "type                                                 SampleBatch\n",
      "obs            BCJNGGhALQQAAAAAAABmHgIAAGGABZUiBAABAPEcjBVudW...\n",
      "new_obs        BCJNGGhALQQAAAAAAABmHAIAAGGABZUiBAABAPEcjBVudW...\n",
      "actions                                                      [7]\n",
      "rewards                                     [1.4457165728302563]\n",
      "dones                                                    [False]\n",
      "eps_id                                                       [0]\n",
      "t                                                            [1]\n",
      "action_prob                                               [0.05]\n",
      "Name: 1, dtype: object\n"
     ]
    }
   ],
   "source": [
    "prefix = \"s3://air-example-data/rllib/acm_recsys22_tutorial_data/\"\n",
    "train_data_path = prefix + \"sampled_data_train_random_transitions_small\"\n",
    "\n",
    "dset = data.read_json(train_data_path)\n",
    "df = dset.to_pandas()\n",
    "print('Colimns: ', df.columns)\n",
    "print('Number of rows: ', len(df))\n",
    "print('Value of the first row')\n",
    "print('-'*20)\n",
    "print(df.iloc[0])\n",
    "print('Value of the second row:')\n",
    "print('-'*20)\n",
    "print(df.iloc[1])\n"
   ]
  },
  {
   "cell_type": "markdown",
   "metadata": {},
   "source": [
    "From the dataset schema, we can see that RLlib always expects a `type` column that is `SampleBatch`. It will have the normal transition entities per each row (i.e. observation, next_observation, action, reward, done values). It will also contain an episode_id, a timestep indicator, and an action_prob that show the probablity of the action that we chosen at the time of data collection. For random policy the action prob will always be 1/20 (0.05). "
   ]
  },
  {
   "cell_type": "markdown",
   "metadata": {},
   "source": [
    "Now that we have an understaning of the dataset example format, we can use RLlib to train an offline RL algorithm. RLlib provides several out of the box offline RL algorithms that you can use. Beside those offline-RL-specific algorithms, we can also use any off-policy algorithm (e.g. DQN) to do offline-RL. The only difference between online and offline version is that instead of using an enviornement sampler, we use a dataset sampler to get the data from. In the next section, we will use DQN, with the difference that we pass a dataset path to the input config."
   ]
  },
  {
   "cell_type": "markdown",
   "metadata": {},
   "source": [
    "Here is the summary of the differences:\n",
    "\n",
    "- Change the input config from a sample to offline dataset is configured by `.offline_data()` API:\n",
    "\n",
    "```python\n",
    "    .offline_data(\n",
    "        input_='dataset',\n",
    "        input_config={\n",
    "            'format': 'json',\n",
    "            'paths': train_data_path\n",
    "        }\n",
    "    )\n",
    "```\n",
    "\n",
    "- The environment is not passed to the enviornement anymore. Instead we need to pass in the expected action and observation space to construct the policies. We can create them manually based on our knowledge of our system. In this case we actually cheat and use the environment attributes to get the correct action and observatin spaces.\n",
    "\n",
    "```python \n",
    "    .environment(\n",
    "        action_space=action_space,\n",
    "        observation_space=observation_space,\n",
    "    )\n",
    "```\n",
    "\n",
    "- evaluation config: Since during the evaluation we still need to use the enviroenement simulations, we need to specify it explicitly here. RLlib by default will use the training settings during evaluation and to avoid that default behavior we need to explicitly specify the simulation environment configs. \n",
    "\n",
    "```python\n",
    "    .evaluation(\n",
    "        evaluation_interval=1,\n",
    "        evaluation_config={\n",
    "            \"input\": \"sampler\",\n",
    "            \"explore\": False,\n",
    "            \"env\": \"modified-lts\"\n",
    "        },\n",
    "    )\n",
    "```"
   ]
  },
  {
   "cell_type": "markdown",
   "metadata": {},
   "source": [
    "Running the script below takes about 1 hour. "
   ]
  },
  {
   "cell_type": "code",
   "execution_count": 33,
   "metadata": {},
   "outputs": [],
   "source": [
    "env = ModifiedLongTermSatisfactionRecSimEnv()\n",
    "action_space = env.action_space\n",
    "observation_space = env.observation_space\n",
    "\n",
    "dqn_config_offline = (\n",
    "    DQNConfig()\n",
    "    .offline_data(\n",
    "        input_='dataset',\n",
    "        input_config={\n",
    "            'format': 'json',\n",
    "            'paths': train_data_path,\n",
    "        }\n",
    "    )\n",
    "    .environment(\n",
    "        action_space=action_space,\n",
    "        observation_space=observation_space,\n",
    "    )\n",
    "    .evaluation(\n",
    "        evaluation_interval=1,\n",
    "        evaluation_config={\n",
    "            \"input\": \"sampler\",\n",
    "            \"explore\": False,\n",
    "            \"env\": \"modified-lts\",\n",
    "        },\n",
    "    )\n",
    "    .training(gamma=0.99)\n",
    ")"
   ]
  },
  {
   "cell_type": "markdown",
   "metadata": {},
   "source": [
    "**(Take Home)** To run the long-running learning script run:\n",
    "\n",
    "```bash\n",
    "python tutorial_scripts/run_offline_rl.py --dataset_suffix sampled_data_train_random_transitions\n",
    "```"
   ]
  },
  {
   "cell_type": "code",
   "execution_count": 34,
   "metadata": {},
   "outputs": [
    {
     "data": {
      "text/html": [
       "<div class=\"tuneStatus\">\n",
       "  <div style=\"display: flex;flex-direction: row\">\n",
       "    <div style=\"display: flex;flex-direction: column;\">\n",
       "      <h3>Tune Status</h3>\n",
       "      <table>\n",
       "<tbody>\n",
       "<tr><td>Current time:</td><td>2022-09-16 10:40:26</td></tr>\n",
       "<tr><td>Running for: </td><td>00:00:17.15        </td></tr>\n",
       "<tr><td>Memory:      </td><td>11.8/16.0 GiB      </td></tr>\n",
       "</tbody>\n",
       "</table>\n",
       "    </div>\n",
       "    <div class=\"vDivider\"></div>\n",
       "    <div class=\"systemInfo\">\n",
       "      <h3>System Info</h3>\n",
       "      Using FIFO scheduling algorithm.<br>Resources requested: 0/8 CPUs, 0/0 GPUs, 0.0/6.77 GiB heap, 0.0/2.0 GiB objects\n",
       "    </div>\n",
       "    \n",
       "  </div>\n",
       "  <div class=\"hDivider\"></div>\n",
       "  <div class=\"trialStatus\">\n",
       "    <h3>Trial Status</h3>\n",
       "    <table>\n",
       "<thead>\n",
       "<tr><th>Trial name          </th><th>status    </th><th>loc            </th><th style=\"text-align: right;\">  iter</th><th style=\"text-align: right;\">  total time (s)</th><th style=\"text-align: right;\">  ts</th><th style=\"text-align: right;\">  reward</th><th style=\"text-align: right;\">  num_recreated_wor...</th><th style=\"text-align: right;\">  episode_reward_max</th><th style=\"text-align: right;\">  episode_reward_min</th></tr>\n",
       "</thead>\n",
       "<tbody>\n",
       "<tr><td>DQN_None_9c219_00000</td><td>TERMINATED</td><td>127.0.0.1:65165</td><td style=\"text-align: right;\">     1</td><td style=\"text-align: right;\">         8.06543</td><td style=\"text-align: right;\">1024</td><td style=\"text-align: right;\">     nan</td><td style=\"text-align: right;\">                     0</td><td style=\"text-align: right;\">                 nan</td><td style=\"text-align: right;\">                 nan</td></tr>\n",
       "</tbody>\n",
       "</table>\n",
       "  </div>\n",
       "</div>\n",
       "<style>\n",
       ".tuneStatus {\n",
       "  color: var(--jp-ui-font-color1);\n",
       "}\n",
       ".tuneStatus .systemInfo {\n",
       "  display: flex;\n",
       "  flex-direction: column;\n",
       "}\n",
       ".tuneStatus td {\n",
       "  white-space: nowrap;\n",
       "}\n",
       ".tuneStatus .trialStatus {\n",
       "  display: flex;\n",
       "  flex-direction: column;\n",
       "}\n",
       ".tuneStatus h3 {\n",
       "  font-weight: bold;\n",
       "}\n",
       ".tuneStatus .hDivider {\n",
       "  border-bottom-width: var(--jp-border-width);\n",
       "  border-bottom-color: var(--jp-border-color0);\n",
       "  border-bottom-style: solid;\n",
       "}\n",
       ".tuneStatus .vDivider {\n",
       "  border-left-width: var(--jp-border-width);\n",
       "  border-left-color: var(--jp-border-color0);\n",
       "  border-left-style: solid;\n",
       "  margin: 0.5em 1em 0.5em 1em;\n",
       "}\n",
       "</style>\n"
      ],
      "text/plain": [
       "<IPython.core.display.HTML object>"
      ]
     },
     "metadata": {},
     "output_type": "display_data"
    },
    {
     "name": "stderr",
     "output_type": "stream",
     "text": [
      "\u001b[2m\u001b[36m(pid=65165)\u001b[0m /opt/homebrew/Caskroom/miniforge/base/envs/ray/lib/python3.8/site-packages/tensorflow/core/framework/tensor_shape_pb2.py:18: DeprecationWarning: Call to deprecated create function FileDescriptor(). Note: Create unlinked descriptors is going to go away. Please use get/find descriptors from generated code or query the descriptor_pool.\n",
      "\u001b[2m\u001b[36m(pid=65165)\u001b[0m   DESCRIPTOR = _descriptor.FileDescriptor(\n",
      "\u001b[2m\u001b[36m(pid=65165)\u001b[0m /opt/homebrew/Caskroom/miniforge/base/envs/ray/lib/python3.8/site-packages/tensorflow/core/framework/tensor_shape_pb2.py:36: DeprecationWarning: Call to deprecated create function FieldDescriptor(). Note: Create unlinked descriptors is going to go away. Please use get/find descriptors from generated code or query the descriptor_pool.\n",
      "\u001b[2m\u001b[36m(pid=65165)\u001b[0m   _descriptor.FieldDescriptor(\n",
      "\u001b[2m\u001b[36m(pid=65165)\u001b[0m /opt/homebrew/Caskroom/miniforge/base/envs/ray/lib/python3.8/site-packages/tensorflow/core/framework/tensor_shape_pb2.py:29: DeprecationWarning: Call to deprecated create function Descriptor(). Note: Create unlinked descriptors is going to go away. Please use get/find descriptors from generated code or query the descriptor_pool.\n",
      "\u001b[2m\u001b[36m(pid=65165)\u001b[0m   _TENSORSHAPEPROTO_DIM = _descriptor.Descriptor(\n",
      "\u001b[2m\u001b[36m(pid=65165)\u001b[0m /opt/homebrew/Caskroom/miniforge/base/envs/ray/lib/python3.8/site-packages/tensorflow/core/framework/types_pb2.py:19: DeprecationWarning: Call to deprecated create function FileDescriptor(). Note: Create unlinked descriptors is going to go away. Please use get/find descriptors from generated code or query the descriptor_pool.\n",
      "\u001b[2m\u001b[36m(pid=65165)\u001b[0m   DESCRIPTOR = _descriptor.FileDescriptor(\n",
      "\u001b[2m\u001b[36m(pid=65165)\u001b[0m /opt/homebrew/Caskroom/miniforge/base/envs/ray/lib/python3.8/site-packages/tensorflow/core/framework/types_pb2.py:33: DeprecationWarning: Call to deprecated create function EnumValueDescriptor(). Note: Create unlinked descriptors is going to go away. Please use get/find descriptors from generated code or query the descriptor_pool.\n",
      "\u001b[2m\u001b[36m(pid=65165)\u001b[0m   _descriptor.EnumValueDescriptor(\n",
      "\u001b[2m\u001b[36m(pid=65165)\u001b[0m /opt/homebrew/Caskroom/miniforge/base/envs/ray/lib/python3.8/site-packages/tensorflow/core/framework/types_pb2.py:27: DeprecationWarning: Call to deprecated create function EnumDescriptor(). Note: Create unlinked descriptors is going to go away. Please use get/find descriptors from generated code or query the descriptor_pool.\n",
      "\u001b[2m\u001b[36m(pid=65165)\u001b[0m   _DATATYPE = _descriptor.EnumDescriptor(\n",
      "\u001b[2m\u001b[36m(pid=65165)\u001b[0m /opt/homebrew/Caskroom/miniforge/base/envs/ray/lib/python3.8/site-packages/tensorflow/core/framework/resource_handle_pb2.py:20: DeprecationWarning: Call to deprecated create function FileDescriptor(). Note: Create unlinked descriptors is going to go away. Please use get/find descriptors from generated code or query the descriptor_pool.\n",
      "\u001b[2m\u001b[36m(pid=65165)\u001b[0m   DESCRIPTOR = _descriptor.FileDescriptor(\n",
      "\u001b[2m\u001b[36m(pid=65165)\u001b[0m /opt/homebrew/Caskroom/miniforge/base/envs/ray/lib/python3.8/site-packages/tensorflow/core/framework/resource_handle_pb2.py:39: DeprecationWarning: Call to deprecated create function FieldDescriptor(). Note: Create unlinked descriptors is going to go away. Please use get/find descriptors from generated code or query the descriptor_pool.\n",
      "\u001b[2m\u001b[36m(pid=65165)\u001b[0m   _descriptor.FieldDescriptor(\n",
      "\u001b[2m\u001b[36m(pid=65165)\u001b[0m /opt/homebrew/Caskroom/miniforge/base/envs/ray/lib/python3.8/site-packages/tensorflow/core/framework/resource_handle_pb2.py:32: DeprecationWarning: Call to deprecated create function Descriptor(). Note: Create unlinked descriptors is going to go away. Please use get/find descriptors from generated code or query the descriptor_pool.\n",
      "\u001b[2m\u001b[36m(pid=65165)\u001b[0m   _RESOURCEHANDLEPROTO_DTYPEANDSHAPE = _descriptor.Descriptor(\n",
      "\u001b[2m\u001b[36m(pid=65165)\u001b[0m /opt/homebrew/Caskroom/miniforge/base/envs/ray/lib/python3.8/site-packages/tensorflow/core/framework/tensor_pb2.py:21: DeprecationWarning: Call to deprecated create function FileDescriptor(). Note: Create unlinked descriptors is going to go away. Please use get/find descriptors from generated code or query the descriptor_pool.\n",
      "\u001b[2m\u001b[36m(pid=65165)\u001b[0m   DESCRIPTOR = _descriptor.FileDescriptor(\n",
      "\u001b[2m\u001b[36m(pid=65165)\u001b[0m /opt/homebrew/Caskroom/miniforge/base/envs/ray/lib/python3.8/site-packages/tensorflow/core/framework/tensor_pb2.py:40: DeprecationWarning: Call to deprecated create function FieldDescriptor(). Note: Create unlinked descriptors is going to go away. Please use get/find descriptors from generated code or query the descriptor_pool.\n",
      "\u001b[2m\u001b[36m(pid=65165)\u001b[0m   _descriptor.FieldDescriptor(\n",
      "\u001b[2m\u001b[36m(pid=65165)\u001b[0m /opt/homebrew/Caskroom/miniforge/base/envs/ray/lib/python3.8/site-packages/tensorflow/core/framework/tensor_pb2.py:33: DeprecationWarning: Call to deprecated create function Descriptor(). Note: Create unlinked descriptors is going to go away. Please use get/find descriptors from generated code or query the descriptor_pool.\n",
      "\u001b[2m\u001b[36m(pid=65165)\u001b[0m   _TENSORPROTO = _descriptor.Descriptor(\n",
      "\u001b[2m\u001b[36m(pid=65165)\u001b[0m /opt/homebrew/Caskroom/miniforge/base/envs/ray/lib/python3.8/site-packages/tensorflow/core/framework/attr_value_pb2.py:21: DeprecationWarning: Call to deprecated create function FileDescriptor(). Note: Create unlinked descriptors is going to go away. Please use get/find descriptors from generated code or query the descriptor_pool.\n",
      "\u001b[2m\u001b[36m(pid=65165)\u001b[0m   DESCRIPTOR = _descriptor.FileDescriptor(\n",
      "\u001b[2m\u001b[36m(pid=65165)\u001b[0m /opt/homebrew/Caskroom/miniforge/base/envs/ray/lib/python3.8/site-packages/tensorflow/core/framework/attr_value_pb2.py:40: DeprecationWarning: Call to deprecated create function FieldDescriptor(). Note: Create unlinked descriptors is going to go away. Please use get/find descriptors from generated code or query the descriptor_pool.\n",
      "\u001b[2m\u001b[36m(pid=65165)\u001b[0m   _descriptor.FieldDescriptor(\n",
      "\u001b[2m\u001b[36m(pid=65165)\u001b[0m /opt/homebrew/Caskroom/miniforge/base/envs/ray/lib/python3.8/site-packages/tensorflow/core/framework/attr_value_pb2.py:33: DeprecationWarning: Call to deprecated create function Descriptor(). Note: Create unlinked descriptors is going to go away. Please use get/find descriptors from generated code or query the descriptor_pool.\n",
      "\u001b[2m\u001b[36m(pid=65165)\u001b[0m   _ATTRVALUE_LISTVALUE = _descriptor.Descriptor(\n",
      "\u001b[2m\u001b[36m(pid=65165)\u001b[0m /opt/homebrew/Caskroom/miniforge/base/envs/ray/lib/python3.8/site-packages/flatbuffers/compat.py:19: DeprecationWarning: the imp module is deprecated in favour of importlib; see the module's documentation for alternative uses\n",
      "\u001b[2m\u001b[36m(pid=65165)\u001b[0m   import imp\n",
      "\u001b[2m\u001b[36m(pid=65165)\u001b[0m /opt/homebrew/Caskroom/miniforge/base/envs/ray/lib/python3.8/site-packages/keras/utils/image_utils.py:36: DeprecationWarning: NEAREST is deprecated and will be removed in Pillow 10 (2023-07-01). Use Resampling.NEAREST or Dither.NONE instead.\n",
      "\u001b[2m\u001b[36m(pid=65165)\u001b[0m   'nearest': pil_image.NEAREST,\n",
      "\u001b[2m\u001b[36m(pid=65165)\u001b[0m /opt/homebrew/Caskroom/miniforge/base/envs/ray/lib/python3.8/site-packages/keras/utils/image_utils.py:37: DeprecationWarning: BILINEAR is deprecated and will be removed in Pillow 10 (2023-07-01). Use Resampling.BILINEAR instead.\n",
      "\u001b[2m\u001b[36m(pid=65165)\u001b[0m   'bilinear': pil_image.BILINEAR,\n",
      "\u001b[2m\u001b[36m(pid=65165)\u001b[0m /opt/homebrew/Caskroom/miniforge/base/envs/ray/lib/python3.8/site-packages/keras/utils/image_utils.py:38: DeprecationWarning: BICUBIC is deprecated and will be removed in Pillow 10 (2023-07-01). Use Resampling.BICUBIC instead.\n",
      "\u001b[2m\u001b[36m(pid=65165)\u001b[0m   'bicubic': pil_image.BICUBIC,\n",
      "\u001b[2m\u001b[36m(pid=65165)\u001b[0m /opt/homebrew/Caskroom/miniforge/base/envs/ray/lib/python3.8/site-packages/keras/utils/image_utils.py:39: DeprecationWarning: HAMMING is deprecated and will be removed in Pillow 10 (2023-07-01). Use Resampling.HAMMING instead.\n",
      "\u001b[2m\u001b[36m(pid=65165)\u001b[0m   'hamming': pil_image.HAMMING,\n",
      "\u001b[2m\u001b[36m(pid=65165)\u001b[0m /opt/homebrew/Caskroom/miniforge/base/envs/ray/lib/python3.8/site-packages/keras/utils/image_utils.py:40: DeprecationWarning: BOX is deprecated and will be removed in Pillow 10 (2023-07-01). Use Resampling.BOX instead.\n",
      "\u001b[2m\u001b[36m(pid=65165)\u001b[0m   'box': pil_image.BOX,\n",
      "\u001b[2m\u001b[36m(pid=65165)\u001b[0m /opt/homebrew/Caskroom/miniforge/base/envs/ray/lib/python3.8/site-packages/keras/utils/image_utils.py:41: DeprecationWarning: LANCZOS is deprecated and will be removed in Pillow 10 (2023-07-01). Use Resampling.LANCZOS instead.\n",
      "\u001b[2m\u001b[36m(pid=65165)\u001b[0m   'lanczos': pil_image.LANCZOS,\n",
      "\u001b[2m\u001b[36m(pid=65165)\u001b[0m /opt/homebrew/Caskroom/miniforge/base/envs/ray/lib/python3.8/site-packages/tensorflow_probability/python/__init__.py:61: DeprecationWarning: distutils Version classes are deprecated. Use packaging.version instead.\n",
      "\u001b[2m\u001b[36m(pid=65165)\u001b[0m   if (distutils.version.LooseVersion(tf.__version__) <\n",
      "\u001b[2m\u001b[36m(pid=65165)\u001b[0m WARNING:tensorflow:From /opt/homebrew/Caskroom/miniforge/base/envs/ray/lib/python3.8/site-packages/tensorflow/python/util/deprecation.py:561: calling function (from tensorflow.python.eager.def_function) with experimental_relax_shapes is deprecated and will be removed in a future version.\n",
      "\u001b[2m\u001b[36m(pid=65165)\u001b[0m Instructions for updating:\n",
      "\u001b[2m\u001b[36m(pid=65165)\u001b[0m experimental_relax_shapes is deprecated, use reduce_retracing instead\n",
      "\u001b[2m\u001b[36m(DQN pid=65165)\u001b[0m 2022-09-16 10:40:13,838\tWARNING deprecation.py:47 -- DeprecationWarning: `ray.rllib.algorithms.dqn.dqn.DEFAULT_CONFIG` has been deprecated. Use `ray.rllib.algorithms.dqn.dqn.DQNConfig(...)` instead. This will raise an error in the future!\n",
      "\u001b[2m\u001b[36m(DQN pid=65165)\u001b[0m 2022-09-16 10:40:13,838\tINFO algorithm.py:2082 -- Your framework setting is 'tf', meaning you are using static-graph mode. Set framework='tf2' to enable eager execution with tf2.x. You may also then want to set eager_tracing=True in order to reach similar execution speed as with static-graph mode.\n",
      "\u001b[2m\u001b[36m(DQN pid=65165)\u001b[0m 2022-09-16 10:40:13,838\tWARNING deprecation.py:47 -- DeprecationWarning: `config['multiagent']['replay_mode']` has been deprecated. config['replay_buffer_config']['replay_mode'] This will raise an error in the future!\n",
      "\u001b[2m\u001b[36m(DQN pid=65165)\u001b[0m 2022-09-16 10:40:13,838\tINFO simple_q.py:303 -- In multi-agent mode, policies will be optimized sequentially by the multi-GPU optimizer. Consider setting `simple_optimizer=True` if this doesn't work for you.\n",
      "\u001b[2m\u001b[36m(DQN pid=65165)\u001b[0m 2022-09-16 10:40:13,841\tINFO algorithm.py:357 -- Current log_level is WARN. For more information, set 'log_level': 'INFO' / 'DEBUG' or use the -v and -vv flags.\n",
      "\u001b[2m\u001b[36m(DQN pid=65165)\u001b[0m /Users/kourosh/dev/workspace-project-gpu-workspace-kh/python/ray/_private/ray_option_utils.py:284: DeprecationWarning: Setting 'object_store_memory' for actors is deprecated since it doesn't actually reserve the required object store memory. Use object spilling that's enabled by default (https://docs.ray.io/en/master/ray-core/objects/object-spilling.html) instead to bypass the object store memory size limitation.\n",
      "\u001b[2m\u001b[36m(DQN pid=65165)\u001b[0m   warnings.warn(\n",
      "\u001b[2m\u001b[36m(DQN pid=65165)\u001b[0m 2022-09-16 10:40:17,821\tWARNING deprecation.py:47 -- DeprecationWarning: `simple_optimizer` has been deprecated. This will raise an error in the future!\n",
      "\u001b[2m\u001b[36m(DQN pid=65165)\u001b[0m 2022-09-16 10:40:17,821\tWARNING deprecation.py:47 -- DeprecationWarning: `config['multiagent']['replay_mode']` has been deprecated. config['replay_buffer_config']['replay_mode'] This will raise an error in the future!\n",
      "\u001b[2m\u001b[36m(DQN pid=65165)\u001b[0m /opt/homebrew/Caskroom/miniforge/base/envs/ray/lib/python3.8/site-packages/gin/tf/__init__.py:48: DeprecationWarning: distutils Version classes are deprecated. Use packaging.version instead.\n",
      "\u001b[2m\u001b[36m(DQN pid=65165)\u001b[0m   if (distutils.version.LooseVersion(tf.__version__) <\n",
      "\u001b[2m\u001b[36m(DQN pid=65165)\u001b[0m 2022-09-16 10:40:17,871\tWARNING env.py:142 -- Your env doesn't have a .spec.max_episode_steps attribute. This is fine if you have set 'horizon' in your config dictionary, or `soft_horizon`. However, if you haven't, 'horizon' will default to infinity, and your environment will not be reset.\n"
     ]
    },
    {
     "name": "stdout",
     "output_type": "stream",
     "text": [
      "\u001b[2m\u001b[36m(DQN pid=65165)\u001b[0m DatasetReader 0 has 100, samples.\n"
     ]
    },
    {
     "name": "stderr",
     "output_type": "stream",
     "text": [
      "\u001b[2m\u001b[36m(DQN pid=65165)\u001b[0m 2022-09-16 10:40:18,637\tWARNING util.py:66 -- Install gputil for GPU system monitoring.\n",
      "\u001b[2m\u001b[36m(DQN pid=65165)\u001b[0m 2022-09-16 10:40:19,534\tWARNING deprecation.py:47 -- DeprecationWarning: `ReplayBuffer.add_batch()` has been deprecated. Use `ReplayBuffer.add()` instead. This will raise an error in the future!\n",
      "\u001b[2m\u001b[36m(DQN pid=65165)\u001b[0m 2022-09-16 10:40:26,360\tWARNING deprecation.py:47 -- DeprecationWarning: `concat_samples` has been deprecated. Use `concat_samples() from rllib.policy.sample_batch` instead. This will raise an error in the future!\n"
     ]
    },
    {
     "data": {
      "text/html": [
       "<div class=\"trialProgress\">\n",
       "  <h3>Trial Progress</h3>\n",
       "  <table>\n",
       "<thead>\n",
       "<tr><th>Trial name          </th><th style=\"text-align: right;\">  agent_timesteps_total</th><th>counters                                                                                                                                                                            </th><th>custom_metrics  </th><th>date               </th><th>done  </th><th style=\"text-align: right;\">  episode_len_mean</th><th>episode_media  </th><th style=\"text-align: right;\">  episode_reward_max</th><th style=\"text-align: right;\">  episode_reward_mean</th><th style=\"text-align: right;\">  episode_reward_min</th><th style=\"text-align: right;\">  episodes_this_iter</th><th style=\"text-align: right;\">  episodes_total</th><th>evaluation                                                                                                                                                                                                                                                                                                                                                                                                                                                                                                                                                                                                                                                                                                                                                                                                                                                                                                                                                                                                                                   </th><th>experiment_id                   </th><th>hostname               </th><th>info  </th><th style=\"text-align: right;\">  iterations_since_restore</th><th>node_ip  </th><th style=\"text-align: right;\">  num_agent_steps_sampled</th><th style=\"text-align: right;\">  num_agent_steps_trained</th><th style=\"text-align: right;\">  num_env_steps_sampled</th><th style=\"text-align: right;\">  num_env_steps_sampled_this_iter</th><th style=\"text-align: right;\">  num_env_steps_trained</th><th style=\"text-align: right;\">  num_env_steps_trained_this_iter</th><th style=\"text-align: right;\">  num_faulty_episodes</th><th style=\"text-align: right;\">  num_healthy_workers</th><th style=\"text-align: right;\">  num_recreated_workers</th><th style=\"text-align: right;\">  num_steps_trained_this_iter</th><th>perf                                                                </th><th style=\"text-align: right;\">  pid</th><th>policy_reward_max  </th><th>policy_reward_mean  </th><th>policy_reward_min  </th><th>sampler_perf  </th><th>sampler_results                                                                                                                                                                                                                                                                                                                                                       </th><th style=\"text-align: right;\">  time_since_restore</th><th style=\"text-align: right;\">  time_this_iter_s</th><th style=\"text-align: right;\">  time_total_s</th><th>timers                                                                                                                                                                              </th><th style=\"text-align: right;\">  timestamp</th><th style=\"text-align: right;\">  timesteps_since_restore</th><th style=\"text-align: right;\">  timesteps_total</th><th style=\"text-align: right;\">  training_iteration</th><th>trial_id   </th><th style=\"text-align: right;\">  warmup_time</th></tr>\n",
       "</thead>\n",
       "<tbody>\n",
       "<tr><td>DQN_None_9c219_00000</td><td style=\"text-align: right;\">                   1024</td><td>{&#x27;num_env_steps_sampled&#x27;: 1024, &#x27;num_env_steps_trained&#x27;: 32, &#x27;num_agent_steps_sampled&#x27;: 1024, &#x27;num_agent_steps_trained&#x27;: 32, &#x27;last_target_update_ts&#x27;: 1024, &#x27;num_target_updates&#x27;: 1}</td><td>{}              </td><td>2022-09-16_10-40-26</td><td>True  </td><td style=\"text-align: right;\">               nan</td><td>{}             </td><td style=\"text-align: right;\">                 nan</td><td style=\"text-align: right;\">                  nan</td><td style=\"text-align: right;\">                 nan</td><td style=\"text-align: right;\">                   0</td><td style=\"text-align: right;\">               0</td><td>{&#x27;episode_reward_max&#x27;: 123.72624007752286, &#x27;episode_reward_min&#x27;: 91.77170300312751, &#x27;episode_reward_mean&#x27;: 106.54626415417022, &#x27;episode_len_mean&#x27;: 10.0, &#x27;episode_media&#x27;: {}, &#x27;episodes_this_iter&#x27;: 10, &#x27;policy_reward_min&#x27;: {}, &#x27;policy_reward_max&#x27;: {}, &#x27;policy_reward_mean&#x27;: {}, &#x27;custom_metrics&#x27;: {}, &#x27;hist_stats&#x27;: {&#x27;episode_reward&#x27;: [99.20319381064273, 114.58431149830305, 105.77463002614269, 104.2546325159897, 123.72624007752286, 113.724310883201, 103.14326853220415, 91.77170300312751, 111.5091498457418, 97.77120134882674], &#x27;episode_lengths&#x27;: [10, 10, 10, 10, 10, 10, 10, 10, 10, 10]}, &#x27;sampler_perf&#x27;: {&#x27;mean_raw_obs_processing_ms&#x27;: 0.7005965355599281, &#x27;mean_inference_ms&#x27;: 0.6371913569988592, &#x27;mean_action_processing_ms&#x27;: 0.027104179457862775, &#x27;mean_env_wait_ms&#x27;: 0.16684343319128053, &#x27;mean_env_render_ms&#x27;: 0.0}, &#x27;num_faulty_episodes&#x27;: 0, &#x27;num_agent_steps_sampled_this_iter&#x27;: 100, &#x27;num_env_steps_sampled_this_iter&#x27;: 100, &#x27;timesteps_this_iter&#x27;: 100, &#x27;num_healthy_workers&#x27;: 0, &#x27;num_recreated_workers&#x27;: 0}</td><td>82d94e19a2074eafa06e94998252d4b4</td><td>Kouroshs-MacBook-Pro-13</td><td>{&#x27;learner&#x27;: {&#x27;default_policy&#x27;: {&#x27;learner_stats&#x27;: {&#x27;cur_lr&#x27;: 0.0005000000237487257, &#x27;mean_q&#x27;: -0.015671823, &#x27;min_q&#x27;: -0.7128436, &#x27;max_q&#x27;: 0.8172291, &#x27;mean_td_error&#x27;: -14.410912, &#x27;model&#x27;: {}}, &#x27;td_error&#x27;: array([ -2.4671602, -47.228054 ,  -2.0665014, -26.59089  ,  -2.5970614,\n",
       "        -1.2217431,  -1.9884274,  -1.1730783, -19.121237 , -40.622494 ,\n",
       "        -1.6262618,  -1.9609916,  -2.4885855,  -1.5764354,  -2.3379889,\n",
       "        -1.993646 ,  -1.9785019,  -8.877396 , -80.83335  ,  -1.894833 ,\n",
       "       -55.23862  , -38.65941  , -55.23862  , -46.258427 ,  -1.2217431,\n",
       "        -2.5359395,  -1.9609916,  -1.6852688,  -2.1833062,  -2.4671602,\n",
       "        -1.5862249,  -1.4688587], dtype=float32), &#x27;custom_metrics&#x27;: {}, &#x27;num_agent_steps_trained&#x27;: 32.0}}, &#x27;num_env_steps_sampled&#x27;: 1024, &#x27;num_env_steps_trained&#x27;: 32, &#x27;num_agent_steps_sampled&#x27;: 1024, &#x27;num_agent_steps_trained&#x27;: 32, &#x27;last_target_update_ts&#x27;: 1024, &#x27;num_target_updates&#x27;: 1}       </td><td style=\"text-align: right;\">                         1</td><td>127.0.0.1</td><td style=\"text-align: right;\">                     1024</td><td style=\"text-align: right;\">                       32</td><td style=\"text-align: right;\">                   1024</td><td style=\"text-align: right;\">                             1024</td><td style=\"text-align: right;\">                     32</td><td style=\"text-align: right;\">                               32</td><td style=\"text-align: right;\">                    0</td><td style=\"text-align: right;\">                    0</td><td style=\"text-align: right;\">                      0</td><td style=\"text-align: right;\">                           32</td><td>{&#x27;cpu_util_percent&#x27;: 18.650000000000002, &#x27;ram_util_percent&#x27;: 73.525}</td><td style=\"text-align: right;\">65165</td><td>{}                 </td><td>{}                  </td><td>{}                 </td><td>{}            </td><td>{&#x27;episode_reward_max&#x27;: nan, &#x27;episode_reward_min&#x27;: nan, &#x27;episode_reward_mean&#x27;: nan, &#x27;episode_len_mean&#x27;: nan, &#x27;episode_media&#x27;: {}, &#x27;episodes_this_iter&#x27;: 0, &#x27;policy_reward_min&#x27;: {}, &#x27;policy_reward_max&#x27;: {}, &#x27;policy_reward_mean&#x27;: {}, &#x27;custom_metrics&#x27;: {}, &#x27;hist_stats&#x27;: {&#x27;episode_reward&#x27;: [], &#x27;episode_lengths&#x27;: []}, &#x27;sampler_perf&#x27;: {}, &#x27;num_faulty_episodes&#x27;: 0}</td><td style=\"text-align: right;\">             8.06543</td><td style=\"text-align: right;\">           8.06543</td><td style=\"text-align: right;\">       8.06543</td><td>{&#x27;training_iteration_time_ms&#x27;: 185.676, &#x27;load_time_ms&#x27;: 0.085, &#x27;load_throughput&#x27;: 375960.022, &#x27;learn_time_ms&#x27;: 118.783, &#x27;learn_throughput&#x27;: 269.399, &#x27;synch_weights_time_ms&#x27;: 0.025}</td><td style=\"text-align: right;\"> 1663350026</td><td style=\"text-align: right;\">                        0</td><td style=\"text-align: right;\">             1024</td><td style=\"text-align: right;\">                   1</td><td>9c219_00000</td><td style=\"text-align: right;\">      4.80785</td></tr>\n",
       "</tbody>\n",
       "</table>\n",
       "</div>\n",
       "<style>\n",
       ".trialProgress {\n",
       "  display: flex;\n",
       "  flex-direction: column;\n",
       "  color: var(--jp-ui-font-color1);\n",
       "}\n",
       ".trialProgress h3 {\n",
       "  font-weight: bold;\n",
       "}\n",
       ".trialProgress td {\n",
       "  white-space: nowrap;\n",
       "}\n",
       "</style>\n"
      ],
      "text/plain": [
       "<IPython.core.display.HTML object>"
      ]
     },
     "metadata": {},
     "output_type": "display_data"
    },
    {
     "name": "stderr",
     "output_type": "stream",
     "text": [
      "2022-09-16 10:40:27,208\tINFO tune.py:762 -- Total run time: 17.55 seconds (17.12 seconds for the tuning loop).\n"
     ]
    }
   ],
   "source": [
    "tuner = tune.Tuner(\n",
    "    DQN,\n",
    "    param_space=dqn_config_offline.to_dict(),\n",
    "    run_config=air.RunConfig(\n",
    "        local_dir=\"./results_notebook/offline_rl/\",\n",
    "        stop={\"training_iteration\": 1},\n",
    "    )\n",
    ")\n",
    "dqn_offline_results = tuner.fit()"
   ]
  },
  {
   "cell_type": "markdown",
   "metadata": {},
   "source": [
    "Let's now look at the offline training results. From the plot below we can see that by running offline RL on randomly collected transitions we can improve over the random policy. This is extremely useful in practical scenarios where our goal is to improve over existing production policies."
   ]
  },
  {
   "cell_type": "code",
   "execution_count": 35,
   "metadata": {},
   "outputs": [
    {
     "data": {
      "text/plain": [
       "<ray.tune.result_grid.ResultGrid at 0x299f10d90>"
      ]
     },
     "execution_count": 35,
     "metadata": {},
     "output_type": "execute_result"
    }
   ],
   "source": [
    "dqn_offline_results"
   ]
  },
  {
   "cell_type": "code",
   "execution_count": 36,
   "metadata": {},
   "outputs": [
    {
     "name": "stdout",
     "output_type": "stream",
     "text": [
      "Mean Episode reward:\n"
     ]
    },
    {
     "data": {
      "text/plain": [
       "106.54626415417022"
      ]
     },
     "execution_count": 36,
     "metadata": {},
     "output_type": "execute_result"
    }
   ],
   "source": [
    "print('Mean Episode reward:')\n",
    "dqn_offline_results[0].metrics['evaluation']['episode_reward_mean']"
   ]
  },
  {
   "cell_type": "code",
   "execution_count": 37,
   "metadata": {},
   "outputs": [],
   "source": [
    "# plot the results and compare to baselines\n",
    "offline_dqn_df = pd.read_csv(\"saved_runs/dqn_offline/random_data/progress.csv\")"
   ]
  },
  {
   "cell_type": "code",
   "execution_count": 38,
   "metadata": {},
   "outputs": [
    {
     "data": {
      "text/plain": [
       "Text(0.5, 1.0, 'Offline RL vs. Baselines training performance')"
      ]
     },
     "execution_count": 38,
     "metadata": {},
     "output_type": "execute_result"
    },
    {
     "data": {
      "image/png": "[encoded data removed]",
      "text/plain": [
       "<Figure size 432x288 with 1 Axes>"
      ]
     },
     "metadata": {
      "needs_background": "light"
     },
     "output_type": "display_data"
    }
   ],
   "source": [
    "\n",
    "sns.lineplot(data=offline_dqn_df, x=\"training_iteration\", y=\"evaluation/episode_reward_mean\", label=\"Offline_DQN\")\n",
    "sns.lineplot(data=dqn_df, x=\"training_iteration\", y=\"episode_reward_mean\", label=\"Online_DQN\")\n",
    "sns.lineplot(data=bandit_df, x=\"training_iteration\", y=\"episode_reward_mean\", label=\"Bandits\")\n",
    "plt.axhline(random_baseline, color=\"red\", linestyle='--', label=\"random baseline\")\n",
    "plt.legend()\n",
    "plt.title('Offline RL vs. Baselines training performance')"
   ]
  },
  {
   "cell_type": "markdown",
   "metadata": {},
   "source": [
    "## Conclusion\n",
    "\n",
    "- Bandits converges to a short-sighted solution\n",
    "    -  Optimizes imediate reward. \n",
    "- DQN takes long-term reward into account\n",
    "    -  Achieves a policy better than random.\n",
    "- Offline RL is a viable option that works when we don't have simulators for training\n",
    "    -  Since it doesn't explore freely it won't perform as good as an online RL method. \n",
    "    -  Its performance is bounded to the quality of the dataset.\n"
   ]
  },
  {
   "cell_type": "markdown",
   "metadata": {},
   "source": [
    "### References\n",
    "\n",
    "1. 📖 [Ray summit tutorials on RLlib](https://github.com/anyscale/ray-summit-2022-training/tree/main/ray-rllib)\n",
    "2. 👩‍ [RLlib Documentation](https://docs.ray.io/en/latest/rllib/index.html)"
   ]
  },
  {
   "cell_type": "markdown",
   "metadata": {},
   "source": [
    "## Thank you!\n",
    "\n",
    "<a href=\"https://docs.google.com/forms/d/1pxsMIPMxTTd2HH6710UOApx_smPDPPO0fpVWYKzvOgI/edit\">Survey</a> - Please let us know how useful you have found this tutorial.\n",
    "\n",
    "**We would love to connect with you!**\n",
    "\n",
    "**Twitter** - @anyscalecompute | @raydistributed <br>\n",
    "<b><a href=\"https://github.com/ray-project/ray\">Github</a></b> - 😜 give us a star!<br>\n",
    "<b><a href=\"https://www.ray.io/community\">Slack</a></b> - [+invitation link](https://docs.google.com/forms/d/e/1FAIpQLSfAcoiLCHOguOm8e7Jnn-JJdZaCxPGjgVCvFijHB5PLaQLeig/viewform)<br>\n",
    "<b><a href=\"https://discuss.ray.io/\">Discuss</a></b> - searchable questions <br>"
   ]
  }
 ],
 "metadata": {
  "kernelspec": {
   "display_name": "Python 3 (ipykernel)",
   "language": "python",
   "name": "python3"
  },
  "language_info": {
   "codemirror_mode": {
    "name": "ipython",
    "version": 3
   },
   "file_extension": ".py",
   "mimetype": "text/x-python",
   "name": "python",
   "nbconvert_exporter": "python",
   "pygments_lexer": "ipython3",
   "version": "3.8.13"
  },
  "vscode": {
   "interpreter": {
    "hash": "d33966b1efccf1b078b90327a99b4ed3697643ca9825566d91b27949ee9bb425"
   }
  }
 },
 "nbformat": 4,
 "nbformat_minor": 4
}

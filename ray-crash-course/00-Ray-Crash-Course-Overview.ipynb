{
 "cells": [
  {
   "cell_type": "markdown",
   "metadata": {},
   "source": [
    "# Ray \"Core Crash Course\" Overview\n",
    "\n",
    "© 2019-2022, Anyscale. All Rights Reserved\n",
    "\n",
    "![Anyscale Academy](../images/AnyscaleAcademyLogo.png)\n",
    "\n",
    "## Watch Ray Summit 2021 on demand!\n",
    "\n",
    "Ray Summit 2021 [virtual conference](https://www.anyscale.com/ray-summit-2021) was on June 22-24, 2021. We had an amazing lineup of luminar keynote speakers and breakout sessions on the Ray ecosystem, third-party Ray libraries, and applications of Ray in the real world.\n",
    "\n",
    "For information about other online events, see [anyscale.com/events](https://anyscale.com/events).\n",
    "\n",
    "\n",
    "## About This Tutorial\n",
    "\n",
    "[Video introduction 🎥](https://youtu.be/UAUs8ATEjOo) \n",
    "\n",
    "**Note**: The material has been updated to the lastest Ray version, so video presentation may not match with content. Some of the tutorials have been retired in this module, and they reside in nthe `retired` directory. We wanted these modules to be quick and simple and, therefore, remove all library dependencies on unecessary rendering \n",
    "packages.\n",
    "\n",
    "This tutorial, part of [Anyscale Academy](https://anyscale.com/academy), provides a \"just the facts\" introduction to [Ray](https://ray.io), the system for scaling your Python and ML applications from a laptop to a cluster. Here, we start with a hands on exploration of the core Ray API for distributed work loads:\n",
    "\n",
    "* Ray _tasks_: Distributed execution of _stateless_ Python functions.\n",
    "* Ray _actors_: Distributed execution of _stateful_ Python classes.\n",
    "* Ray _ObjectRef_: Distributed Object Store for storing Future ObjectRefs.\n",
    "\n",
    "Subsequent lessons explore the origin and goals for Ray, the rest of the core [Ray](https://ray.io) API ([documentation](https://ray.readthedocs.io/en/latest/package-ref.html)), working with Ray clusters using the `ray` command-line interface (CLI), Ray replacement versions of several popular multiprocessing APIs.\n",
    "\n",
    "Pick among those lessons according to your interests. \n",
    "\n",
    "> **Tips:**\n",
    ">\n",
    "> 1. See the instructions in the [README](../README.md) for setting up your environment to use this tutorial\n",
    "> 2. Having problems? See [Troubleshooting, Tips, and Tricks](../reference/Troubleshooting-Tips-Tricks.ipynb)\n",
    "> 3. Go [here](../Overview.ipynb) for an overview of all tutorials."
   ]
  },
  {
   "cell_type": "markdown",
   "metadata": {},
   "source": [
    "## Getting Help\n",
    "\n",
    "* The [#tutorial channel](https://ray-distributed.slack.com/archives/C011ML23W5B) on the [Ray Slack](https://ray-distributed.slack.com). [Click here](https://forms.gle/9TSdDYUgxYs8SA9e8) to join.\n",
    "* [Email](mailto:academy@anyscale.com)\n",
    "\n",
    "Find an issue? Please report it!\n",
    "\n",
    "* [GitHub issues](https://github.com/anyscale/academy/issues)"
   ]
  },
  {
   "cell_type": "markdown",
   "metadata": {},
   "source": [
    "## \"Crash Ray Core Course\" Tutorial Guide\n",
    "\n",
    "| #  | Lesson (Notebook)                                         | Description                               |\n",
    "| :- | :-------------------------------------------------------- | :---------------------------------------- |\n",
    "| 00 | [Overview](00-Ray-Crash-Course-Overview.ipynb)            | A _table of contents_ for this tutorial.  |\n",
    "| 01 | [Ray Tasks](01-Ray-Tasks.ipynb)                           | Understanding how Ray converts normal Python functions into distributed _stateless tasks_. |\n",
    "| 02 | [Ray Actors](02-Ray-Actors.ipynb)                         | Understanding how Ray converts normal Python classes into distributed, _stateful actors_.  |\n",
    "| 03 | [Ray Objects](03-Ray-Objects.ipynb)                         | Understanding Ray's distributed obect store  |\n",
    "| 04 | [Exploring Ray API Calls](04-Exploring-Ray-API-Calls.ipynb) | The Ray API has other API calls for more advanced scenarios, which are surveyed in this optional lesson. Keyword arguments you can pass to the API calls already learned are explored. |\n",
    "| 05 | [Running Ray Clusters](05-Running-Ray-Clusters.ipynb)     | A brief look at the Ray CLI commands for running Ray clusters. |\n",
    "| 06 | [Using Ray's Multiprocess Pool Library](06-Ray-multi-pool.ipynb)     | A brief look how you use Ray's dropin replacement for Multiprocess pool library. |\n"
   ]
  },
  {
   "cell_type": "markdown",
   "metadata": {},
   "source": [
    "In addition, exercise solutions for this tutorial can be found [here](solutions/Ray-Crash-Course-Solutions.ipynb)."
   ]
  },
  {
   "cell_type": "markdown",
   "metadata": {},
   "source": [
    "\n",
    "#### Give Us Feedback!\n",
    "\n",
    "Let us know what you like and don't like about this reinforcement learning and Ray RLlib tutorial.\n",
    "\n",
    "* [Survey](https://forms.gle/PKYkFvrAf5M3jL3B8)"
   ]
  }
 ],
 "metadata": {
  "kernelspec": {
   "display_name": "Python 3 (ipykernel)",
   "language": "python",
   "name": "python3"
  },
  "language_info": {
   "codemirror_mode": {
    "name": "ipython",
    "version": 3
   },
   "file_extension": ".py",
   "mimetype": "text/x-python",
   "name": "python",
   "nbconvert_exporter": "python",
   "pygments_lexer": "ipython3",
   "version": "3.8.12"
  }
 },
 "nbformat": 4,
 "nbformat_minor": 4
}
